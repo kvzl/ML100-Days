{
 "cells": [
  {
   "cell_type": "markdown",
   "metadata": {},
   "source": [
    "# 作業 1\n",
    "\n",
    "請上 Kaggle, 在 [Competitions](https://www.kaggle.com/competitions) 或 [Dataset](https://www.kaggle.com/datasets) 中找一組競賽或資料並寫下：\n",
    "\n",
    "## 挑選的資料集\n",
    "\n",
    "[Open Images Challenge](https://storage.googleapis.com/openimages/web/challenge.html)\n",
    "有兩個 competition 放在 Kaggle 上：\n",
    "- [Google AI Open Images - Object Detection Track](https://www.kaggle.com/c/google-ai-open-images-object-detection-track)\n",
    "- [Google AI Open Images - Visual Relationship Track](https://www.kaggle.com/c/google-ai-open-images-visual-relationship-track)\n",
    "\n",
    "## 這組資料為何重要\n",
    "\n",
    "雖然目前電腦視覺已經做的相當不錯，但在某些關鍵的地方還是和人類的直覺有些落差。這組 competitions 的目的是要訓練出更佳的模型，以提昇物件和視覺關係辨識的精準度。\n",
    "\n",
    "## 資料從何而來\n",
    "\n",
    "*(tips: 譬如提供者是誰、以什麼方式蒐集)*\n",
    "\n",
    "[Open Images DataSet](https://storage.googleapis.com/openimages/web/index.html)\n",
    "\n",
    "\n",
    "## 蒐集而來的資料型態為何\n",
    "\n",
    "- 非結構化的圖像\n",
    "- 分類用的標籤屬於結構化的 JSON 格式\n",
    "\n",
    "## 這組資料想解決的問題如何評估\n",
    "\n",
    "物件辨識的問題透過計算 500 多個類別的 mean Average Precision (mAP) 來評估。\n",
    "\n",
    "視覺關係辨識有兩個 task：relationships detection 和 phrase detection，分別使用以下指標：\n",
    "- Mean Average Precision of relationships detection\n",
    "- Recall@N of relationships detection\n",
    "- Mean Average Precision of phrase detection "
   ]
  },
  {
   "cell_type": "markdown",
   "metadata": {},
   "source": [
    "# 作業 2\n",
    "\n",
    "想像你經營一個自由載客車隊，你希望能透過數據分析以提升業績，請你思考並描述你如何規劃整體的分析/解決方案：\n",
    "\n",
    "\n",
    "## 核心問題為何\n",
    "\n",
    "*(tips：如何定義 「提升業績 & 你的假設」)*\n",
    "\n",
    "### 提升成交數\n",
    "\n",
    "透過分析什麼時段在什麼地點會有叫車需求，以提升成交數。\n",
    "\n",
    "### 車內廣告投放\n",
    "\n",
    "藉由分析乘客基本資料，投放適當的廣告。\n",
    "\n",
    "\n",
    "## 資料從何而來\n",
    "\n",
    "*(tips：哪些資料可能會對你想問的問題產生影響 & 資料如何蒐集)*\n",
    "\n",
    "透過 app 媒合司機及乘客，並蒐集相關資料。app 分為乘客端及司機端：\n",
    "- 乘客端須在 app 中輸入基本資料，可用來叫車並對乘車體驗給評價。\n",
    "- 司機端除了提供司機基本資料，也用來接收乘客的叫車需求。另外有非使用 app 叫車的乘客，可以透過司機端輸入粗略的乘客基本資料。\n",
    "\n",
    "\n",
    "## 蒐集而來的資料型態為何\n",
    "\n",
    "使用 JSON 表示的結構化資料，且應有以下資料實體：\n",
    "- 使用者：性別、年齡、職業、出身地\n",
    "- 司機：性別、年齡\n",
    "- 交易：金額、建立時間、上車時間、下車時間、地點、交易是否成立\n",
    "- 回饋：文字評價、分數評價\n",
    "\n",
    "\n",
    "## 如何評估\n",
    "\n",
    "*(tips：你的假設如何驗證)*\n",
    "\n",
    "> TODO: 深入了解 Evaluation Metrics 後，再回來補完\n",
    "\n",
    "### 提升成交數\n",
    "\n",
    "Accuracy\n",
    "\n",
    "### 車內廣告投放\n",
    "\n",
    "Accuracy\n"
   ]
  },
  {
   "cell_type": "markdown",
   "metadata": {},
   "source": [
    "# 作業 3\n",
    "\n",
    "## 練習時間\n",
    "#### 請寫一個函式用來計算 Mean Square Error\n",
    "$ MSE = \\frac{1}{n}\\sum_{i=1}^{n}{(Y_i - \\hat{Y}_i)^2} $\n",
    "\n",
    "### Hint: [如何取平方](https://googoodesign.gitbooks.io/-ezpython/unit-1.html)"
   ]
  },
  {
   "cell_type": "code",
   "execution_count": 3,
   "metadata": {},
   "outputs": [],
   "source": [
    "import numpy as np\n",
    "import matplotlib.pyplot as plt"
   ]
  },
  {
   "cell_type": "code",
   "execution_count": 58,
   "metadata": {},
   "outputs": [],
   "source": [
    "def mean_squared_error(y, y_hat):\n",
    "    \"\"\"\n",
    "    一開始直覺的寫法：\n",
    "    n = len(y)\n",
    "    return sum([ (y[i] - y_hat[i]) ** 2 for i in range(0, n) ]) / n\n",
    "    \"\"\"\n",
    "    return sum((y - y_hat) ** 2) / len(y)\n",
    "\n",
    "def mean_absolute_error(y, y_hat):\n",
    "    return sum(abs(y - y_hat)) / len(y)"
   ]
  },
  {
   "cell_type": "code",
   "execution_count": 65,
   "metadata": {},
   "outputs": [
    {
     "data": {
      "image/png": "[encoded data removed]",
      "text/plain": [
       "<Figure size 432x288 with 1 Axes>"
      ]
     },
     "metadata": {
      "needs_background": "light"
     },
     "output_type": "display_data"
    }
   ],
   "source": [
    "w = 3\n",
    "b = 0.5\n",
    "\n",
    "# 產生一個將 0~100 分割為 101 等分的等距數列\n",
    "x_lin = np.linspace(0, 100, 101)\n",
    "\n",
    "# 將數列和長度為101的隨機數列相加\n",
    "# （也可說是所有數值加上一個 5 倍的隨機值）\n",
    "# 再全部乘 w 加 b\n",
    "y = (x_lin + np.random.randn(101) * 5) * w + b\n",
    "\n",
    "plt.plot(x_lin, y, 'b.', label = 'data points')\n",
    "plt.title(\"Assume we have data points\")\n",
    "plt.legend(loc = 2)\n",
    "plt.show()"
   ]
  },
  {
   "cell_type": "code",
   "execution_count": 61,
   "metadata": {},
   "outputs": [
    {
     "data": {
      "image/png": "[encoded data removed]",
      "text/plain": [
       "<Figure size 432x288 with 1 Axes>"
      ]
     },
     "metadata": {
      "needs_background": "light"
     },
     "output_type": "display_data"
    }
   ],
   "source": [
    "y_hat = x_lin * w + b\n",
    "plt.plot(x_lin, y, 'b.', label = 'data')\n",
    "plt.plot(x_lin, y_hat, 'r-', label = 'prediction')\n",
    "plt.title(\"Assume we have data points (And the prediction)\")\n",
    "plt.legend(loc = 2)\n",
    "plt.show()"
   ]
  },
  {
   "cell_type": "code",
   "execution_count": 62,
   "metadata": {},
   "outputs": [
    {
     "name": "stdout",
     "output_type": "stream",
     "text": [
      "The Mean squared error is 242.895\n",
      "The Mean absolute error is 12.824\n"
     ]
    }
   ],
   "source": [
    "# 執行 Function, 確認有沒有正常執行\n",
    "MSE = mean_squared_error(y, y_hat)\n",
    "MAE = mean_absolute_error(y, y_hat)\n",
    "print(\"The Mean squared error is %.3f\" % (MSE))\n",
    "print(\"The Mean absolute error is %.3f\" % (MAE))"
   ]
  },
  {
   "cell_type": "code",
   "execution_count": null,
   "metadata": {},
   "outputs": [],
   "source": []
  }
 ],
 "metadata": {
  "anaconda-cloud": {},
  "kernelspec": {
   "display_name": "Python 3",
   "language": "python",
   "name": "python3"
  },
  "language_info": {
   "codemirror_mode": {
    "name": "ipython",
    "version": 3
   },
   "file_extension": ".py",
   "mimetype": "text/x-python",
   "name": "python",
   "nbconvert_exporter": "python",
   "pygments_lexer": "ipython3",
   "version": "3.6.6"
  }
 },
 "nbformat": 4,
 "nbformat_minor": 1
}
