{
 "cells": [
  {
   "cell_type": "markdown",
   "metadata": {},
   "source": [
    "## 練習時間\n",
    "試著使用 sklearn datasets 的其他資料集 (boston, ...)，來訓練自己的線性迴歸模型，並加上適當的正則話來觀察訓練情形。"
   ]
  },
  {
   "cell_type": "code",
   "execution_count": 8,
   "metadata": {},
   "outputs": [],
   "source": [
    "import numpy as np\n",
    "import matplotlib.pyplot as plt\n",
    "import pandas as pd\n",
    "from sklearn import datasets\n",
    "from sklearn.linear_model import LinearRegression, Lasso, Ridge\n",
    "from sklearn.model_selection import train_test_split\n",
    "from sklearn.metrics import mean_squared_error, r2_score, accuracy_score\n",
    "\n",
    "import warnings\n",
    "warnings.simplefilter('ignore')"
   ]
  },
  {
   "cell_type": "markdown",
   "metadata": {},
   "source": [
    "# Linear Regression"
   ]
  },
  {
   "cell_type": "code",
   "execution_count": 14,
   "metadata": {},
   "outputs": [
    {
     "name": "stdout",
     "output_type": "stream",
     "text": [
      "Coefficients:  [[-1.21310401e-01  4.44664254e-02  1.13416945e-02  2.51124642e+00\n",
      "  -1.62312529e+01  3.85906801e+00 -9.98516565e-03 -1.50026956e+00\n",
      "   2.42143466e-01 -1.10716124e-02 -1.01775264e+00  6.81446545e-03\n",
      "  -4.86738066e-01]]\n",
      "R2: 0.673382550640\n",
      "MSE: 27.195965766883\n"
     ]
    }
   ],
   "source": [
    "# 讀取資料\n",
    "boston = datasets.load_boston()\n",
    "\n",
    "# 資料特徵、目標值\n",
    "X = pd.DataFrame(boston.data, columns = boston.feature_names)\n",
    "Y = pd.DataFrame(boston.target, columns = ['target'])\n",
    "\n",
    "# 切分資料\n",
    "X_train, X_test, Y_train, Y_test = train_test_split(X, Y, test_size=0.3, random_state=0)\n",
    "\n",
    "# 訓練模型\n",
    "model = LinearRegression()\n",
    "model.fit(X_train, Y_train)\n",
    "\n",
    "# 預測結果\n",
    "Y_pred = model.predict(X_test)\n",
    "print('Coefficients: ', model.coef_)\n",
    "print('R2: %.12f' % r2_score(Y_test, Y_pred))\n",
    "print('MSE: %.12f' % mean_squared_error(Y_test, Y_pred))"
   ]
  },
  {
   "cell_type": "markdown",
   "metadata": {},
   "source": [
    "# Lasso"
   ]
  },
  {
   "cell_type": "code",
   "execution_count": 15,
   "metadata": {},
   "outputs": [
    {
     "name": "stdout",
     "output_type": "stream",
     "text": [
      "Coefficients:  [-0.06586193  0.04832933 -0.          0.         -0.          0.86898466\n",
      "  0.01217999 -0.75109378  0.2000743  -0.01395062 -0.84602363  0.00668818\n",
      " -0.73266568]\n",
      "R2: 0.611543335960\n",
      "MSE: 32.345038998569\n"
     ]
    }
   ],
   "source": [
    "# 讀取資料\n",
    "boston = datasets.load_boston()\n",
    "\n",
    "# 資料特徵、目標值\n",
    "X = pd.DataFrame(boston.data, columns = boston.feature_names)\n",
    "Y = pd.DataFrame(boston.target, columns = ['target'])\n",
    "\n",
    "# 切分資料\n",
    "X_train, X_test, Y_train, Y_test = train_test_split(X, Y, test_size=0.3, random_state=0)\n",
    "\n",
    "# 訓練模型\n",
    "model = Lasso(alpha=1.0)\n",
    "model.fit(X_train, Y_train)\n",
    "\n",
    "# 預測結果\n",
    "Y_pred = model.predict(X_test)\n",
    "print('Coefficients: ', model.coef_)\n",
    "print('R2: %.12f' % r2_score(Y_test, Y_pred))\n",
    "print('MSE: %.12f' % mean_squared_error(Y_test, Y_pred))"
   ]
  },
  {
   "cell_type": "markdown",
   "metadata": {},
   "source": [
    "# Ridge"
   ]
  },
  {
   "cell_type": "code",
   "execution_count": 16,
   "metadata": {},
   "outputs": [
    {
     "name": "stdout",
     "output_type": "stream",
     "text": [
      "Coefficients:  [[-1.18308575e-01  4.61259764e-02 -2.08626416e-02  2.45868617e+00\n",
      "  -8.25958494e+00  3.89748516e+00 -1.79140171e-02 -1.39737175e+00\n",
      "   2.18432298e-01 -1.16338128e-02 -9.31711410e-01  7.26996266e-03\n",
      "  -4.94046539e-01]]\n",
      "R2: 0.666581909149\n",
      "MSE: 27.762224592167\n"
     ]
    }
   ],
   "source": [
    "# 讀取資料\n",
    "boston = datasets.load_boston()\n",
    "\n",
    "# 資料特徵、目標值\n",
    "X = pd.DataFrame(boston.data, columns = boston.feature_names)\n",
    "Y = pd.DataFrame(boston.target, columns = ['target'])\n",
    "\n",
    "# 切分資料\n",
    "X_train, X_test, Y_train, Y_test = train_test_split(X, Y, test_size=0.3, random_state=0)\n",
    "\n",
    "# 訓練模型\n",
    "model = Ridge(alpha=1.0)\n",
    "model.fit(X_train, Y_train)\n",
    "\n",
    "# 預測結果\n",
    "Y_pred = model.predict(X_test)\n",
    "print('Coefficients: ', model.coef_)\n",
    "print('R2: %.12f' % r2_score(Y_test, Y_pred))\n",
    "print('MSE: %.12f' % mean_squared_error(Y_test, Y_pred))"
   ]
  },
  {
   "cell_type": "code",
   "execution_count": null,
   "metadata": {},
   "outputs": [],
   "source": []
  }
 ],
 "metadata": {
  "kernelspec": {
   "display_name": "Python 3",
   "language": "python",
   "name": "python3"
  },
  "language_info": {
   "codemirror_mode": {
    "name": "ipython",
    "version": 3
   },
   "file_extension": ".py",
   "mimetype": "text/x-python",
   "name": "python",
   "nbconvert_exporter": "python",
   "pygments_lexer": "ipython3",
   "version": "3.6.6"
  }
 },
 "nbformat": 4,
 "nbformat_minor": 2
}
