{
 "cells": [
  {
   "cell_type": "code",
   "execution_count": 16,
   "metadata": {},
   "outputs": [],
   "source": [
    "import numpy as np\n",
    "\n",
    "#Input array\n",
    "X = np.array([[1, 0, 1, 0], [1 ,0 ,1 ,1 ],[ 0 , 1 , 0 , 1 ]])\n",
    "\n",
    "#Output\n",
    "y = np.array([[1], [1], [0]])"
   ]
  },
  {
   "cell_type": "code",
   "execution_count": 17,
   "metadata": {},
   "outputs": [],
   "source": [
    "#Sigmoid Function\n",
    "def sigmoid(x): \n",
    "    return  1/(1+np.exp(-x))\n",
    "\n",
    "#Derivative of Sigmoid Function\n",
    "def derivatives_sigmoid(x): \n",
    "    return x*(1-x)"
   ]
  },
  {
   "cell_type": "code",
   "execution_count": 18,
   "metadata": {},
   "outputs": [],
   "source": [
    "#Variable initialization\n",
    "epoch = 5000 #Setting training iterations\n",
    "lr = 0.1 #Setting learning rate\n",
    "inputlayer_neurons = X.shape[1] #number of features in data set \n",
    "hiddenlayer_neurons = 3 #number of hidden layers neurons\n",
    "output_neurons = 1 #number of neurons at output layer"
   ]
  },
  {
   "cell_type": "code",
   "execution_count": 19,
   "metadata": {},
   "outputs": [],
   "source": [
    "#weight and bias initialization\n",
    "wh = np.random.uniform( size = ( inputlayer_neurons , hiddenlayer_neurons ) ) \n",
    "bh = np.random.uniform( size = ( 1 , hiddenlayer_neurons ) ) \n",
    "wout = np.random.uniform( size = ( hiddenlayer_neurons , output_neurons ) ) \n",
    "bout = np.random.uniform( size = ( 1 , output_neurons ) )"
   ]
  },
  {
   "cell_type": "markdown",
   "metadata": {
    "collapsed": true
   },
   "source": [
    "# 作業 \n",
    "* 請參閱範例中的 hidden Layer 寫法, 完成 output Layer 的程式"
   ]
  },
  {
   "cell_type": "code",
   "execution_count": 20,
   "metadata": {},
   "outputs": [
    {
     "name": "stdout",
     "output_type": "stream",
     "text": [
      "output of Forward Propogation:\n",
      "[[0.81412126]\n",
      " [0.82104475]\n",
      " [0.83504591]]\n",
      "wout,bout of Backpropagation:\n",
      "[[0.49396504]\n",
      " [0.91989927]\n",
      " [0.55453051]],\n",
      "[[0.13611729]]\n"
     ]
    }
   ],
   "source": [
    "for i in range(epoch):\n",
    "    #Forward Propogation\n",
    "    hiddenlayer_input = np.dot(X, wh) + bh\n",
    "    hiddenlayer_activations =  sigmoid(hiddenlayer_input) \n",
    "    '''\n",
    "    寫出output Layer\n",
    "    '''\n",
    "    outputlayer_input = np.dot(hiddenlayer_activations, wout) + bout\n",
    "    output = sigmoid(outputlayer_input)\n",
    "    \n",
    "print(\"output of Forward Propogation:\\n{}\".format(output))\n",
    "print(\"wout,bout of Backpropagation:\\n{},\\n{}\".format(wout, bout))"
   ]
  },
  {
   "cell_type": "code",
   "execution_count": null,
   "metadata": {},
   "outputs": [],
   "source": []
  }
 ],
 "metadata": {
  "kernelspec": {
   "display_name": "Python 3",
   "language": "python",
   "name": "python3"
  },
  "language_info": {
   "codemirror_mode": {
    "name": "ipython",
    "version": 3
   },
   "file_extension": ".py",
   "mimetype": "text/x-python",
   "name": "python",
   "nbconvert_exporter": "python",
   "pygments_lexer": "ipython3",
   "version": "3.6.6"
  }
 },
 "nbformat": 4,
 "nbformat_minor": 2
}
