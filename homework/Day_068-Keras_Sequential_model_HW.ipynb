{
  "nbformat": 4,
  "nbformat_minor": 0,
  "metadata": {
    "colab": {
      "name": "Untitled0.ipynb",
      "version": "0.3.2",
      "provenance": []
    },
    "kernelspec": {
      "name": "python3",
      "display_name": "Python 3"
    },
    "accelerator": "GPU"
  },
  "cells": [
    {
      "metadata": {
        "id": "hW2Ez3GgmA6B",
        "colab_type": "code",
        "colab": {
          "base_uri": "https://localhost:8080/",
          "height": 34
        },
        "outputId": "608d8739-45b2-490f-8cef-98ec71d1580c"
      },
      "cell_type": "code",
      "source": [
        "# 載入必須使用的 Library\n",
        "import keras\n",
        "from keras.datasets import cifar100\n",
        "from keras.models import Sequential, load_model\n",
        "from keras.layers import Dense, Dropout, Activation, Flatten\n",
        "from keras.layers import Conv2D, MaxPooling2D\n"
      ],
      "execution_count": 1,
      "outputs": [
        {
          "output_type": "stream",
          "text": [
            "Using TensorFlow backend.\n"
          ],
          "name": "stderr"
        }
      ]
    },
    {
      "metadata": {
        "id": "cgqKVTWYmDCx",
        "colab_type": "code",
        "colab": {
          "base_uri": "https://localhost:8080/",
          "height": 51
        },
        "outputId": "da5f51b5-4cfe-44ab-d463-909409d8d49d"
      },
      "cell_type": "code",
      "source": [
        "(x_train, y_train), (x_test, y_test) = cifar100.load_data(label_mode='coarse')\n",
        "x_train = x_train.astype('float32') / 255.0\n",
        "x_test = x_test.astype('float32') / 255.0\n",
        "y_train = keras.utils.to_categorical(y_train)\n",
        "y_test = keras.utils.to_categorical(y_test)"
      ],
      "execution_count": 2,
      "outputs": [
        {
          "output_type": "stream",
          "text": [
            "Downloading data from https://www.cs.toronto.edu/~kriz/cifar-100-python.tar.gz\n",
            "169009152/169001437 [==============================] - 56s 0us/step\n"
          ],
          "name": "stdout"
        }
      ]
    },
    {
      "metadata": {
        "id": "QfTmqynWmEin",
        "colab_type": "code",
        "colab": {
          "base_uri": "https://localhost:8080/",
          "height": 513
        },
        "outputId": "e9736859-b33d-4f51-c39a-a6e1304e478e"
      },
      "cell_type": "code",
      "source": [
        "batch_size = 16\n",
        "num_classes = 20\n",
        "epochs = 10\n",
        "\n",
        "# build our CNN model, 多加幾層\n",
        "model = Sequential()\n",
        "model.add(Conv2D(64, (3, 3), padding='same', input_shape=x_train.shape[1:]))\n",
        "model.add(Flatten())\n",
        "model.add(Dense(512))\n",
        "model.add(Activation('relu'))\n",
        "model.add(Dropout(0.5))\n",
        "model.add(Dense(num_classes))\n",
        "model.add(Activation('softmax'))\n",
        "\n",
        "print(model.summary())"
      ],
      "execution_count": 3,
      "outputs": [
        {
          "output_type": "stream",
          "text": [
            "WARNING:tensorflow:From /usr/local/lib/python3.6/dist-packages/tensorflow/python/framework/op_def_library.py:263: colocate_with (from tensorflow.python.framework.ops) is deprecated and will be removed in a future version.\n",
            "Instructions for updating:\n",
            "Colocations handled automatically by placer.\n",
            "WARNING:tensorflow:From /usr/local/lib/python3.6/dist-packages/keras/backend/tensorflow_backend.py:3445: calling dropout (from tensorflow.python.ops.nn_ops) with keep_prob is deprecated and will be removed in a future version.\n",
            "Instructions for updating:\n",
            "Please use `rate` instead of `keep_prob`. Rate should be set to `rate = 1 - keep_prob`.\n",
            "_________________________________________________________________\n",
            "Layer (type)                 Output Shape              Param #   \n",
            "=================================================================\n",
            "conv2d_1 (Conv2D)            (None, 32, 32, 64)        1792      \n",
            "_________________________________________________________________\n",
            "flatten_1 (Flatten)          (None, 65536)             0         \n",
            "_________________________________________________________________\n",
            "dense_1 (Dense)              (None, 512)               33554944  \n",
            "_________________________________________________________________\n",
            "activation_1 (Activation)    (None, 512)               0         \n",
            "_________________________________________________________________\n",
            "dropout_1 (Dropout)          (None, 512)               0         \n",
            "_________________________________________________________________\n",
            "dense_2 (Dense)              (None, 20)                10260     \n",
            "_________________________________________________________________\n",
            "activation_2 (Activation)    (None, 20)                0         \n",
            "=================================================================\n",
            "Total params: 33,566,996\n",
            "Trainable params: 33,566,996\n",
            "Non-trainable params: 0\n",
            "_________________________________________________________________\n",
            "None\n"
          ],
          "name": "stdout"
        }
      ]
    },
    {
      "metadata": {
        "id": "nlEpKVwkmFzH",
        "colab_type": "code",
        "colab": {
          "base_uri": "https://localhost:8080/",
          "height": 459
        },
        "outputId": "67e8582f-0951-433a-913f-b6342c559e31"
      },
      "cell_type": "code",
      "source": [
        "# initiate Adam optimizer\n",
        "opt = keras.optimizers.Adam()\n",
        "\n",
        "# Let's train the model using Adam\n",
        "model.compile(loss='categorical_crossentropy',optimizer=opt,metrics=['accuracy'])\n",
        "\n",
        "model_history = model.fit(x_train, y_train, validation_split=0.2, epochs=10, batch_size=128, verbose=1)  \n",
        "\n",
        "# Score trained model.\n",
        "scores = model.evaluate(x_test, y_test, verbose=1)\n",
        "print('Test accuracy:', scores[1])"
      ],
      "execution_count": 4,
      "outputs": [
        {
          "output_type": "stream",
          "text": [
            "WARNING:tensorflow:From /usr/local/lib/python3.6/dist-packages/tensorflow/python/ops/math_ops.py:3066: to_int32 (from tensorflow.python.ops.math_ops) is deprecated and will be removed in a future version.\n",
            "Instructions for updating:\n",
            "Use tf.cast instead.\n",
            "Train on 40000 samples, validate on 10000 samples\n",
            "Epoch 1/10\n",
            "40000/40000 [==============================] - 28s 701us/step - loss: 3.0739 - acc: 0.1526 - val_loss: 2.5184 - val_acc: 0.2256\n",
            "Epoch 2/10\n",
            "40000/40000 [==============================] - 22s 555us/step - loss: 2.5597 - acc: 0.2135 - val_loss: 2.3978 - val_acc: 0.2731\n",
            "Epoch 3/10\n",
            "40000/40000 [==============================] - 22s 555us/step - loss: 2.4760 - acc: 0.2372 - val_loss: 2.3895 - val_acc: 0.2730\n",
            "Epoch 4/10\n",
            "40000/40000 [==============================] - 22s 554us/step - loss: 2.4142 - acc: 0.2545 - val_loss: 2.3298 - val_acc: 0.2998\n",
            "Epoch 5/10\n",
            "40000/40000 [==============================] - 22s 556us/step - loss: 2.3641 - acc: 0.2698 - val_loss: 2.3204 - val_acc: 0.3006\n",
            "Epoch 6/10\n",
            "40000/40000 [==============================] - 22s 556us/step - loss: 2.3162 - acc: 0.2819 - val_loss: 2.2773 - val_acc: 0.3077\n",
            "Epoch 7/10\n",
            "40000/40000 [==============================] - 22s 555us/step - loss: 2.2748 - acc: 0.2952 - val_loss: 2.2897 - val_acc: 0.3082\n",
            "Epoch 8/10\n",
            "40000/40000 [==============================] - 22s 555us/step - loss: 2.2290 - acc: 0.3091 - val_loss: 2.2500 - val_acc: 0.3204\n",
            "Epoch 9/10\n",
            "40000/40000 [==============================] - 22s 557us/step - loss: 2.1711 - acc: 0.3266 - val_loss: 2.2776 - val_acc: 0.3157\n",
            "Epoch 10/10\n",
            "40000/40000 [==============================] - 22s 557us/step - loss: 2.1289 - acc: 0.3368 - val_loss: 2.2894 - val_acc: 0.3079\n",
            "10000/10000 [==============================] - 2s 171us/step\n",
            "Test accuracy: 0.3078\n"
          ],
          "name": "stdout"
        }
      ]
    },
    {
      "metadata": {
        "id": "fX7okwOwmr0p",
        "colab_type": "code",
        "colab": {}
      },
      "cell_type": "code",
      "source": [
        ""
      ],
      "execution_count": 0,
      "outputs": []
    }
  ]
}