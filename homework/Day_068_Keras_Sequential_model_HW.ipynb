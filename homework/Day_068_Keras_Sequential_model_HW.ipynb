{
  "nbformat": 4,
  "nbformat_minor": 0,
  "metadata": {
    "colab": {
      "name": "Day_068-Keras_Sequential_model_HW.ipynb",
      "version": "0.3.2",
      "provenance": [],
      "collapsed_sections": []
    },
    "kernelspec": {
      "name": "python3",
      "display_name": "Python 3"
    },
    "accelerator": "GPU"
  },
  "cells": [
    {
      "metadata": {
        "id": "hW2Ez3GgmA6B",
        "colab_type": "code",
        "colab": {}
      },
      "cell_type": "code",
      "source": [
        "# 載入必須使用的 Library\n",
        "import keras\n",
        "from keras.datasets import cifar100\n",
        "from keras.models import Sequential, load_model\n",
        "from keras.layers import Dense, Dropout, Activation, Flatten\n",
        "from keras.layers import Conv2D, MaxPooling2D\n"
      ],
      "execution_count": 0,
      "outputs": []
    },
    {
      "metadata": {
        "id": "cgqKVTWYmDCx",
        "colab_type": "code",
        "colab": {}
      },
      "cell_type": "code",
      "source": [
        "(x_train, y_train), (x_test, y_test) = cifar100.load_data(label_mode='coarse')\n",
        "x_train = x_train.astype('float32') / 255.0\n",
        "x_test = x_test.astype('float32') / 255.0\n",
        "y_train = keras.utils.to_categorical(y_train)\n",
        "y_test = keras.utils.to_categorical(y_test)"
      ],
      "execution_count": 0,
      "outputs": []
    },
    {
      "metadata": {
        "id": "QfTmqynWmEin",
        "colab_type": "code",
        "colab": {
          "base_uri": "https://localhost:8080/",
          "height": 765
        },
        "outputId": "cab0f349-d723-4a6b-e574-15d32a9af603"
      },
      "cell_type": "code",
      "source": [
        "num_classes = 20\n",
        "\n",
        "# build our CNN model, 多加幾層\n",
        "model = Sequential()\n",
        "\n",
        "model.add(Conv2D(32, (3, 3), padding='same',\n",
        "                        input_shape=x_train.shape[1:]))\n",
        "model.add(Activation('relu'))\n",
        "model.add(Conv2D(32, (3, 3)))\n",
        "model.add(Activation('relu'))\n",
        "model.add(MaxPooling2D(pool_size=(2, 2)))\n",
        "model.add(Dropout(0.25))\n",
        "\n",
        "model.add(Conv2D(64, (3, 3), padding='same'))\n",
        "model.add(Activation('relu'))\n",
        "model.add(Conv2D(64, (3, 3)))\n",
        "model.add(Activation('relu'))\n",
        "model.add(MaxPooling2D(pool_size=(2, 2)))\n",
        "model.add(Dropout(0.25))\n",
        "\n",
        "model.add(Flatten())\n",
        "model.add(Dense(512))\n",
        "model.add(Activation('relu'))\n",
        "model.add(Dropout(0.5))\n",
        "model.add(Dense(num_classes))\n",
        "model.add(Activation('softmax'))\n",
        "\n",
        "print(model.summary())"
      ],
      "execution_count": 27,
      "outputs": [
        {
          "output_type": "stream",
          "text": [
            "_________________________________________________________________\n",
            "Layer (type)                 Output Shape              Param #   \n",
            "=================================================================\n",
            "conv2d_26 (Conv2D)           (None, 32, 32, 32)        896       \n",
            "_________________________________________________________________\n",
            "activation_40 (Activation)   (None, 32, 32, 32)        0         \n",
            "_________________________________________________________________\n",
            "conv2d_27 (Conv2D)           (None, 30, 30, 32)        9248      \n",
            "_________________________________________________________________\n",
            "activation_41 (Activation)   (None, 30, 30, 32)        0         \n",
            "_________________________________________________________________\n",
            "max_pooling2d_13 (MaxPooling (None, 15, 15, 32)        0         \n",
            "_________________________________________________________________\n",
            "dropout_20 (Dropout)         (None, 15, 15, 32)        0         \n",
            "_________________________________________________________________\n",
            "conv2d_28 (Conv2D)           (None, 15, 15, 64)        18496     \n",
            "_________________________________________________________________\n",
            "activation_42 (Activation)   (None, 15, 15, 64)        0         \n",
            "_________________________________________________________________\n",
            "conv2d_29 (Conv2D)           (None, 13, 13, 64)        36928     \n",
            "_________________________________________________________________\n",
            "activation_43 (Activation)   (None, 13, 13, 64)        0         \n",
            "_________________________________________________________________\n",
            "max_pooling2d_14 (MaxPooling (None, 6, 6, 64)          0         \n",
            "_________________________________________________________________\n",
            "dropout_21 (Dropout)         (None, 6, 6, 64)          0         \n",
            "_________________________________________________________________\n",
            "flatten_10 (Flatten)         (None, 2304)              0         \n",
            "_________________________________________________________________\n",
            "dense_20 (Dense)             (None, 512)               1180160   \n",
            "_________________________________________________________________\n",
            "activation_44 (Activation)   (None, 512)               0         \n",
            "_________________________________________________________________\n",
            "dropout_22 (Dropout)         (None, 512)               0         \n",
            "_________________________________________________________________\n",
            "dense_21 (Dense)             (None, 20)                10260     \n",
            "_________________________________________________________________\n",
            "activation_45 (Activation)   (None, 20)                0         \n",
            "=================================================================\n",
            "Total params: 1,255,988\n",
            "Trainable params: 1,255,988\n",
            "Non-trainable params: 0\n",
            "_________________________________________________________________\n",
            "None\n"
          ],
          "name": "stdout"
        }
      ]
    },
    {
      "metadata": {
        "id": "nlEpKVwkmFzH",
        "colab_type": "code",
        "colab": {
          "base_uri": "https://localhost:8080/",
          "height": 408
        },
        "outputId": "5803ce9c-d582-4812-9192-cb5a22bb3cb0"
      },
      "cell_type": "code",
      "source": [
        "batch_size = 128\n",
        "epochs = 10\n",
        "\n",
        "# initiate Adam optimizer\n",
        "opt = keras.optimizers.Adam()\n",
        "\n",
        "# Let's train the model using Adam\n",
        "model.compile(loss='categorical_crossentropy', optimizer=opt, metrics=['accuracy'])\n",
        "\n",
        "model_history = model.fit(x_train, y_train, validation_split=0.2, epochs=epochs, batch_size=batch_size, verbose=1)  \n",
        "\n",
        "# Score trained model.\n",
        "scores = model.evaluate(x_test, y_test, verbose=1)\n",
        "print('Test accuracy:', scores[1])"
      ],
      "execution_count": 28,
      "outputs": [
        {
          "output_type": "stream",
          "text": [
            "Train on 40000 samples, validate on 10000 samples\n",
            "Epoch 1/10\n",
            "40000/40000 [==============================] - 11s 269us/step - loss: 2.5493 - acc: 0.2088 - val_loss: 2.2239 - val_acc: 0.3127\n",
            "Epoch 2/10\n",
            "40000/40000 [==============================] - 9s 237us/step - loss: 2.1852 - acc: 0.3256 - val_loss: 2.0091 - val_acc: 0.3837\n",
            "Epoch 3/10\n",
            "40000/40000 [==============================] - 9s 237us/step - loss: 2.0100 - acc: 0.3742 - val_loss: 1.9015 - val_acc: 0.4063\n",
            "Epoch 4/10\n",
            "40000/40000 [==============================] - 10s 238us/step - loss: 1.8885 - acc: 0.4108 - val_loss: 1.7492 - val_acc: 0.4549\n",
            "Epoch 5/10\n",
            "40000/40000 [==============================] - 9s 237us/step - loss: 1.7798 - acc: 0.4422 - val_loss: 1.6616 - val_acc: 0.4854\n",
            "Epoch 6/10\n",
            "40000/40000 [==============================] - 9s 237us/step - loss: 1.6872 - acc: 0.4719 - val_loss: 1.6370 - val_acc: 0.4886\n",
            "Epoch 7/10\n",
            "40000/40000 [==============================] - 9s 237us/step - loss: 1.6241 - acc: 0.4917 - val_loss: 1.5610 - val_acc: 0.5123\n",
            "Epoch 8/10\n",
            "40000/40000 [==============================] - 9s 236us/step - loss: 1.5498 - acc: 0.5134 - val_loss: 1.5123 - val_acc: 0.5354\n",
            "Epoch 9/10\n",
            "40000/40000 [==============================] - 9s 236us/step - loss: 1.4826 - acc: 0.5337 - val_loss: 1.4973 - val_acc: 0.5311\n",
            "Epoch 10/10\n",
            "40000/40000 [==============================] - 9s 236us/step - loss: 1.4276 - acc: 0.5453 - val_loss: 1.4776 - val_acc: 0.5429\n",
            "10000/10000 [==============================] - 1s 127us/step\n",
            "Test accuracy: 0.5338\n"
          ],
          "name": "stdout"
        }
      ]
    },
    {
      "metadata": {
        "id": "fX7okwOwmr0p",
        "colab_type": "code",
        "colab": {}
      },
      "cell_type": "code",
      "source": [
        ""
      ],
      "execution_count": 0,
      "outputs": []
    }
  ]
}