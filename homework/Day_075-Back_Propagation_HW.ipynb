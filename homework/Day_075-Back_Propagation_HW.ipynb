{
 "cells": [
  {
   "cell_type": "markdown",
   "metadata": {
    "colab_type": "text",
    "id": "RKWQIzOrYh1Y"
   },
   "source": [
    "# 作業: \n",
    "3  層神經網路\n",
    "\n",
    "通過增加更多的中間層，以對更多關係的組合進行建模\n",
    "\n",
    "syn1 權值矩陣將隱層的組合輸出映射到最終結果，\n",
    "\n",
    "而在更新 syn1 的同時，還需要更新 syn0 權值矩陣，\n",
    "\n",
    "以從輸入資料中更好地產生這些組合"
   ]
  },
  {
   "cell_type": "markdown",
   "metadata": {
    "colab_type": "text",
    "id": "2qlmtNgHYh1b"
   },
   "source": [
    "# BP 演算法訓練的神經網路\n",
    "\n",
    "\n",
    "目標: 嘗試著用輸入去預測輸出\n",
    " \n",
    "考慮以上情形：\n",
    "給定三列輸入，試著去預測對應的一列輸出。\n",
    "\n",
    "我們可以通過簡單測量輸入與輸出值的資料來解決這一問題。\n",
    "\n",
    "最左邊的一列輸入值和輸出值是完美匹配/完全相關的。\n",
    "\n",
    "反向傳播演算法便是通過這種方式來衡量資料間統計關係進而得到模型的。\n"
   ]
  },
  {
   "cell_type": "markdown",
   "metadata": {
    "colab_type": "text",
    "id": "DiYzRPqsYh1c"
   },
   "source": [
    "# 更新3 Layers 所需參數定義\n",
    "\n",
    "X 輸入資料集，形式為矩陣，每 1 行代表 1 個訓練樣本。\n",
    "\n",
    "y 輸出資料集，形式為矩陣，每 1 行代表 1 個訓練樣本。\n",
    "\n",
    "l0 網路第 1 層，即網路輸入層。\n",
    "\n",
    "l1 網路第 2 層，常稱作隱藏層。\n",
    "\n",
    "l2 假定為網路最後一層，隨著訓練進行，其輸出應該逐漸接近正確結果\n",
    "\n",
    "syn0 第一層權值\n",
    "\n",
    "syn1 第二層權值\n",
    "\n",
    "l2_error 該值說明了神經網路預測時“丟失”的數目。\n",
    "\n",
    "l2_delta 該值為經確信度加權後的神經網路的誤差，除了確信誤差很小時，它近似等於預測誤差。\n",
    "\n",
    "l1_error 該值為 l2_delta 經 syn1 加權後的結果，從而能夠計算得到中間層/隱層的誤差。\n",
    "\n",
    "l1_delta 該值為經確信度加權後的神經網路 l1 層的誤差，除了確信誤差很小時，它近似等於 l1_error 。"
   ]
  },
  {
   "cell_type": "code",
   "execution_count": 134,
   "metadata": {
    "colab": {},
    "colab_type": "code",
    "id": "588t-eEHYh1d"
   },
   "outputs": [
    {
     "data": {
      "text/plain": [
       "((4, 3), (4, 1))"
      ]
     },
     "execution_count": 134,
     "metadata": {},
     "output_type": "execute_result"
    }
   ],
   "source": [
    "import numpy as np\n",
    " \n",
    "# Sigmoid 函數可以將任何值都映射到一個位於 0 到  1 範圍內的值。通過它，我們可以將實數轉化為概率值\n",
    "def nonlin(x, deriv=False):\n",
    "    if deriv == True:\n",
    "        return x * (1 - x)\n",
    "    return 1 / (1 + np.exp(-x))\n",
    "\n",
    "X = np.array([\n",
    "    [0, 0, 1],\n",
    "    [0, 1, 1],\n",
    "    [1, 0, 1],\n",
    "    [1, 1, 1]\n",
    "])\n",
    "\n",
    "# define y for output dataset            \n",
    "y = np.array([[0, 1, 0, 1]]).T\n",
    "\n",
    "X.shape, y.shape"
   ]
  },
  {
   "cell_type": "code",
   "execution_count": 135,
   "metadata": {
    "colab": {},
    "colab_type": "code",
    "id": "qw8SMfiZYh1l"
   },
   "outputs": [
    {
     "data": {
      "text/plain": [
       "((3, 12), (12, 1))"
      ]
     },
     "execution_count": 135,
     "metadata": {},
     "output_type": "execute_result"
    }
   ],
   "source": [
    "# seed random numbers to make calculation\n",
    "# deterministic (just a good practice)\n",
    "np.random.seed(1)\n",
    "#亂數設定產生種子得到的權重初始化集仍是隨機分佈的，\n",
    "#但每次開始訓練時，得到的權重初始集分佈都是完全一致的。\n",
    "\n",
    "n = 12\n",
    "    \n",
    "# initialize weights randomly with mean 0\n",
    "syn0 = 2 * np.random.random((3, n)) - 1\n",
    "# define syn1\n",
    "syn1 = 2 * np.random.random((n, 1)) - 1\n",
    "\n",
    "#該神經網路權重矩陣的初始化操作。\n",
    "#用 “syn0” 來代指 (即“輸入層-第一層隱層”間權重矩陣）\n",
    "#用 “syn1” 來代指 (即“輸入層-第二層隱層”間權重矩陣）\n",
    "syn0.shape, syn1.shape"
   ]
  },
  {
   "cell_type": "markdown",
   "metadata": {
    "colab_type": "text",
    "id": "1ubmvWa8Yh1o"
   },
   "source": [
    "神經網路訓練\n",
    "for 迴圈反覆運算式地多次執行訓練代碼，使得我們的網路能更好地擬合訓練集"
   ]
  },
  {
   "cell_type": "code",
   "execution_count": 136,
   "metadata": {
    "colab": {},
    "colab_type": "code",
    "id": "q6jQQqG0Yh1p"
   },
   "outputs": [
    {
     "name": "stdout",
     "output_type": "stream",
     "text": [
      "l0 shape: (4, 3)\n",
      "\n",
      "l1 shape: (4, 3) x (3, 12) = (4, 12)\n",
      "\n",
      "l2 shape (4, 12) x (12, 1) = (4, 1)\n",
      "\n",
      "Output After Training:\n",
      "[[0.86513836 0.05127799 0.97676521 0.04871056 0.0373788  0.12336121\n",
      "  0.95970021 0.22632474 0.96602707 0.29445067 0.06295091 0.93599295]\n",
      " [0.06578799 0.97813275 0.01060343 0.97891411 0.98434568 0.96281826\n",
      "  0.0177566  0.91525217 0.01588071 0.88781467 0.97465849 0.02502664]\n",
      " [0.87247782 0.04087717 0.98067692 0.0392657  0.02911414 0.07683552\n",
      "  0.96717031 0.18431716 0.97099504 0.26714214 0.04811042 0.95224949]\n",
      " [0.06985887 0.97242978 0.01277295 0.97372257 0.97982246 0.9387097\n",
      "  0.02187452 0.89295943 0.01864392 0.87361479 0.96659499 0.03382167]]\n",
      "\n",
      "\n",
      "\n",
      "[[0.00144824]\n",
      " [0.99843249]\n",
      " [0.00122738]\n",
      " [0.99828631]]\n"
     ]
    }
   ],
   "source": [
    "for iter in range(10000):\n",
    "    # forward propagation\n",
    "    l0 = X\n",
    "    if iter == 0:\n",
    "        print('l0 shape: {}\\n'.format(l0.shape))\n",
    "        \n",
    "    l1 = nonlin(np.dot(l0, syn0))\n",
    "    if iter == 0:\n",
    "        print('l1 shape: {} x {} = {}\\n'.format(l0.shape, syn0.shape, l1.shape))\n",
    "        \n",
    "    l2 = nonlin(np.dot(l1, syn1))\n",
    "    if iter == 0:\n",
    "        print('l2 shape {} x {} = {}\\n'.format(l1.shape, syn1.shape, l2.shape))\n",
    "    \n",
    "    '''\n",
    "    新增\n",
    "    l2_error 該值說明了神經網路預測時“丟失”的數目。\n",
    "    l2_delta 該值為經確信度加權後的神經網路的誤差，除了確信誤差很小時，它近似等於預測誤差。\n",
    "    '''\n",
    "    \n",
    "    # how much did we miss?\n",
    "    # multiply how much we missed by the \n",
    "    # slope of the sigmoid at the values in l1\n",
    "    # update weights\n",
    "     # syn1 update weights\n",
    "    \n",
    "    l2_error = y - l2\n",
    "    l2_delta = l2_error * nonlin(l2, True)\n",
    "    syn1 += np.dot(l1.T, l2_delta)\n",
    "    \n",
    "    l1_error = np.dot(l2_error, syn1.T) \n",
    "    l1_delta = l1_error * nonlin(l1, True)\n",
    "    syn0 += np.dot(l0.T,  l1_delta)\n",
    "    \n",
    "    \n",
    "print(\"Output After Training:\")\n",
    "print(l1)\n",
    "print(\"\\n\\n\")\n",
    "print(l2)"
   ]
  },
  {
   "cell_type": "code",
   "execution_count": null,
   "metadata": {},
   "outputs": [],
   "source": []
  }
 ],
 "metadata": {
  "colab": {
   "name": "Day75-Back_Propagation_HW.ipynb",
   "provenance": [],
   "version": "0.3.2"
  },
  "kernelspec": {
   "display_name": "Python 3",
   "language": "python",
   "name": "python3"
  },
  "language_info": {
   "codemirror_mode": {
    "name": "ipython",
    "version": 3
   },
   "file_extension": ".py",
   "mimetype": "text/x-python",
   "name": "python",
   "nbconvert_exporter": "python",
   "pygments_lexer": "ipython3",
   "version": "3.6.6"
  }
 },
 "nbformat": 4,
 "nbformat_minor": 1
}
