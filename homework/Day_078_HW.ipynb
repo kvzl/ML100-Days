{
  "nbformat": 4,
  "nbformat_minor": 0,
  "metadata": {
    "colab": {
      "name": "Day_078_HW.ipynb",
      "version": "0.3.2",
      "provenance": [],
      "collapsed_sections": [],
      "include_colab_link": true
    },
    "kernelspec": {
      "name": "python3",
      "display_name": "Python 3"
    },
    "accelerator": "GPU"
  },
  "cells": [
    {
      "cell_type": "markdown",
      "metadata": {
        "id": "view-in-github",
        "colab_type": "text"
      },
      "source": [
        "<a href=\"https://colab.research.google.com/github/oailnivek/ML100-Days/blob/master/homework/Day_078_HW.ipynb\" target=\"_parent\"><img src=\"https://colab.research.google.com/assets/colab-badge.svg\" alt=\"Open In Colab\"/></a>"
      ]
    },
    {
      "metadata": {
        "id": "V9YcnAHnmeU7",
        "colab_type": "text"
      },
      "cell_type": "markdown",
      "source": [
        "## Work\n",
        "1. 請嘗試將 preproc_x 替換成以每筆資料的 min/max 進行標準化至 -1 ~ 1 間，再進行訓練\n",
        "2. 請嘗試將 mlp 疊更深 (e.g 5~10 層)，進行訓練後觀察 learning curve 的走勢\n",
        "3. (optional) 請改用 GPU 進行訓練 (如果你有 GPU 的話)，比較使用 CPU 與 GPU 的訓練速度"
      ]
    },
    {
      "metadata": {
        "id": "pZMxsIZTmeU8",
        "colab_type": "code",
        "colab": {
          "base_uri": "https://localhost:8080/",
          "height": 289
        },
        "outputId": "d0656100-3bb3-47c0-aa07-8dd0c9edd77c"
      },
      "cell_type": "code",
      "source": [
        "## 確認硬體資源\n",
        "\"\"\"\n",
        "Your code here\n",
        "\"\"\"\n",
        "!nvidia-smi"
      ],
      "execution_count": 35,
      "outputs": [
        {
          "output_type": "stream",
          "text": [
            "Mon Mar 25 11:24:49 2019       \n",
            "+-----------------------------------------------------------------------------+\n",
            "| NVIDIA-SMI 418.43       Driver Version: 410.79       CUDA Version: 10.0     |\n",
            "|-------------------------------+----------------------+----------------------+\n",
            "| GPU  Name        Persistence-M| Bus-Id        Disp.A | Volatile Uncorr. ECC |\n",
            "| Fan  Temp  Perf  Pwr:Usage/Cap|         Memory-Usage | GPU-Util  Compute M. |\n",
            "|===============================+======================+======================|\n",
            "|   0  Tesla K80           Off  | 00000000:00:04.0 Off |                    0 |\n",
            "| N/A   73C    P0    78W / 149W |    273MiB / 11441MiB |      0%      Default |\n",
            "+-------------------------------+----------------------+----------------------+\n",
            "                                                                               \n",
            "+-----------------------------------------------------------------------------+\n",
            "| Processes:                                                       GPU Memory |\n",
            "|  GPU       PID   Type   Process name                             Usage      |\n",
            "|=============================================================================|\n",
            "+-----------------------------------------------------------------------------+\n"
          ],
          "name": "stdout"
        }
      ]
    },
    {
      "metadata": {
        "id": "Q9YNqUq4meVB",
        "colab_type": "code",
        "colab": {}
      },
      "cell_type": "code",
      "source": [
        "import os\n",
        "import keras\n",
        "\n",
        "# Try to enable GPU (optional)\n",
        "os.environ[\"CUDA_VISIBLE_DEVICES\"] = '0'"
      ],
      "execution_count": 0,
      "outputs": []
    },
    {
      "metadata": {
        "id": "EBaV_I7pmeVH",
        "colab_type": "code",
        "colab": {}
      },
      "cell_type": "code",
      "source": [
        "train, test = keras.datasets.cifar10.load_data()"
      ],
      "execution_count": 0,
      "outputs": []
    },
    {
      "metadata": {
        "id": "ehDqKLIlmeVJ",
        "colab_type": "code",
        "colab": {}
      },
      "cell_type": "code",
      "source": [
        "from sklearn.preprocessing import MinMaxScaler\n",
        "\n",
        "## 資料前處理\n",
        "def preproc_x(x, flatten=True):\n",
        "    if flatten:\n",
        "        x = x.reshape((len(x), -1))\n",
        "    \n",
        "    scaler = MinMaxScaler(feature_range=(-1, 1))\n",
        "    x = scaler.fit_transform(x)\n",
        "\n",
        "    return x\n",
        "\n",
        "def preproc_y(y, num_classes=10):\n",
        "    if y.shape[-1] == 1:\n",
        "        y = keras.utils.to_categorical(y, num_classes)\n",
        "    return y    "
      ],
      "execution_count": 0,
      "outputs": []
    },
    {
      "metadata": {
        "id": "54ztl7aDmeVL",
        "colab_type": "code",
        "colab": {
          "base_uri": "https://localhost:8080/",
          "height": 85
        },
        "outputId": "f730a89b-c848-4cf0-c2a4-3173922bf067"
      },
      "cell_type": "code",
      "source": [
        "x_train, y_train = train\n",
        "x_test, y_test = test\n",
        "\n",
        "# Preproc the inputs\n",
        "x_train = preproc_x(x_train)\n",
        "x_test = preproc_x(x_test)\n",
        "\n",
        "# Preprc the outputs\n",
        "y_train = preproc_y(y_train)\n",
        "y_test = preproc_y(y_test)"
      ],
      "execution_count": 39,
      "outputs": [
        {
          "output_type": "stream",
          "text": [
            "/usr/local/lib/python3.6/dist-packages/sklearn/utils/validation.py:595: DataConversionWarning: Data with input dtype uint8 was converted to float64 by MinMaxScaler.\n",
            "  warnings.warn(msg, DataConversionWarning)\n",
            "/usr/local/lib/python3.6/dist-packages/sklearn/utils/validation.py:595: DataConversionWarning: Data with input dtype uint8 was converted to float64 by MinMaxScaler.\n",
            "  warnings.warn(msg, DataConversionWarning)\n"
          ],
          "name": "stderr"
        }
      ]
    },
    {
      "metadata": {
        "id": "DdeQWOVAmeVP",
        "colab_type": "code",
        "colab": {}
      },
      "cell_type": "code",
      "source": [
        "\"\"\"\n",
        "Your code here\n",
        "\"\"\"\n",
        "def build_mlp(input_shape, output_units=10, num_neurons=[512, 256, 128, 128, 128, 64, 64, 64]):\n",
        "    input_layer = keras.layers.Input(input_shape)\n",
        "    \n",
        "    for i, n_units in enumerate(num_neurons):\n",
        "        if i == 0:\n",
        "            x = keras.layers.Dense(units=n_units, activation=\"relu\", name=\"hidden_layer\"+str(i+1))(input_layer)\n",
        "        else:\n",
        "            x = keras.layers.Dense(units=n_units, activation=\"relu\", name=\"hidden_layer\"+str(i+1))(x)\n",
        "    \n",
        "    out = keras.layers.Dense(units=output_units, activation=\"softmax\", name=\"output\")(x)\n",
        "    \n",
        "    model = keras.models.Model(inputs=[input_layer], outputs=[out])\n",
        "    return model"
      ],
      "execution_count": 0,
      "outputs": []
    },
    {
      "metadata": {
        "id": "t610vIzsJsAI",
        "colab_type": "code",
        "colab": {
          "base_uri": "https://localhost:8080/",
          "height": 476
        },
        "outputId": "b2d75d45-bcf3-406f-da14-05f04523904d"
      },
      "cell_type": "code",
      "source": [
        "model = build_mlp(input_shape=x_train.shape[1:])\n",
        "model.summary()"
      ],
      "execution_count": 47,
      "outputs": [
        {
          "output_type": "stream",
          "text": [
            "_________________________________________________________________\n",
            "Layer (type)                 Output Shape              Param #   \n",
            "=================================================================\n",
            "input_6 (InputLayer)         (None, 3072)              0         \n",
            "_________________________________________________________________\n",
            "hidden_layer1 (Dense)        (None, 512)               1573376   \n",
            "_________________________________________________________________\n",
            "hidden_layer2 (Dense)        (None, 256)               131328    \n",
            "_________________________________________________________________\n",
            "hidden_layer3 (Dense)        (None, 128)               32896     \n",
            "_________________________________________________________________\n",
            "hidden_layer4 (Dense)        (None, 128)               16512     \n",
            "_________________________________________________________________\n",
            "hidden_layer5 (Dense)        (None, 128)               16512     \n",
            "_________________________________________________________________\n",
            "hidden_layer6 (Dense)        (None, 64)                8256      \n",
            "_________________________________________________________________\n",
            "hidden_layer7 (Dense)        (None, 64)                4160      \n",
            "_________________________________________________________________\n",
            "hidden_layer8 (Dense)        (None, 64)                4160      \n",
            "_________________________________________________________________\n",
            "output (Dense)               (None, 10)                650       \n",
            "=================================================================\n",
            "Total params: 1,787,850\n",
            "Trainable params: 1,787,850\n",
            "Non-trainable params: 0\n",
            "_________________________________________________________________\n"
          ],
          "name": "stdout"
        }
      ]
    },
    {
      "metadata": {
        "id": "HtBcqo5BmeVT",
        "colab_type": "code",
        "colab": {}
      },
      "cell_type": "code",
      "source": [
        "## 超參數設定\n",
        "LEARNING_RATE = 0.001\n",
        "EPOCHS = 100\n",
        "BATCH_SIZE = 256"
      ],
      "execution_count": 0,
      "outputs": []
    },
    {
      "metadata": {
        "id": "LaY3vNkzmeVW",
        "colab_type": "code",
        "colab": {}
      },
      "cell_type": "code",
      "source": [
        "optimizer = keras.optimizers.Adam(lr=LEARNING_RATE)\n",
        "model.compile(loss=\"categorical_crossentropy\", metrics=[\"accuracy\"], optimizer=optimizer)"
      ],
      "execution_count": 0,
      "outputs": []
    },
    {
      "metadata": {
        "id": "_c-tGjoUmeVZ",
        "colab_type": "code",
        "colab": {
          "base_uri": "https://localhost:8080/",
          "height": 3451
        },
        "outputId": "66e79633-4019-4d1e-b1cf-521764707451"
      },
      "cell_type": "code",
      "source": [
        "model.fit(x_train, y_train, \n",
        "          epochs=EPOCHS, \n",
        "          batch_size=BATCH_SIZE, \n",
        "          validation_data=(x_test, y_test), \n",
        "          shuffle=True)"
      ],
      "execution_count": 50,
      "outputs": [
        {
          "output_type": "stream",
          "text": [
            "Train on 50000 samples, validate on 10000 samples\n",
            "Epoch 1/100\n",
            "50000/50000 [==============================] - 4s 89us/step - loss: 1.7497 - acc: 0.3744 - val_loss: 1.5690 - val_acc: 0.4436\n",
            "Epoch 2/100\n",
            "50000/50000 [==============================] - 3s 66us/step - loss: 1.5114 - acc: 0.4672 - val_loss: 1.4801 - val_acc: 0.4754\n",
            "Epoch 3/100\n",
            "50000/50000 [==============================] - 3s 66us/step - loss: 1.3862 - acc: 0.5131 - val_loss: 1.4471 - val_acc: 0.4836\n",
            "Epoch 4/100\n",
            "50000/50000 [==============================] - 3s 67us/step - loss: 1.2959 - acc: 0.5430 - val_loss: 1.3783 - val_acc: 0.5201\n",
            "Epoch 5/100\n",
            "50000/50000 [==============================] - 4s 73us/step - loss: 1.2116 - acc: 0.5712 - val_loss: 1.4052 - val_acc: 0.5131\n",
            "Epoch 6/100\n",
            "50000/50000 [==============================] - 4s 72us/step - loss: 1.1373 - acc: 0.5982 - val_loss: 1.3618 - val_acc: 0.5317\n",
            "Epoch 7/100\n",
            "50000/50000 [==============================] - 4s 71us/step - loss: 1.0713 - acc: 0.6220 - val_loss: 1.3504 - val_acc: 0.5314\n",
            "Epoch 8/100\n",
            "50000/50000 [==============================] - 3s 67us/step - loss: 0.9974 - acc: 0.6451 - val_loss: 1.3641 - val_acc: 0.5295\n",
            "Epoch 9/100\n",
            "50000/50000 [==============================] - 3s 67us/step - loss: 0.9381 - acc: 0.6652 - val_loss: 1.3963 - val_acc: 0.5293\n",
            "Epoch 10/100\n",
            "50000/50000 [==============================] - 4s 71us/step - loss: 0.8733 - acc: 0.6877 - val_loss: 1.4458 - val_acc: 0.5404\n",
            "Epoch 11/100\n",
            "50000/50000 [==============================] - 4s 72us/step - loss: 0.8102 - acc: 0.7119 - val_loss: 1.4409 - val_acc: 0.5311\n",
            "Epoch 12/100\n",
            "50000/50000 [==============================] - 4s 73us/step - loss: 0.7517 - acc: 0.7360 - val_loss: 1.4861 - val_acc: 0.5318\n",
            "Epoch 13/100\n",
            "50000/50000 [==============================] - 3s 68us/step - loss: 0.7059 - acc: 0.7517 - val_loss: 1.5519 - val_acc: 0.5354\n",
            "Epoch 14/100\n",
            "50000/50000 [==============================] - 3s 66us/step - loss: 0.6471 - acc: 0.7712 - val_loss: 1.6086 - val_acc: 0.5341\n",
            "Epoch 15/100\n",
            "50000/50000 [==============================] - 3s 67us/step - loss: 0.6102 - acc: 0.7848 - val_loss: 1.7367 - val_acc: 0.5270\n",
            "Epoch 16/100\n",
            "50000/50000 [==============================] - 4s 71us/step - loss: 0.5675 - acc: 0.8015 - val_loss: 1.6985 - val_acc: 0.5353\n",
            "Epoch 17/100\n",
            "50000/50000 [==============================] - 4s 73us/step - loss: 0.5261 - acc: 0.8156 - val_loss: 1.8122 - val_acc: 0.5318\n",
            "Epoch 18/100\n",
            "50000/50000 [==============================] - 4s 73us/step - loss: 0.4947 - acc: 0.8270 - val_loss: 1.8647 - val_acc: 0.5379\n",
            "Epoch 19/100\n",
            "50000/50000 [==============================] - 4s 71us/step - loss: 0.4563 - acc: 0.8406 - val_loss: 1.8890 - val_acc: 0.5262\n",
            "Epoch 20/100\n",
            "50000/50000 [==============================] - 4s 71us/step - loss: 0.4316 - acc: 0.8494 - val_loss: 1.9661 - val_acc: 0.5354\n",
            "Epoch 21/100\n",
            "50000/50000 [==============================] - 4s 72us/step - loss: 0.3981 - acc: 0.8616 - val_loss: 2.1071 - val_acc: 0.5358\n",
            "Epoch 22/100\n",
            "50000/50000 [==============================] - 3s 69us/step - loss: 0.3829 - acc: 0.8664 - val_loss: 2.1464 - val_acc: 0.5316\n",
            "Epoch 23/100\n",
            "50000/50000 [==============================] - 4s 73us/step - loss: 0.3427 - acc: 0.8802 - val_loss: 2.1786 - val_acc: 0.5349\n",
            "Epoch 24/100\n",
            "50000/50000 [==============================] - 4s 71us/step - loss: 0.3357 - acc: 0.8836 - val_loss: 2.1742 - val_acc: 0.5329\n",
            "Epoch 25/100\n",
            "50000/50000 [==============================] - 4s 71us/step - loss: 0.3116 - acc: 0.8927 - val_loss: 2.2853 - val_acc: 0.5385\n",
            "Epoch 26/100\n",
            "50000/50000 [==============================] - 4s 72us/step - loss: 0.2970 - acc: 0.8976 - val_loss: 2.4388 - val_acc: 0.5361\n",
            "Epoch 27/100\n",
            "50000/50000 [==============================] - 3s 69us/step - loss: 0.2827 - acc: 0.9025 - val_loss: 2.3854 - val_acc: 0.5254\n",
            "Epoch 28/100\n",
            "50000/50000 [==============================] - 4s 73us/step - loss: 0.2621 - acc: 0.9098 - val_loss: 2.4612 - val_acc: 0.5279\n",
            "Epoch 29/100\n",
            "50000/50000 [==============================] - 4s 73us/step - loss: 0.2571 - acc: 0.9129 - val_loss: 2.4541 - val_acc: 0.5309\n",
            "Epoch 30/100\n",
            "50000/50000 [==============================] - 3s 70us/step - loss: 0.2423 - acc: 0.9161 - val_loss: 2.5387 - val_acc: 0.5316\n",
            "Epoch 31/100\n",
            "50000/50000 [==============================] - 4s 73us/step - loss: 0.2169 - acc: 0.9276 - val_loss: 2.5747 - val_acc: 0.5266\n",
            "Epoch 32/100\n",
            "50000/50000 [==============================] - 3s 69us/step - loss: 0.2126 - acc: 0.9284 - val_loss: 2.6907 - val_acc: 0.5306\n",
            "Epoch 33/100\n",
            "50000/50000 [==============================] - 4s 72us/step - loss: 0.2123 - acc: 0.9276 - val_loss: 2.6415 - val_acc: 0.5318\n",
            "Epoch 34/100\n",
            "50000/50000 [==============================] - 4s 72us/step - loss: 0.2076 - acc: 0.9283 - val_loss: 2.5585 - val_acc: 0.5304\n",
            "Epoch 35/100\n",
            "50000/50000 [==============================] - 4s 70us/step - loss: 0.1952 - acc: 0.9330 - val_loss: 2.6224 - val_acc: 0.5303\n",
            "Epoch 36/100\n",
            "50000/50000 [==============================] - 4s 73us/step - loss: 0.1912 - acc: 0.9357 - val_loss: 2.8019 - val_acc: 0.5377\n",
            "Epoch 37/100\n",
            "50000/50000 [==============================] - 3s 69us/step - loss: 0.1823 - acc: 0.9390 - val_loss: 2.7950 - val_acc: 0.5343\n",
            "Epoch 38/100\n",
            "50000/50000 [==============================] - 4s 72us/step - loss: 0.1699 - acc: 0.9431 - val_loss: 2.7488 - val_acc: 0.5351\n",
            "Epoch 39/100\n",
            "50000/50000 [==============================] - 4s 73us/step - loss: 0.1765 - acc: 0.9411 - val_loss: 2.8338 - val_acc: 0.5258\n",
            "Epoch 40/100\n",
            "50000/50000 [==============================] - 3s 70us/step - loss: 0.1677 - acc: 0.9436 - val_loss: 2.8557 - val_acc: 0.5341\n",
            "Epoch 41/100\n",
            "50000/50000 [==============================] - 4s 72us/step - loss: 0.1697 - acc: 0.9431 - val_loss: 3.0000 - val_acc: 0.5338\n",
            "Epoch 42/100\n",
            "50000/50000 [==============================] - 3s 69us/step - loss: 0.1572 - acc: 0.9479 - val_loss: 2.9109 - val_acc: 0.5264\n",
            "Epoch 43/100\n",
            "50000/50000 [==============================] - 4s 73us/step - loss: 0.1579 - acc: 0.9465 - val_loss: 2.8754 - val_acc: 0.5307\n",
            "Epoch 44/100\n",
            "50000/50000 [==============================] - 4s 73us/step - loss: 0.1488 - acc: 0.9493 - val_loss: 2.9358 - val_acc: 0.5268\n",
            "Epoch 45/100\n",
            "50000/50000 [==============================] - 4s 74us/step - loss: 0.1465 - acc: 0.9514 - val_loss: 2.8891 - val_acc: 0.5332\n",
            "Epoch 46/100\n",
            "50000/50000 [==============================] - 4s 71us/step - loss: 0.1374 - acc: 0.9542 - val_loss: 2.9985 - val_acc: 0.5329\n",
            "Epoch 47/100\n",
            "50000/50000 [==============================] - 4s 73us/step - loss: 0.1371 - acc: 0.9531 - val_loss: 3.0616 - val_acc: 0.5280\n",
            "Epoch 48/100\n",
            "50000/50000 [==============================] - 3s 68us/step - loss: 0.1442 - acc: 0.9518 - val_loss: 2.8322 - val_acc: 0.5290\n",
            "Epoch 49/100\n",
            "50000/50000 [==============================] - 4s 71us/step - loss: 0.1202 - acc: 0.9601 - val_loss: 3.1102 - val_acc: 0.5297\n",
            "Epoch 50/100\n",
            "50000/50000 [==============================] - 4s 72us/step - loss: 0.1319 - acc: 0.9567 - val_loss: 2.9638 - val_acc: 0.5325\n",
            "Epoch 51/100\n",
            "50000/50000 [==============================] - 4s 72us/step - loss: 0.1236 - acc: 0.9584 - val_loss: 3.1415 - val_acc: 0.5322\n",
            "Epoch 52/100\n",
            "50000/50000 [==============================] - 3s 66us/step - loss: 0.1279 - acc: 0.9566 - val_loss: 3.0245 - val_acc: 0.5295\n",
            "Epoch 53/100\n",
            "50000/50000 [==============================] - 3s 69us/step - loss: 0.1152 - acc: 0.9618 - val_loss: 3.0521 - val_acc: 0.5313\n",
            "Epoch 54/100\n",
            "50000/50000 [==============================] - 4s 73us/step - loss: 0.1160 - acc: 0.9619 - val_loss: 3.2023 - val_acc: 0.5305\n",
            "Epoch 55/100\n",
            "50000/50000 [==============================] - 4s 72us/step - loss: 0.1205 - acc: 0.9595 - val_loss: 3.1031 - val_acc: 0.5290\n",
            "Epoch 56/100\n",
            "50000/50000 [==============================] - 3s 68us/step - loss: 0.1030 - acc: 0.9659 - val_loss: 3.0950 - val_acc: 0.5322\n",
            "Epoch 57/100\n",
            "50000/50000 [==============================] - 4s 72us/step - loss: 0.1157 - acc: 0.9628 - val_loss: 3.0169 - val_acc: 0.5292\n",
            "Epoch 58/100\n",
            "50000/50000 [==============================] - 4s 73us/step - loss: 0.1163 - acc: 0.9620 - val_loss: 3.1583 - val_acc: 0.5293\n",
            "Epoch 59/100\n",
            "50000/50000 [==============================] - 4s 72us/step - loss: 0.1045 - acc: 0.9656 - val_loss: 3.2265 - val_acc: 0.5340\n",
            "Epoch 60/100\n",
            "50000/50000 [==============================] - 3s 66us/step - loss: 0.1092 - acc: 0.9643 - val_loss: 3.1088 - val_acc: 0.5260\n",
            "Epoch 61/100\n",
            "50000/50000 [==============================] - 4s 71us/step - loss: 0.1105 - acc: 0.9641 - val_loss: 3.2041 - val_acc: 0.5267\n",
            "Epoch 62/100\n",
            "50000/50000 [==============================] - 4s 74us/step - loss: 0.1048 - acc: 0.9654 - val_loss: 3.1047 - val_acc: 0.5260\n",
            "Epoch 63/100\n",
            "50000/50000 [==============================] - 4s 71us/step - loss: 0.1032 - acc: 0.9673 - val_loss: 3.1326 - val_acc: 0.5244\n",
            "Epoch 64/100\n",
            "50000/50000 [==============================] - 3s 67us/step - loss: 0.1027 - acc: 0.9661 - val_loss: 3.2324 - val_acc: 0.5336\n",
            "Epoch 65/100\n",
            "50000/50000 [==============================] - 4s 71us/step - loss: 0.1008 - acc: 0.9662 - val_loss: 3.3232 - val_acc: 0.5261\n",
            "Epoch 66/100\n",
            "50000/50000 [==============================] - 4s 73us/step - loss: 0.1012 - acc: 0.9673 - val_loss: 3.3664 - val_acc: 0.5267\n",
            "Epoch 67/100\n",
            "50000/50000 [==============================] - 3s 69us/step - loss: 0.0925 - acc: 0.9693 - val_loss: 3.2052 - val_acc: 0.5298\n",
            "Epoch 68/100\n",
            "50000/50000 [==============================] - 3s 67us/step - loss: 0.0974 - acc: 0.9679 - val_loss: 3.2477 - val_acc: 0.5294\n",
            "Epoch 69/100\n",
            "50000/50000 [==============================] - 4s 71us/step - loss: 0.0955 - acc: 0.9682 - val_loss: 3.0783 - val_acc: 0.5315\n",
            "Epoch 70/100\n",
            "50000/50000 [==============================] - 4s 72us/step - loss: 0.0863 - acc: 0.9717 - val_loss: 3.1330 - val_acc: 0.5293\n",
            "Epoch 71/100\n",
            "50000/50000 [==============================] - 3s 70us/step - loss: 0.0931 - acc: 0.9699 - val_loss: 3.3027 - val_acc: 0.5296\n",
            "Epoch 72/100\n",
            "50000/50000 [==============================] - 3s 67us/step - loss: 0.0869 - acc: 0.9715 - val_loss: 3.2830 - val_acc: 0.5294\n",
            "Epoch 73/100\n",
            "50000/50000 [==============================] - 4s 72us/step - loss: 0.0951 - acc: 0.9686 - val_loss: 3.2347 - val_acc: 0.5328\n",
            "Epoch 74/100\n",
            "50000/50000 [==============================] - 4s 73us/step - loss: 0.0784 - acc: 0.9753 - val_loss: 3.2348 - val_acc: 0.5279\n",
            "Epoch 75/100\n",
            "50000/50000 [==============================] - 3s 70us/step - loss: 0.0902 - acc: 0.9706 - val_loss: 3.4530 - val_acc: 0.5381\n",
            "Epoch 76/100\n",
            "50000/50000 [==============================] - 3s 67us/step - loss: 0.0937 - acc: 0.9689 - val_loss: 3.2534 - val_acc: 0.5295\n",
            "Epoch 77/100\n",
            "50000/50000 [==============================] - 4s 72us/step - loss: 0.0836 - acc: 0.9728 - val_loss: 3.3718 - val_acc: 0.5303\n",
            "Epoch 78/100\n",
            "50000/50000 [==============================] - 4s 73us/step - loss: 0.0762 - acc: 0.9746 - val_loss: 3.3566 - val_acc: 0.5364\n",
            "Epoch 79/100\n",
            "50000/50000 [==============================] - 3s 69us/step - loss: 0.0771 - acc: 0.9752 - val_loss: 3.5062 - val_acc: 0.5303\n",
            "Epoch 80/100\n",
            "50000/50000 [==============================] - 3s 67us/step - loss: 0.0767 - acc: 0.9746 - val_loss: 3.4666 - val_acc: 0.5301\n",
            "Epoch 81/100\n",
            "50000/50000 [==============================] - 4s 71us/step - loss: 0.0765 - acc: 0.9759 - val_loss: 3.2583 - val_acc: 0.5256\n",
            "Epoch 82/100\n",
            "50000/50000 [==============================] - 4s 73us/step - loss: 0.0846 - acc: 0.9723 - val_loss: 3.2153 - val_acc: 0.5299\n",
            "Epoch 83/100\n",
            "50000/50000 [==============================] - 3s 69us/step - loss: 0.0754 - acc: 0.9757 - val_loss: 3.3246 - val_acc: 0.5300\n",
            "Epoch 84/100\n",
            "50000/50000 [==============================] - 3s 67us/step - loss: 0.0837 - acc: 0.9738 - val_loss: 3.1647 - val_acc: 0.5321\n",
            "Epoch 85/100\n",
            "50000/50000 [==============================] - 4s 72us/step - loss: 0.0727 - acc: 0.9765 - val_loss: 3.3221 - val_acc: 0.5358\n",
            "Epoch 86/100\n",
            "50000/50000 [==============================] - 4s 73us/step - loss: 0.0777 - acc: 0.9756 - val_loss: 3.1898 - val_acc: 0.5271\n",
            "Epoch 87/100\n",
            "50000/50000 [==============================] - 4s 73us/step - loss: 0.0714 - acc: 0.9770 - val_loss: 3.3510 - val_acc: 0.5303\n",
            "Epoch 88/100\n",
            "50000/50000 [==============================] - 4s 73us/step - loss: 0.0671 - acc: 0.9781 - val_loss: 3.4293 - val_acc: 0.5359\n",
            "Epoch 89/100\n",
            "50000/50000 [==============================] - 3s 68us/step - loss: 0.0705 - acc: 0.9765 - val_loss: 3.5058 - val_acc: 0.5308\n",
            "Epoch 90/100\n",
            "50000/50000 [==============================] - 4s 70us/step - loss: 0.0745 - acc: 0.9763 - val_loss: 3.4752 - val_acc: 0.5333\n",
            "Epoch 91/100\n",
            "50000/50000 [==============================] - 4s 73us/step - loss: 0.0771 - acc: 0.9750 - val_loss: 3.4291 - val_acc: 0.5292\n",
            "Epoch 92/100\n",
            "50000/50000 [==============================] - 3s 70us/step - loss: 0.0809 - acc: 0.9743 - val_loss: 3.0756 - val_acc: 0.5331\n",
            "Epoch 93/100\n",
            "50000/50000 [==============================] - 3s 68us/step - loss: 0.0679 - acc: 0.9783 - val_loss: 3.3723 - val_acc: 0.5341\n",
            "Epoch 94/100\n",
            "50000/50000 [==============================] - 4s 73us/step - loss: 0.0668 - acc: 0.9787 - val_loss: 3.2757 - val_acc: 0.5358\n",
            "Epoch 95/100\n",
            "50000/50000 [==============================] - 4s 72us/step - loss: 0.0705 - acc: 0.9770 - val_loss: 3.3737 - val_acc: 0.5306\n",
            "Epoch 96/100\n",
            "50000/50000 [==============================] - 3s 67us/step - loss: 0.0711 - acc: 0.9775 - val_loss: 3.2987 - val_acc: 0.5309\n",
            "Epoch 97/100\n",
            "50000/50000 [==============================] - 4s 73us/step - loss: 0.0623 - acc: 0.9804 - val_loss: 3.3434 - val_acc: 0.5297\n",
            "Epoch 98/100\n",
            "50000/50000 [==============================] - 4s 74us/step - loss: 0.0661 - acc: 0.9782 - val_loss: 3.2028 - val_acc: 0.5295\n",
            "Epoch 99/100\n",
            "50000/50000 [==============================] - 3s 67us/step - loss: 0.0757 - acc: 0.9756 - val_loss: 3.3564 - val_acc: 0.5297\n",
            "Epoch 100/100\n",
            "50000/50000 [==============================] - 4s 71us/step - loss: 0.0636 - acc: 0.9799 - val_loss: 3.3823 - val_acc: 0.5286\n"
          ],
          "name": "stdout"
        },
        {
          "output_type": "execute_result",
          "data": {
            "text/plain": [
              "<keras.callbacks.History at 0x7f9ff65a3a58>"
            ]
          },
          "metadata": {
            "tags": []
          },
          "execution_count": 50
        }
      ]
    },
    {
      "metadata": {
        "id": "CR20Q35imeVc",
        "colab_type": "code",
        "colab": {
          "base_uri": "https://localhost:8080/",
          "height": 707
        },
        "outputId": "dc4a76b0-8e82-4d61-c528-a5974eec2b2f"
      },
      "cell_type": "code",
      "source": [
        "import matplotlib.pyplot as plt\n",
        "\n",
        "\n",
        "train_loss = model.history.history[\"loss\"]\n",
        "valid_loss = model.history.history[\"val_loss\"]\n",
        "\n",
        "train_acc = model.history.history[\"acc\"]\n",
        "valid_acc = model.history.history[\"val_acc\"]\n",
        "\n",
        "plt.plot(range(len(train_loss)), train_loss, label=\"train loss\")\n",
        "plt.plot(range(len(valid_loss)), valid_loss, label=\"valid loss\")\n",
        "plt.legend()\n",
        "plt.title(\"Loss\")\n",
        "plt.show()\n",
        "\n",
        "plt.plot(range(len(train_acc)), train_acc, label=\"train accuracy\")\n",
        "plt.plot(range(len(valid_acc)), valid_acc, label=\"valid accuracy\")\n",
        "plt.legend()\n",
        "plt.title(\"Accuracy\")\n",
        "plt.show()"
      ],
      "execution_count": 51,
      "outputs": [
        {
          "output_type": "display_data",
          "data": {
            "image/png": "[encoded data removed]",
            "text/plain": [
              "<Figure size 576x396 with 1 Axes>"
            ]
          },
          "metadata": {
            "tags": []
          }
        },
        {
          "output_type": "display_data",
          "data": {
            "image/png": "[encoded data removed]",
            "text/plain": [
              "<Figure size 576x396 with 1 Axes>"
            ]
          },
          "metadata": {
            "tags": []
          }
        }
      ]
    },
    {
      "metadata": {
        "id": "ZBjCnTXuJucY",
        "colab_type": "code",
        "colab": {}
      },
      "cell_type": "code",
      "source": [
        ""
      ],
      "execution_count": 0,
      "outputs": []
    }
  ]
}