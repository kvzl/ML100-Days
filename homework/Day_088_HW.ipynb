{
  "nbformat": 4,
  "nbformat_minor": 0,
  "metadata": {
    "colab": {
      "name": "Day_088_HW.ipynb",
      "version": "0.3.2",
      "provenance": [],
      "collapsed_sections": [],
      "include_colab_link": true
    },
    "kernelspec": {
      "name": "python3",
      "display_name": "Python 3"
    },
    "accelerator": "GPU"
  },
  "cells": [
    {
      "cell_type": "markdown",
      "metadata": {
        "id": "view-in-github",
        "colab_type": "text"
      },
      "source": [
        "<a href=\"https://colab.research.google.com/github/oailnivek/ML100-Days/blob/master/homework/Day_088_HW.ipynb\" target=\"_parent\"><img src=\"https://colab.research.google.com/assets/colab-badge.svg\" alt=\"Open In Colab\"/></a>"
      ]
    },
    {
      "metadata": {
        "id": "ZeeVcApkh3vY",
        "colab_type": "text"
      },
      "cell_type": "markdown",
      "source": [
        "## Work\n",
        "1. 請嘗試寫一個 callback 用來記錄各類別在訓練過程中，對驗證集的 True Positive 與 True Negative"
      ]
    },
    {
      "metadata": {
        "id": "RyH8mSlqh3va",
        "colab_type": "code",
        "outputId": "4286dce6-ba37-4860-a2b0-bd3bc44690de",
        "colab": {
          "base_uri": "https://localhost:8080/",
          "height": 34
        }
      },
      "cell_type": "code",
      "source": [
        "import os\n",
        "import keras\n",
        "\n",
        "os.environ[\"CUDA_VISIBLE_DEVICES\"] = \"0\""
      ],
      "execution_count": 1,
      "outputs": [
        {
          "output_type": "stream",
          "text": [
            "Using TensorFlow backend.\n"
          ],
          "name": "stderr"
        }
      ]
    },
    {
      "metadata": {
        "id": "XvLHt2uch3ve",
        "colab_type": "code",
        "colab": {
          "base_uri": "https://localhost:8080/",
          "height": 51
        },
        "outputId": "01614eb7-7b0d-4168-acc4-18af0990a8c6"
      },
      "cell_type": "code",
      "source": [
        "train, test = keras.datasets.cifar10.load_data()"
      ],
      "execution_count": 2,
      "outputs": [
        {
          "output_type": "stream",
          "text": [
            "Downloading data from https://www.cs.toronto.edu/~kriz/cifar-10-python.tar.gz\n",
            "170500096/170498071 [==============================] - 21s 0us/step\n"
          ],
          "name": "stdout"
        }
      ]
    },
    {
      "metadata": {
        "id": "4q7kyky0h3vh",
        "colab_type": "code",
        "colab": {}
      },
      "cell_type": "code",
      "source": [
        "## 資料前處理\n",
        "def preproc_x(x, flatten=True):\n",
        "    x = x / 255.\n",
        "    if flatten:\n",
        "        x = x.reshape((len(x), -1))\n",
        "    return x\n",
        "\n",
        "def preproc_y(y, num_classes=10):\n",
        "    if y.shape[-1] == 1:\n",
        "        y = keras.utils.to_categorical(y, num_classes)\n",
        "    return y    "
      ],
      "execution_count": 0,
      "outputs": []
    },
    {
      "metadata": {
        "id": "x93DhoaGh3vk",
        "colab_type": "code",
        "colab": {}
      },
      "cell_type": "code",
      "source": [
        "x_train, y_train = train\n",
        "x_test, y_test = test\n",
        "\n",
        "# Preproc the inputs\n",
        "x_train = preproc_x(x_train)\n",
        "x_test = preproc_x(x_test)\n",
        "\n",
        "# Preprc the outputs\n",
        "y_train = preproc_y(y_train)\n",
        "y_test = preproc_y(y_test)"
      ],
      "execution_count": 0,
      "outputs": []
    },
    {
      "metadata": {
        "id": "qdcmpVzbh3vo",
        "colab_type": "code",
        "colab": {
          "base_uri": "https://localhost:8080/",
          "height": 479
        },
        "outputId": "d34604e9-8b19-4957-8a5e-88e8e86a6a5f"
      },
      "cell_type": "code",
      "source": [
        "from keras.models import Model\n",
        "from keras.layers import Input, Dense, BatchNormalization\n",
        "\n",
        "def build_mlp(input_shape=x_train.shape[1:], output_units=10, num_neurons=[256, 256, 256]):\n",
        "    input = Input(input_shape)\n",
        "    \n",
        "    for i, n_units in enumerate(num_neurons):\n",
        "        layer = Dense(units=n_units, activation='relu')\n",
        "        x = layer(input if i == 0 else x)\n",
        "        x = BatchNormalization()(x)\n",
        "        \n",
        "    out = Dense(units=output_units, activation='softmax')(x)\n",
        "    \n",
        "    return Model(inputs=[input], outputs=[out])\n",
        "\n",
        "def model_summary():\n",
        "    model = build_mlp()\n",
        "    model.summary()\n",
        "    \n",
        "model_summary()"
      ],
      "execution_count": 5,
      "outputs": [
        {
          "output_type": "stream",
          "text": [
            "WARNING:tensorflow:From /usr/local/lib/python3.6/dist-packages/tensorflow/python/framework/op_def_library.py:263: colocate_with (from tensorflow.python.framework.ops) is deprecated and will be removed in a future version.\n",
            "Instructions for updating:\n",
            "Colocations handled automatically by placer.\n",
            "_________________________________________________________________\n",
            "Layer (type)                 Output Shape              Param #   \n",
            "=================================================================\n",
            "input_1 (InputLayer)         (None, 3072)              0         \n",
            "_________________________________________________________________\n",
            "dense_1 (Dense)              (None, 256)               786688    \n",
            "_________________________________________________________________\n",
            "batch_normalization_1 (Batch (None, 256)               1024      \n",
            "_________________________________________________________________\n",
            "dense_2 (Dense)              (None, 256)               65792     \n",
            "_________________________________________________________________\n",
            "batch_normalization_2 (Batch (None, 256)               1024      \n",
            "_________________________________________________________________\n",
            "dense_3 (Dense)              (None, 256)               65792     \n",
            "_________________________________________________________________\n",
            "batch_normalization_3 (Batch (None, 256)               1024      \n",
            "_________________________________________________________________\n",
            "dense_4 (Dense)              (None, 10)                2570      \n",
            "=================================================================\n",
            "Total params: 923,914\n",
            "Trainable params: 922,378\n",
            "Non-trainable params: 1,536\n",
            "_________________________________________________________________\n"
          ],
          "name": "stdout"
        }
      ]
    },
    {
      "metadata": {
        "id": "b5Rml4rdh3vq",
        "colab_type": "code",
        "colab": {}
      },
      "cell_type": "code",
      "source": [
        "## 超參數設定\n",
        "LEARNING_RATE = 1e-3\n",
        "EPOCHS = 25\n",
        "BATCH_SIZE = 1024\n",
        "MOMENTUM = 0.95"
      ],
      "execution_count": 0,
      "outputs": []
    },
    {
      "metadata": {
        "id": "tD8bq6olh3vu",
        "colab_type": "code",
        "colab": {}
      },
      "cell_type": "code",
      "source": [
        "# 載入 Callbacks\n",
        "import keras.backend as K\n",
        "from keras.callbacks import Callback\n",
        "from sklearn.metrics import confusion_matrix\n",
        "\n",
        "\n",
        "# Record_fp_tp\n",
        "class Record_tp_tn(Callback):\n",
        "    def __init__(self, val_data, batch_size=1024):\n",
        "        super().__init__()\n",
        "        self.validation_data = val_data\n",
        "        self.batch_size = batch_size\n",
        "\n",
        "    def on_train_begin(self, epoch, logs={}):\n",
        "        logs = logs or {}\n",
        "        record_items = [\n",
        "            \"val_auc\", \"val_f1sc\", \"val_fp\", \"val_fn\", \"val_tp\", \"val_tn\"\n",
        "        ]\n",
        "        for i in record_items:\n",
        "            if i not in self.params['metrics']:\n",
        "                self.params['metrics'].append(i)\n",
        "\n",
        "    def on_epoch_end(self, epoch, logs={}, thres=0.5):\n",
        "        logs = logs or {}\n",
        "        y_true = self.validation_data[1].argmax(axis=1)\n",
        "        y_pred = self.model.predict(self.validation_data[0])\n",
        "        y_pred = (y_pred[:, 1] >= thres) * 1\n",
        "        cm = confusion_matrix(y_true, y_pred)\n",
        "        logs[\"val_tn\"], logs[\"val_fp\"], logs[\"val_fn\"], logs[\"val_tp\"] = cm[0][\n",
        "            0], cm[0][1], cm[1][0], cm[1][1]\n",
        "\n",
        "\n",
        "rec_tptn = Record_tp_tn((x_test, y_test))"
      ],
      "execution_count": 0,
      "outputs": []
    },
    {
      "metadata": {
        "scrolled": true,
        "id": "6_AF4MsKh3vy",
        "colab_type": "code",
        "colab": {
          "base_uri": "https://localhost:8080/",
          "height": 1275
        },
        "outputId": "6cbee362-6cfb-48b0-9f1b-1b35f95946f7"
      },
      "cell_type": "code",
      "source": [
        "model = build_mlp()\n",
        "model.summary()\n",
        "optimizer = keras.optimizers.SGD(lr=LEARNING_RATE, nesterov=True, momentum=MOMENTUM)\n",
        "model.compile(loss=\"categorical_crossentropy\", metrics=[\"accuracy\"], optimizer=optimizer)\n",
        "\n",
        "\"\"\"\n",
        "To do:\n",
        "Fit the model with rec_tptn callback_fn\n",
        "\"\"\"\n",
        "model.fit(\n",
        "    x_train,\n",
        "    y_train,\n",
        "    epochs=EPOCHS,\n",
        "    batch_size=BATCH_SIZE,\n",
        "    validation_data=(x_test, y_test),\n",
        "    shuffle=True,\n",
        "    callbacks=[rec_tptn]\n",
        ")\n",
        "\n",
        "# Collect results\n",
        "train_loss = model.history.history[\"loss\"]\n",
        "valid_loss = model.history.history[\"val_loss\"]\n",
        "train_acc = model.history.history[\"acc\"]\n",
        "valid_acc = model.history.history[\"val_acc\"]\n",
        "\n",
        "\"\"\"\n",
        "To do:\n",
        "Collect tp/tn from model history\n",
        "\"\"\"\n",
        "valid_tp = model.history.history['val_tp']\n",
        "valid_tn = model.history.history['val_tn']"
      ],
      "execution_count": 12,
      "outputs": [
        {
          "output_type": "stream",
          "text": [
            "_________________________________________________________________\n",
            "Layer (type)                 Output Shape              Param #   \n",
            "=================================================================\n",
            "input_3 (InputLayer)         (None, 3072)              0         \n",
            "_________________________________________________________________\n",
            "dense_9 (Dense)              (None, 256)               786688    \n",
            "_________________________________________________________________\n",
            "batch_normalization_7 (Batch (None, 256)               1024      \n",
            "_________________________________________________________________\n",
            "dense_10 (Dense)             (None, 256)               65792     \n",
            "_________________________________________________________________\n",
            "batch_normalization_8 (Batch (None, 256)               1024      \n",
            "_________________________________________________________________\n",
            "dense_11 (Dense)             (None, 256)               65792     \n",
            "_________________________________________________________________\n",
            "batch_normalization_9 (Batch (None, 256)               1024      \n",
            "_________________________________________________________________\n",
            "dense_12 (Dense)             (None, 10)                2570      \n",
            "=================================================================\n",
            "Total params: 923,914\n",
            "Trainable params: 922,378\n",
            "Non-trainable params: 1,536\n",
            "_________________________________________________________________\n",
            "Train on 50000 samples, validate on 10000 samples\n",
            "Epoch 1/25\n",
            "50000/50000 [==============================] - 3s 50us/step - loss: 2.2814 - acc: 0.2601 - val_loss: 2.1167 - val_acc: 0.3048\n",
            "Epoch 2/25\n",
            "50000/50000 [==============================] - 2s 37us/step - loss: 1.7754 - acc: 0.3841 - val_loss: 1.8512 - val_acc: 0.3609\n",
            "Epoch 3/25\n",
            "50000/50000 [==============================] - 2s 36us/step - loss: 1.6428 - acc: 0.4250 - val_loss: 1.7093 - val_acc: 0.4064\n",
            "Epoch 4/25\n",
            "50000/50000 [==============================] - 2s 36us/step - loss: 1.5693 - acc: 0.4517 - val_loss: 1.6692 - val_acc: 0.4158\n",
            "Epoch 5/25\n",
            "50000/50000 [==============================] - 2s 36us/step - loss: 1.5145 - acc: 0.4696 - val_loss: 1.6130 - val_acc: 0.4383\n",
            "Epoch 6/25\n",
            "50000/50000 [==============================] - 2s 36us/step - loss: 1.4689 - acc: 0.4848 - val_loss: 1.5750 - val_acc: 0.4449\n",
            "Epoch 7/25\n",
            "50000/50000 [==============================] - 2s 36us/step - loss: 1.4331 - acc: 0.4978 - val_loss: 1.5658 - val_acc: 0.4407\n",
            "Epoch 8/25\n",
            "50000/50000 [==============================] - 2s 36us/step - loss: 1.3991 - acc: 0.5076 - val_loss: 1.5393 - val_acc: 0.4560\n",
            "Epoch 9/25\n",
            "50000/50000 [==============================] - 2s 36us/step - loss: 1.3690 - acc: 0.5206 - val_loss: 1.5182 - val_acc: 0.4676\n",
            "Epoch 10/25\n",
            "50000/50000 [==============================] - 2s 36us/step - loss: 1.3411 - acc: 0.5301 - val_loss: 1.5154 - val_acc: 0.4619\n",
            "Epoch 11/25\n",
            "50000/50000 [==============================] - 2s 36us/step - loss: 1.3153 - acc: 0.5397 - val_loss: 1.5006 - val_acc: 0.4731\n",
            "Epoch 12/25\n",
            "50000/50000 [==============================] - 2s 36us/step - loss: 1.2916 - acc: 0.5483 - val_loss: 1.4912 - val_acc: 0.4714\n",
            "Epoch 13/25\n",
            "50000/50000 [==============================] - 2s 36us/step - loss: 1.2677 - acc: 0.5573 - val_loss: 1.4863 - val_acc: 0.4736\n",
            "Epoch 14/25\n",
            "50000/50000 [==============================] - 2s 36us/step - loss: 1.2460 - acc: 0.5652 - val_loss: 1.4725 - val_acc: 0.4798\n",
            "Epoch 15/25\n",
            "50000/50000 [==============================] - 2s 36us/step - loss: 1.2248 - acc: 0.5742 - val_loss: 1.4792 - val_acc: 0.4761\n",
            "Epoch 16/25\n",
            "50000/50000 [==============================] - 2s 36us/step - loss: 1.2050 - acc: 0.5810 - val_loss: 1.4732 - val_acc: 0.4792\n",
            "Epoch 17/25\n",
            "50000/50000 [==============================] - 2s 36us/step - loss: 1.1855 - acc: 0.5893 - val_loss: 1.4664 - val_acc: 0.4859\n",
            "Epoch 18/25\n",
            "50000/50000 [==============================] - 2s 36us/step - loss: 1.1654 - acc: 0.5954 - val_loss: 1.4658 - val_acc: 0.4848\n",
            "Epoch 19/25\n",
            "50000/50000 [==============================] - 2s 36us/step - loss: 1.1480 - acc: 0.6037 - val_loss: 1.4550 - val_acc: 0.4867\n",
            "Epoch 20/25\n",
            "50000/50000 [==============================] - 2s 36us/step - loss: 1.1284 - acc: 0.6106 - val_loss: 1.4662 - val_acc: 0.4840\n",
            "Epoch 21/25\n",
            "50000/50000 [==============================] - 2s 36us/step - loss: 1.1118 - acc: 0.6170 - val_loss: 1.4664 - val_acc: 0.4892\n",
            "Epoch 22/25\n",
            "50000/50000 [==============================] - 2s 36us/step - loss: 1.0942 - acc: 0.6243 - val_loss: 1.4426 - val_acc: 0.4928\n",
            "Epoch 23/25\n",
            "50000/50000 [==============================] - 2s 36us/step - loss: 1.0773 - acc: 0.6304 - val_loss: 1.4580 - val_acc: 0.4891\n",
            "Epoch 24/25\n",
            "50000/50000 [==============================] - 2s 36us/step - loss: 1.0588 - acc: 0.6376 - val_loss: 1.4538 - val_acc: 0.4967\n",
            "Epoch 25/25\n",
            "50000/50000 [==============================] - 2s 36us/step - loss: 1.0428 - acc: 0.6426 - val_loss: 1.4487 - val_acc: 0.4913\n"
          ],
          "name": "stdout"
        }
      ]
    },
    {
      "metadata": {
        "id": "uMQYZ-E6h3v1",
        "colab_type": "code",
        "colab": {
          "base_uri": "https://localhost:8080/",
          "height": 806
        },
        "outputId": "b7144c5f-53c5-40a5-8c1c-76ee9c41db7a"
      },
      "cell_type": "code",
      "source": [
        "import matplotlib.pyplot as plt\n",
        "%matplotlib inline\n",
        "\n",
        "plt.plot(range(len(train_loss)), train_loss, label=\"train loss\")\n",
        "plt.plot(range(len(valid_loss)), valid_loss, label=\"valid loss\")\n",
        "plt.legend()\n",
        "plt.title(\"Loss\")\n",
        "plt.show()\n",
        "\n",
        "plt.plot(range(len(train_acc)), train_acc, label=\"train accuracy\")\n",
        "plt.plot(range(len(valid_acc)), valid_acc, label=\"valid accuracy\")\n",
        "plt.legend()\n",
        "plt.title(\"Accuracy\")\n",
        "plt.show()\n",
        "\n",
        "plt.plot(range(len(valid_tp)), valid_tp, label=\"valid tp\", color=\"navy\")\n",
        "plt.plot(range(len(valid_tn)), valid_tn, label=\"valid tn\", color=\"red\")\n",
        "plt.legend()\n",
        "plt.title(\"True positives and True Negatives\")\n",
        "plt.show()\n"
      ],
      "execution_count": 13,
      "outputs": [
        {
          "output_type": "display_data",
          "data": {
            "image/png": "[encoded data removed]",
            "text/plain": [
              "<Figure size 432x288 with 1 Axes>"
            ]
          },
          "metadata": {
            "tags": []
          }
        },
        {
          "output_type": "display_data",
          "data": {
            "image/png": "[encoded data removed]",
            "text/plain": [
              "<Figure size 432x288 with 1 Axes>"
            ]
          },
          "metadata": {
            "tags": []
          }
        },
        {
          "output_type": "display_data",
          "data": {
            "image/png": "[encoded data removed]",
            "text/plain": [
              "<Figure size 432x288 with 1 Axes>"
            ]
          },
          "metadata": {
            "tags": []
          }
        }
      ]
    },
    {
      "metadata": {
        "id": "9rBATxEMvPuZ",
        "colab_type": "code",
        "colab": {}
      },
      "cell_type": "code",
      "source": [
        ""
      ],
      "execution_count": 0,
      "outputs": []
    }
  ]
}