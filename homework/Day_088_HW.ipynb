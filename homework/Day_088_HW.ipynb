{
  "nbformat": 4,
  "nbformat_minor": 0,
  "metadata": {
    "colab": {
      "name": "Day_088_HW.ipynb",
      "version": "0.3.2",
      "provenance": [],
      "collapsed_sections": [],
      "include_colab_link": true
    },
    "kernelspec": {
      "name": "python3",
      "display_name": "Python 3"
    },
    "accelerator": "GPU"
  },
  "cells": [
    {
      "cell_type": "markdown",
      "metadata": {
        "id": "view-in-github",
        "colab_type": "text"
      },
      "source": [
        "<a href=\"https://colab.research.google.com/github/oailnivek/ML100-Days/blob/master/homework/Day_088_HW.ipynb\" target=\"_parent\"><img src=\"https://colab.research.google.com/assets/colab-badge.svg\" alt=\"Open In Colab\"/></a>"
      ]
    },
    {
      "metadata": {
        "id": "ZeeVcApkh3vY",
        "colab_type": "text"
      },
      "cell_type": "markdown",
      "source": [
        "## Work\n",
        "1. 請嘗試寫一個 callback 用來記錄各類別在訓練過程中，對驗證集的 True Positive 與 True Negative"
      ]
    },
    {
      "metadata": {
        "id": "RyH8mSlqh3va",
        "colab_type": "code",
        "colab": {}
      },
      "cell_type": "code",
      "source": [
        "import os\n",
        "import keras\n",
        "\n",
        "os.environ[\"CUDA_VISIBLE_DEVICES\"] = \"\""
      ],
      "execution_count": 0,
      "outputs": []
    },
    {
      "metadata": {
        "id": "XvLHt2uch3ve",
        "colab_type": "code",
        "colab": {}
      },
      "cell_type": "code",
      "source": [
        "train, test = keras.datasets.cifar10.load_data()"
      ],
      "execution_count": 0,
      "outputs": []
    },
    {
      "metadata": {
        "id": "4q7kyky0h3vh",
        "colab_type": "code",
        "colab": {}
      },
      "cell_type": "code",
      "source": [
        "## 資料前處理\n",
        "def preproc_x(x, flatten=True):\n",
        "    x = x / 255.\n",
        "    if flatten:\n",
        "        x = x.reshape((len(x), -1))\n",
        "    return x\n",
        "\n",
        "def preproc_y(y, num_classes=10):\n",
        "    if y.shape[-1] == 1:\n",
        "        y = keras.utils.to_categorical(y, num_classes)\n",
        "    return y    "
      ],
      "execution_count": 0,
      "outputs": []
    },
    {
      "metadata": {
        "id": "x93DhoaGh3vk",
        "colab_type": "code",
        "colab": {}
      },
      "cell_type": "code",
      "source": [
        "x_train, y_train = train\n",
        "x_test, y_test = test\n",
        "\n",
        "# Preproc the inputs\n",
        "x_train = preproc_x(x_train)\n",
        "x_test = preproc_x(x_test)\n",
        "\n",
        "# Preprc the outputs\n",
        "y_train = preproc_y(y_train)\n",
        "y_test = preproc_y(y_test)"
      ],
      "execution_count": 0,
      "outputs": []
    },
    {
      "metadata": {
        "id": "qdcmpVzbh3vo",
        "colab_type": "code",
        "outputId": "b4b6b553-c321-4714-a43c-8b37b429b306",
        "colab": {
          "base_uri": "https://localhost:8080/",
          "height": 479
        }
      },
      "cell_type": "code",
      "source": [
        "from keras.models import Model\n",
        "from keras.layers import Input, Dense, BatchNormalization\n",
        "\n",
        "def build_mlp(input_shape=x_train.shape[1:], output_units=10, num_neurons=[256, 256, 256]):\n",
        "    input = Input(input_shape)\n",
        "    \n",
        "    for i, n_units in enumerate(num_neurons):\n",
        "        layer = Dense(units=n_units, activation='relu')\n",
        "        x = layer(input if i == 0 else x)\n",
        "        x = BatchNormalization()(x)\n",
        "        \n",
        "    out = Dense(units=output_units, activation='softmax')(x)\n",
        "    \n",
        "    return Model(inputs=[input], outputs=[out])\n",
        "\n",
        "def model_summary():\n",
        "    model = build_mlp()\n",
        "    model.summary()\n",
        "    \n",
        "model_summary()"
      ],
      "execution_count": 7,
      "outputs": [
        {
          "output_type": "stream",
          "text": [
            "WARNING:tensorflow:From /usr/local/lib/python3.6/dist-packages/tensorflow/python/framework/op_def_library.py:263: colocate_with (from tensorflow.python.framework.ops) is deprecated and will be removed in a future version.\n",
            "Instructions for updating:\n",
            "Colocations handled automatically by placer.\n",
            "_________________________________________________________________\n",
            "Layer (type)                 Output Shape              Param #   \n",
            "=================================================================\n",
            "input_1 (InputLayer)         (None, 3072)              0         \n",
            "_________________________________________________________________\n",
            "dense_1 (Dense)              (None, 256)               786688    \n",
            "_________________________________________________________________\n",
            "batch_normalization_1 (Batch (None, 256)               1024      \n",
            "_________________________________________________________________\n",
            "dense_2 (Dense)              (None, 256)               65792     \n",
            "_________________________________________________________________\n",
            "batch_normalization_2 (Batch (None, 256)               1024      \n",
            "_________________________________________________________________\n",
            "dense_3 (Dense)              (None, 256)               65792     \n",
            "_________________________________________________________________\n",
            "batch_normalization_3 (Batch (None, 256)               1024      \n",
            "_________________________________________________________________\n",
            "dense_4 (Dense)              (None, 10)                2570      \n",
            "=================================================================\n",
            "Total params: 923,914\n",
            "Trainable params: 922,378\n",
            "Non-trainable params: 1,536\n",
            "_________________________________________________________________\n"
          ],
          "name": "stdout"
        }
      ]
    },
    {
      "metadata": {
        "id": "b5Rml4rdh3vq",
        "colab_type": "code",
        "colab": {}
      },
      "cell_type": "code",
      "source": [
        "## 超參數設定\n",
        "LEARNING_RATE = 1e-3\n",
        "EPOCHS = 25\n",
        "BATCH_SIZE = 1024\n",
        "MOMENTUM = 0.95"
      ],
      "execution_count": 0,
      "outputs": []
    },
    {
      "metadata": {
        "id": "tD8bq6olh3vu",
        "colab_type": "code",
        "colab": {}
      },
      "cell_type": "code",
      "source": [
        "# 載入 Callbacks\n",
        "from keras.callbacks import Callback\n",
        "\n",
        "# Record_fp_tp\n",
        "class Record_tp_tn(Callback):\n",
        "    def on_train_begin(self, epoch, logs={}):\n",
        "        logs = logs or {}\n",
        "        record_items = ['val_tpZ', 'val_tn']\n",
        "        for i in record_items:\n",
        "            if i not in self.params['metrics']:\n",
        "                self.params['metrics'].append(i)\n",
        "\n",
        "    def on_epoch_end(self, epoch, logs={}, thres=0.5):\n",
        "        logs = logs or {}\n",
        "        y_true = self.validation_data[1].argmax(axis=1)\n",
        "        y_pred = self.model.predict(self.validation_data[0])\n",
        "        y_pred = (y_pred[:, 1] >= thres) * 1\n",
        "        \n",
        "        logs['val_tp'] = sum(y_true * y_pred)\n",
        "        logs['val_tn'] = sum((y_true == 0) & (y_pred == 0))\n",
        "\n",
        "\n",
        "rec_tptn = Record_tp_tn()"
      ],
      "execution_count": 0,
      "outputs": []
    },
    {
      "metadata": {
        "scrolled": true,
        "id": "6_AF4MsKh3vy",
        "colab_type": "code",
        "outputId": "bf191700-e4af-4d4d-960f-9b1d6b19aa18",
        "colab": {
          "base_uri": "https://localhost:8080/",
          "height": 884
        }
      },
      "cell_type": "code",
      "source": [
        "model = build_mlp()\n",
        "# model.summary()\n",
        "optimizer = keras.optimizers.SGD(lr=LEARNING_RATE, nesterov=True, momentum=MOMENTUM)\n",
        "model.compile(loss=\"categorical_crossentropy\", metrics=[\"accuracy\"], optimizer=optimizer)\n",
        "\n",
        "\"\"\"\n",
        "To do:\n",
        "Fit the model with rec_tptn callback_fn\n",
        "\"\"\"\n",
        "model.fit(\n",
        "    x_train,\n",
        "    y_train,\n",
        "    epochs=EPOCHS,\n",
        "    batch_size=BATCH_SIZE,\n",
        "    validation_data=(x_test, y_test),\n",
        "    shuffle=True,\n",
        "    callbacks=[rec_tptn]\n",
        ")\n",
        "\n",
        "# Collect results\n",
        "train_loss = model.history.history[\"loss\"]\n",
        "valid_loss = model.history.history[\"val_loss\"]\n",
        "train_acc = model.history.history[\"acc\"]\n",
        "valid_acc = model.history.history[\"val_acc\"]\n",
        "\n",
        "\"\"\"\n",
        "To do:\n",
        "Collect tp/tn from model history\n",
        "\"\"\"\n",
        "valid_tp = model.history.history['val_tp']\n",
        "valid_tn = model.history.history['val_tn']"
      ],
      "execution_count": 15,
      "outputs": [
        {
          "output_type": "stream",
          "text": [
            "Train on 50000 samples, validate on 10000 samples\n",
            "Epoch 1/25\n",
            "50000/50000 [==============================] - 6s 130us/step - loss: 2.2442 - acc: 0.2682 - val_loss: 2.2343 - val_acc: 0.2974\n",
            "Epoch 2/25\n",
            "50000/50000 [==============================] - 6s 117us/step - loss: 1.7651 - acc: 0.3852 - val_loss: 1.8600 - val_acc: 0.3731\n",
            "Epoch 3/25\n",
            "50000/50000 [==============================] - 6s 118us/step - loss: 1.6327 - acc: 0.4300 - val_loss: 1.7138 - val_acc: 0.4053\n",
            "Epoch 4/25\n",
            "50000/50000 [==============================] - 6s 118us/step - loss: 1.5573 - acc: 0.4558 - val_loss: 1.6541 - val_acc: 0.4296\n",
            "Epoch 5/25\n",
            "50000/50000 [==============================] - 6s 120us/step - loss: 1.5045 - acc: 0.4732 - val_loss: 1.6068 - val_acc: 0.4364\n",
            "Epoch 6/25\n",
            "50000/50000 [==============================] - 6s 118us/step - loss: 1.4606 - acc: 0.4897 - val_loss: 1.5974 - val_acc: 0.4458\n",
            "Epoch 7/25\n",
            "50000/50000 [==============================] - 6s 119us/step - loss: 1.4232 - acc: 0.5031 - val_loss: 1.5462 - val_acc: 0.4577\n",
            "Epoch 8/25\n",
            "50000/50000 [==============================] - 6s 119us/step - loss: 1.3892 - acc: 0.5151 - val_loss: 1.5317 - val_acc: 0.4629\n",
            "Epoch 9/25\n",
            "50000/50000 [==============================] - 6s 118us/step - loss: 1.3611 - acc: 0.5249 - val_loss: 1.5111 - val_acc: 0.4687\n",
            "Epoch 10/25\n",
            "50000/50000 [==============================] - 6s 118us/step - loss: 1.3325 - acc: 0.5354 - val_loss: 1.5126 - val_acc: 0.4647\n",
            "Epoch 11/25\n",
            "50000/50000 [==============================] - 6s 118us/step - loss: 1.3083 - acc: 0.5472 - val_loss: 1.4975 - val_acc: 0.4734\n",
            "Epoch 12/25\n",
            "50000/50000 [==============================] - 6s 119us/step - loss: 1.2831 - acc: 0.5541 - val_loss: 1.4839 - val_acc: 0.4769\n",
            "Epoch 13/25\n",
            "50000/50000 [==============================] - 6s 119us/step - loss: 1.2605 - acc: 0.5619 - val_loss: 1.4782 - val_acc: 0.4826\n",
            "Epoch 14/25\n",
            "50000/50000 [==============================] - 6s 119us/step - loss: 1.2385 - acc: 0.5702 - val_loss: 1.4648 - val_acc: 0.4835\n",
            "Epoch 15/25\n",
            "50000/50000 [==============================] - 6s 119us/step - loss: 1.2190 - acc: 0.5785 - val_loss: 1.4558 - val_acc: 0.4867\n",
            "Epoch 16/25\n",
            "50000/50000 [==============================] - 6s 118us/step - loss: 1.1996 - acc: 0.5848 - val_loss: 1.4515 - val_acc: 0.4899\n",
            "Epoch 17/25\n",
            "50000/50000 [==============================] - 6s 119us/step - loss: 1.1800 - acc: 0.5920 - val_loss: 1.4491 - val_acc: 0.4829\n",
            "Epoch 18/25\n",
            "50000/50000 [==============================] - 6s 118us/step - loss: 1.1595 - acc: 0.5987 - val_loss: 1.4443 - val_acc: 0.4889\n",
            "Epoch 19/25\n",
            "50000/50000 [==============================] - 6s 118us/step - loss: 1.1409 - acc: 0.6055 - val_loss: 1.4472 - val_acc: 0.4885\n",
            "Epoch 20/25\n",
            "50000/50000 [==============================] - 6s 118us/step - loss: 1.1234 - acc: 0.6131 - val_loss: 1.4464 - val_acc: 0.4861\n",
            "Epoch 21/25\n",
            "50000/50000 [==============================] - 6s 119us/step - loss: 1.1063 - acc: 0.6187 - val_loss: 1.4415 - val_acc: 0.4895\n",
            "Epoch 22/25\n",
            "50000/50000 [==============================] - 6s 119us/step - loss: 1.0911 - acc: 0.6254 - val_loss: 1.4349 - val_acc: 0.4949\n",
            "Epoch 23/25\n",
            "50000/50000 [==============================] - 6s 118us/step - loss: 1.0731 - acc: 0.6340 - val_loss: 1.4370 - val_acc: 0.4959\n",
            "Epoch 24/25\n",
            "50000/50000 [==============================] - 6s 119us/step - loss: 1.0567 - acc: 0.6386 - val_loss: 1.4350 - val_acc: 0.4995\n",
            "Epoch 25/25\n",
            "50000/50000 [==============================] - 6s 119us/step - loss: 1.0393 - acc: 0.6463 - val_loss: 1.4414 - val_acc: 0.4959\n"
          ],
          "name": "stdout"
        }
      ]
    },
    {
      "metadata": {
        "id": "uMQYZ-E6h3v1",
        "colab_type": "code",
        "outputId": "01f9066c-4d09-4621-ae4c-e5ea5ace9d8e",
        "colab": {
          "base_uri": "https://localhost:8080/",
          "height": 806
        }
      },
      "cell_type": "code",
      "source": [
        "import matplotlib.pyplot as plt\n",
        "%matplotlib inline\n",
        "\n",
        "plt.plot(range(len(train_loss)), train_loss, label=\"train loss\")\n",
        "plt.plot(range(len(valid_loss)), valid_loss, label=\"valid loss\")\n",
        "plt.legend()\n",
        "plt.title(\"Loss\")\n",
        "plt.show()\n",
        "\n",
        "plt.plot(range(len(train_acc)), train_acc, label=\"train accuracy\")\n",
        "plt.plot(range(len(valid_acc)), valid_acc, label=\"valid accuracy\")\n",
        "plt.legend()\n",
        "plt.title(\"Accuracy\")\n",
        "plt.show()\n",
        "\n",
        "plt.plot(range(len(valid_tp)), valid_tp, label=\"valid tp\", color=\"navy\")\n",
        "plt.plot(range(len(valid_tn)), valid_tn, label=\"valid tn\", color=\"red\")\n",
        "plt.legend()\n",
        "plt.title(\"True positives and True Negatives\")\n",
        "plt.show()\n"
      ],
      "execution_count": 16,
      "outputs": [
        {
          "output_type": "display_data",
          "data": {
            "image/png": "[encoded data removed]",
            "text/plain": [
              "<Figure size 432x288 with 1 Axes>"
            ]
          },
          "metadata": {
            "tags": []
          }
        },
        {
          "output_type": "display_data",
          "data": {
            "image/png": "[encoded data removed]",
            "text/plain": [
              "<Figure size 432x288 with 1 Axes>"
            ]
          },
          "metadata": {
            "tags": []
          }
        },
        {
          "output_type": "display_data",
          "data": {
            "image/png": "[encoded data removed]",
            "text/plain": [
              "<Figure size 432x288 with 1 Axes>"
            ]
          },
          "metadata": {
            "tags": []
          }
        }
      ]
    },
    {
      "metadata": {
        "id": "9rBATxEMvPuZ",
        "colab_type": "code",
        "colab": {}
      },
      "cell_type": "code",
      "source": [
        ""
      ],
      "execution_count": 0,
      "outputs": []
    }
  ]
}