{
  "nbformat": 4,
  "nbformat_minor": 0,
  "metadata": {
    "colab": {
      "name": "Day_093-CNN_Brief_HW.ipynb",
      "version": "0.3.2",
      "provenance": [],
      "collapsed_sections": [],
      "include_colab_link": true
    },
    "language_info": {
      "codemirror_mode": {
        "name": "ipython",
        "version": 3
      },
      "file_extension": ".py",
      "mimetype": "text/x-python",
      "name": "python",
      "nbconvert_exporter": "python",
      "pygments_lexer": "ipython3",
      "version": "3.7.0"
    },
    "kernelspec": {
      "name": "python3",
      "display_name": "Python 3"
    },
    "accelerator": "GPU"
  },
  "cells": [
    {
      "cell_type": "markdown",
      "metadata": {
        "id": "view-in-github",
        "colab_type": "text"
      },
      "source": [
        "<a href=\"https://colab.research.google.com/github/oailnivek/ML100-Days/blob/master/homework/Day_093_CNN_Brief_HW.ipynb\" target=\"_parent\"><img src=\"https://colab.research.google.com/assets/colab-badge.svg\" alt=\"Open In Colab\"/></a>"
      ]
    },
    {
      "metadata": {
        "id": "J_slEdcF6yc1",
        "colab_type": "text"
      },
      "cell_type": "markdown",
      "source": [
        "# 目標:\n",
        "    運用 Keras 模組建構CNN, 了解 CNN 的架構\n",
        "    \n",
        "    "
      ]
    },
    {
      "metadata": {
        "id": "3SQKT5S36yc2",
        "colab_type": "text"
      },
      "cell_type": "markdown",
      "source": [
        "# 範例重點\n",
        "    CNN 模型必要的: Convolution, Pooling, Flatten, Fully connection, Output, "
      ]
    },
    {
      "metadata": {
        "id": "cmVGgZY16yc2",
        "colab_type": "text"
      },
      "cell_type": "markdown",
      "source": [
        "# 作業¶\n",
        "(1)嘗試比對 Dense 與 layers.Conv2D 架構NN 的差異\n",
        "\n",
        "(2) 有沒有Pooling layer, 對於參數量的差異\n",
        "\n",
        "注意: input_shape 請勿修改"
      ]
    },
    {
      "metadata": {
        "id": "BUBTC-nY6yc3",
        "colab_type": "code",
        "outputId": "2bf4b6ec-8aa5-4dc2-d119-7105bd88ab66",
        "colab": {
          "base_uri": "https://localhost:8080/",
          "height": 34
        }
      },
      "cell_type": "code",
      "source": [
        "#導入相關模組\n",
        "import keras\n",
        "from keras import layers\n",
        "from keras import models\n",
        "from keras.models import Sequential\n",
        "from keras.layers import Conv2D, Activation, MaxPooling2D, Flatten, Dense\n",
        "\n",
        "#確認keras 版本\n",
        "print(keras.__version__)"
      ],
      "execution_count": 13,
      "outputs": [
        {
          "output_type": "stream",
          "text": [
            "2.2.4\n"
          ],
          "name": "stdout"
        }
      ]
    },
    {
      "metadata": {
        "id": "Oood-ELL6yc7",
        "colab_type": "code",
        "colab": {
          "base_uri": "https://localhost:8080/",
          "height": 306
        },
        "outputId": "45fc8fb5-9bfd-4c8f-e6fd-b2c6220c22a4"
      },
      "cell_type": "code",
      "source": [
        "def make_dense_model():\n",
        "    model = Sequential([\n",
        "        Dense(32, input_shape=(784,)),\n",
        "        Dense(32),\n",
        "        Activation('relu'),\n",
        "        Dense(10),\n",
        "        Activation('softmax'),\n",
        "    ])\n",
        "    \n",
        "    return model\n",
        "\n",
        "make_dense_model().summary()"
      ],
      "execution_count": 14,
      "outputs": [
        {
          "output_type": "stream",
          "text": [
            "_________________________________________________________________\n",
            "Layer (type)                 Output Shape              Param #   \n",
            "=================================================================\n",
            "dense_9 (Dense)              (None, 32)                25120     \n",
            "_________________________________________________________________\n",
            "dense_10 (Dense)             (None, 32)                1056      \n",
            "_________________________________________________________________\n",
            "activation_7 (Activation)    (None, 32)                0         \n",
            "_________________________________________________________________\n",
            "dense_11 (Dense)             (None, 10)                330       \n",
            "_________________________________________________________________\n",
            "activation_8 (Activation)    (None, 10)                0         \n",
            "=================================================================\n",
            "Total params: 26,506\n",
            "Trainable params: 26,506\n",
            "Non-trainable params: 0\n",
            "_________________________________________________________________\n"
          ],
          "name": "stdout"
        }
      ]
    },
    {
      "metadata": {
        "id": "DdSiwsxl6yc_",
        "colab_type": "text"
      },
      "cell_type": "markdown",
      "source": [
        "# layers.Conv2D 模型, 用作比對\n",
        "\n",
        "![CNN_Model.png](attachment:CNN_Model.png)\n",
        "\n"
      ]
    },
    {
      "metadata": {
        "id": "5nsrQw8Z6yc_",
        "colab_type": "code",
        "colab": {
          "base_uri": "https://localhost:8080/",
          "height": 374
        },
        "outputId": "37a4f133-47d7-4774-b4a7-ab83c33ac47e"
      },
      "cell_type": "code",
      "source": [
        "def make_conv_model():\n",
        "    #建立一個序列模型\n",
        "    model = models.Sequential()\n",
        "    \n",
        "    #建立兩個卷積層, 32 個內核, 內核大小 3x3, \n",
        "    #輸入影像大小 28x28x1\n",
        "    model.add(Conv2D(32, (3, 3), input_shape=(28, 28, 1)))\n",
        "    model.add(Conv2D(25, (3, 3)))\n",
        "    \n",
        "    model.add(Flatten())\n",
        "\n",
        "    #建立一個全連接層\n",
        "    model.add(Dense(units=100))\n",
        "    model.add(Activation('relu'))\n",
        "\n",
        "    #建立一個輸出層, 並採用softmax\n",
        "    model.add(Dense(units=10))\n",
        "    model.add(Activation('softmax'))\n",
        "    \n",
        "    return model\n",
        "\n",
        "make_conv_model().summary()"
      ],
      "execution_count": 20,
      "outputs": [
        {
          "output_type": "stream",
          "text": [
            "_________________________________________________________________\n",
            "Layer (type)                 Output Shape              Param #   \n",
            "=================================================================\n",
            "conv2d_14 (Conv2D)           (None, 26, 26, 32)        320       \n",
            "_________________________________________________________________\n",
            "conv2d_15 (Conv2D)           (None, 24, 24, 25)        7225      \n",
            "_________________________________________________________________\n",
            "flatten_4 (Flatten)          (None, 14400)             0         \n",
            "_________________________________________________________________\n",
            "dense_22 (Dense)             (None, 100)               1440100   \n",
            "_________________________________________________________________\n",
            "activation_19 (Activation)   (None, 100)               0         \n",
            "_________________________________________________________________\n",
            "dense_23 (Dense)             (None, 10)                1010      \n",
            "_________________________________________________________________\n",
            "activation_20 (Activation)   (None, 10)                0         \n",
            "=================================================================\n",
            "Total params: 1,448,655\n",
            "Trainable params: 1,448,655\n",
            "Non-trainable params: 0\n",
            "_________________________________________________________________\n"
          ],
          "name": "stdout"
        }
      ]
    },
    {
      "metadata": {
        "id": "UHzyJnpNa7wI",
        "colab_type": "code",
        "colab": {
          "base_uri": "https://localhost:8080/",
          "height": 442
        },
        "outputId": "4f4a0f02-0c4d-41ed-8173-a8f7cd73ff55"
      },
      "cell_type": "code",
      "source": [
        "def make_conv_model_with_pooling():\n",
        "    #建立一個序列模型\n",
        "    model = models.Sequential()\n",
        "    \n",
        "    #建立兩個卷積層, 32 個內核, 內核大小 3x3, \n",
        "    #輸入影像大小 28x28x1\n",
        "    model.add(Conv2D(32, (3, 3), input_shape=(28, 28, 1)))\n",
        "    model.add(MaxPooling2D((2, 2)))\n",
        "    \n",
        "    model.add(Conv2D(25, (3, 3)))\n",
        "    model.add(MaxPooling2D((2, 2)))\n",
        "\n",
        "    model.add(Flatten())\n",
        "    \n",
        "    #建立一個全連接層\n",
        "    model.add(Dense(units=100))\n",
        "    model.add(Activation('relu'))\n",
        "\n",
        "    #建立一個輸出層, 並採用softmax\n",
        "    model.add(Dense(units=10))\n",
        "    model.add(Activation('softmax'))\n",
        "    \n",
        "    return model\n",
        "\n",
        "make_conv_model_with_pooling().summary()"
      ],
      "execution_count": 21,
      "outputs": [
        {
          "output_type": "stream",
          "text": [
            "_________________________________________________________________\n",
            "Layer (type)                 Output Shape              Param #   \n",
            "=================================================================\n",
            "conv2d_16 (Conv2D)           (None, 26, 26, 32)        320       \n",
            "_________________________________________________________________\n",
            "max_pooling2d_7 (MaxPooling2 (None, 13, 13, 32)        0         \n",
            "_________________________________________________________________\n",
            "conv2d_17 (Conv2D)           (None, 11, 11, 25)        7225      \n",
            "_________________________________________________________________\n",
            "max_pooling2d_8 (MaxPooling2 (None, 5, 5, 25)          0         \n",
            "_________________________________________________________________\n",
            "flatten_5 (Flatten)          (None, 625)               0         \n",
            "_________________________________________________________________\n",
            "dense_24 (Dense)             (None, 100)               62600     \n",
            "_________________________________________________________________\n",
            "activation_21 (Activation)   (None, 100)               0         \n",
            "_________________________________________________________________\n",
            "dense_25 (Dense)             (None, 10)                1010      \n",
            "_________________________________________________________________\n",
            "activation_22 (Activation)   (None, 10)                0         \n",
            "=================================================================\n",
            "Total params: 71,155\n",
            "Trainable params: 71,155\n",
            "Non-trainable params: 0\n",
            "_________________________________________________________________\n"
          ],
          "name": "stdout"
        }
      ]
    },
    {
      "metadata": {
        "id": "KmaaScAGbevE",
        "colab_type": "code",
        "colab": {}
      },
      "cell_type": "code",
      "source": [
        ""
      ],
      "execution_count": 0,
      "outputs": []
    }
  ]
}