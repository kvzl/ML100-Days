{
  "nbformat": 4,
  "nbformat_minor": 0,
  "metadata": {
    "colab": {
      "name": "Day_094-CNN_Convolution_HW.ipynb",
      "version": "0.3.2",
      "provenance": [],
      "collapsed_sections": [],
      "include_colab_link": true
    },
    "language_info": {
      "codemirror_mode": {
        "name": "ipython",
        "version": 3
      },
      "file_extension": ".py",
      "mimetype": "text/x-python",
      "name": "python",
      "nbconvert_exporter": "python",
      "pygments_lexer": "ipython3",
      "version": "3.6.8"
    },
    "kernelspec": {
      "name": "python3",
      "display_name": "Python 3"
    },
    "accelerator": "GPU"
  },
  "cells": [
    {
      "cell_type": "markdown",
      "metadata": {
        "id": "view-in-github",
        "colab_type": "text"
      },
      "source": [
        "<a href=\"https://colab.research.google.com/github/oailnivek/ML100-Days/blob/master/homework/Day_094_CNN_Convolution_HW.ipynb\" target=\"_parent\"><img src=\"https://colab.research.google.com/assets/colab-badge.svg\" alt=\"Open In Colab\"/></a>"
      ]
    },
    {
      "metadata": {
        "id": "xwmifdqNoUbj",
        "colab_type": "text"
      },
      "cell_type": "markdown",
      "source": [
        "# 教學目標:\n",
        "    了解 Convolution 卷積的組成"
      ]
    },
    {
      "metadata": {
        "id": "WAwzzQddoUbk",
        "colab_type": "text"
      },
      "cell_type": "markdown",
      "source": [
        "# 範例內容:\n",
        "    定義單步的卷積\n",
        "    \n",
        "    輸出卷積的計算值\n"
      ]
    },
    {
      "metadata": {
        "id": "5jXqWEz1oUbl",
        "colab_type": "text"
      },
      "cell_type": "markdown",
      "source": [
        "# 作業:\n",
        "    修改 a_slice_prev, 檢查 Z 的輸出"
      ]
    },
    {
      "metadata": {
        "id": "o0bUEENhoUbm",
        "colab_type": "code",
        "colab": {}
      },
      "cell_type": "code",
      "source": [
        "import numpy as np"
      ],
      "execution_count": 0,
      "outputs": []
    },
    {
      "metadata": {
        "id": "npyII0FWoUbr",
        "colab_type": "code",
        "colab": {}
      },
      "cell_type": "code",
      "source": [
        "# GRADED FUNCTION: conv_single_step\n",
        "def conv_single_step(a_slice_prev, W, b):\n",
        "    \"\"\"\n",
        "    定義一層 Kernel (內核), 使用的參數說明如下\n",
        "    Arguments:\n",
        "        a_slice_prev -- 輸入資料的維度\n",
        "        W -- 權重, 被使用在 a_slice_prev\n",
        "        b -- 偏差參數 \n",
        "    Returns:\n",
        "        Z -- 滑動窗口（W，b）卷積在前一個 feature map 上的結果\n",
        "    \"\"\"\n",
        "\n",
        "    # 定義一個元素介於 a_slice and W\n",
        "    s = a_slice_prev * W\n",
        "    # 加總所有的 \"s\" 並指定給Z.\n",
        "    Z = np.sum(s)\n",
        "    # Add bias b to Z. 這是 float() 函數,\n",
        "    Z = float(Z + b)\n",
        "\n",
        "    return Z"
      ],
      "execution_count": 0,
      "outputs": []
    },
    {
      "metadata": {
        "id": "20J6C5YQoUbu",
        "colab_type": "code",
        "outputId": "f725ba55-0e0a-4145-fdac-944482f4e4cb",
        "colab": {
          "base_uri": "https://localhost:8080/",
          "height": 34
        }
      },
      "cell_type": "code",
      "source": [
        "np.random.seed(1)\n",
        "\n",
        "#定義一個 axaxd 的 feature map\n",
        "a_slice_prev = np.random.randn(1, 1, 3)\n",
        "W = np.random.randn(1, 1, 3)\n",
        "b = np.random.rand(1, 1, 1)\n",
        "\n",
        "#取得計算後,卷積矩陣的值\n",
        "Z = conv_single_step(a_slice_prev, W, b)\n",
        "print('Z = ', Z)"
      ],
      "execution_count": 18,
      "outputs": [
        {
          "output_type": "stream",
          "text": [
            "Z =  -0.637488033579887\n"
          ],
          "name": "stdout"
        }
      ]
    },
    {
      "metadata": {
        "id": "iF31_ysqoUbx",
        "colab_type": "code",
        "outputId": "2f144196-3c42-4d78-b279-8295376c4ecd",
        "colab": {
          "base_uri": "https://localhost:8080/",
          "height": 34
        }
      },
      "cell_type": "code",
      "source": [
        "a_slice_prev = np.array([[[1, 3, 5]]])\n",
        "W = np.array([[[0, 0, 1]]])\n",
        "b = np.array([[[0]]])\n",
        "\n",
        "Z = conv_single_step(a_slice_prev, W, b)\n",
        "print('Z = ', Z)"
      ],
      "execution_count": 32,
      "outputs": [
        {
          "output_type": "stream",
          "text": [
            "Z =  5.0\n"
          ],
          "name": "stdout"
        }
      ]
    },
    {
      "metadata": {
        "id": "sD-P3i-_uJwr",
        "colab_type": "code",
        "colab": {
          "base_uri": "https://localhost:8080/",
          "height": 34
        },
        "outputId": "dbf804d2-0b18-404a-ed9b-18808539bd36"
      },
      "cell_type": "code",
      "source": [
        "\n",
        "W = np.array([[[0, 1, 0]]])\n",
        "\n",
        "Z = conv_single_step(a_slice_prev, W, b)\n",
        "print('Z = ', Z)"
      ],
      "execution_count": 33,
      "outputs": [
        {
          "output_type": "stream",
          "text": [
            "Z =  3.0\n"
          ],
          "name": "stdout"
        }
      ]
    },
    {
      "metadata": {
        "id": "d3nUGSZFvFGq",
        "colab_type": "code",
        "colab": {
          "base_uri": "https://localhost:8080/",
          "height": 34
        },
        "outputId": "08706061-8c75-49bb-f4a7-554e7bb05eaa"
      },
      "cell_type": "code",
      "source": [
        "\n",
        "W = np.array([[[1, 0, 0]]])\n",
        "\n",
        "Z = conv_single_step(a_slice_prev, W, b)\n",
        "print('Z = ', Z)"
      ],
      "execution_count": 34,
      "outputs": [
        {
          "output_type": "stream",
          "text": [
            "Z =  1.0\n"
          ],
          "name": "stdout"
        }
      ]
    },
    {
      "metadata": {
        "id": "es4oBZI_vPp3",
        "colab_type": "code",
        "colab": {
          "base_uri": "https://localhost:8080/",
          "height": 34
        },
        "outputId": "1c1d8098-7878-422b-c67f-75425372a866"
      },
      "cell_type": "code",
      "source": [
        "b = np.array([[[10]]])\n",
        "\n",
        "Z = conv_single_step(a_slice_prev, W, b)\n",
        "print('Z = ', Z)"
      ],
      "execution_count": 36,
      "outputs": [
        {
          "output_type": "stream",
          "text": [
            "Z =  11.0\n"
          ],
          "name": "stdout"
        }
      ]
    },
    {
      "metadata": {
        "id": "_x2TeWyvvQxe",
        "colab_type": "code",
        "colab": {
          "base_uri": "https://localhost:8080/",
          "height": 34
        },
        "outputId": "fe470090-4650-419b-eb4c-fd6e4d1da7f0"
      },
      "cell_type": "code",
      "source": [
        "a_slice_prev = np.array([[[1, 3, 5], [2, 4, 6]]])\n",
        "W = np.array([[[0, 0, 1], [0, 1, 0]]])\n",
        "b = np.array([[[0]]])\n",
        "\n",
        "Z = conv_single_step(a_slice_prev, W, b)\n",
        "print('Z = ', Z)"
      ],
      "execution_count": 37,
      "outputs": [
        {
          "output_type": "stream",
          "text": [
            "Z =  9.0\n"
          ],
          "name": "stdout"
        }
      ]
    },
    {
      "metadata": {
        "id": "4H7PqNkQvWpO",
        "colab_type": "code",
        "colab": {
          "base_uri": "https://localhost:8080/",
          "height": 34
        },
        "outputId": "7cd583f6-0ffb-4cdd-f1b8-f2df58297af9"
      },
      "cell_type": "code",
      "source": [
        "a_slice_prev = np.array([[[1, 3, 5], [2, 4, 6]]])\n",
        "W = np.array([[[0, 0, 1], [0, 0, 1]]])\n",
        "b = np.array([[[0]]])\n",
        "\n",
        "Z = conv_single_step(a_slice_prev, W, b)\n",
        "print('Z = ', Z)"
      ],
      "execution_count": 41,
      "outputs": [
        {
          "output_type": "stream",
          "text": [
            "Z =  11.0\n"
          ],
          "name": "stdout"
        }
      ]
    },
    {
      "metadata": {
        "id": "IOUJ8bTtvr6X",
        "colab_type": "code",
        "colab": {
          "base_uri": "https://localhost:8080/",
          "height": 34
        },
        "outputId": "edb0b5e6-8ff9-4b8c-a1fe-141bf849100f"
      },
      "cell_type": "code",
      "source": [
        "a_slice_prev = np.array([[[1, 3, 5], [2, 4, 6]]])\n",
        "W = np.array([[[0, 0, 1], [0, 0, 1]]])\n",
        "b = np.array([[[5]]])\n",
        "\n",
        "Z = conv_single_step(a_slice_prev, W, b)\n",
        "print('Z = ', Z)"
      ],
      "execution_count": 42,
      "outputs": [
        {
          "output_type": "stream",
          "text": [
            "Z =  16.0\n"
          ],
          "name": "stdout"
        }
      ]
    },
    {
      "metadata": {
        "id": "d6iAcuyvv2K4",
        "colab_type": "code",
        "colab": {}
      },
      "cell_type": "code",
      "source": [
        ""
      ],
      "execution_count": 0,
      "outputs": []
    }
  ]
}