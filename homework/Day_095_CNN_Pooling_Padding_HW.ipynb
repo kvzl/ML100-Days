{
  "nbformat": 4,
  "nbformat_minor": 0,
  "metadata": {
    "colab": {
      "name": "Day_095-CNN_Pooling_Padding_HW.ipynb",
      "version": "0.3.2",
      "provenance": [],
      "collapsed_sections": [],
      "include_colab_link": true
    },
    "language_info": {
      "codemirror_mode": {
        "name": "ipython",
        "version": 3
      },
      "file_extension": ".py",
      "mimetype": "text/x-python",
      "name": "python",
      "nbconvert_exporter": "python",
      "pygments_lexer": "ipython3",
      "version": "3.6.8"
    },
    "kernelspec": {
      "name": "python3",
      "display_name": "Python 3"
    },
    "accelerator": "GPU"
  },
  "cells": [
    {
      "cell_type": "markdown",
      "metadata": {
        "id": "view-in-github",
        "colab_type": "text"
      },
      "source": [
        "<a href=\"https://colab.research.google.com/github/oailnivek/ML100-Days/blob/master/homework/Day_095_CNN_Pooling_Padding_HW.ipynb\" target=\"_parent\"><img src=\"https://colab.research.google.com/assets/colab-badge.svg\" alt=\"Open In Colab\"/></a>"
      ]
    },
    {
      "metadata": {
        "id": "jaH5paXw2VNV",
        "colab_type": "text"
      },
      "cell_type": "markdown",
      "source": [
        "# 教學目標:\n",
        "    了解 Padding 的作法\n",
        "    \n",
        "    了解 Pooling 的作法"
      ]
    },
    {
      "metadata": {
        "id": "JHlqyPPb2VNW",
        "colab_type": "text"
      },
      "cell_type": "markdown",
      "source": [
        "# 範例說明:\n",
        "    (1)zero_pad - feature map 跟原圖的比對\n",
        "    \n",
        "    (2)pool_forward - 前行網路的 pooling layer"
      ]
    },
    {
      "metadata": {
        "id": "mohatnJT2VNX",
        "colab_type": "text"
      },
      "cell_type": "markdown",
      "source": [
        "# 作業:\n",
        "    (1) 調整Padding 的設定, 看 Pad 後的結果\n",
        "    \n",
        "    (2) 調整Pooling 的設定, 看 Poolin 後的結果"
      ]
    },
    {
      "metadata": {
        "id": "oq-ubbRp2VNY",
        "colab_type": "code",
        "colab": {}
      },
      "cell_type": "code",
      "source": [
        "import numpy as np\n",
        "import h5py\n",
        "import matplotlib.pyplot as plt\n",
        "\n",
        "# 繪圖結果直接顯示在Jupyter cell 之內\n",
        "%matplotlib inline  \n",
        "plt.rcParams['figure.figsize'] = (5.0, 4.0) #  設定繪圖板的大小\n",
        "plt.rcParams['image.interpolation'] = 'nearest'\n",
        "plt.rcParams['image.cmap'] = 'gray'\n",
        "\n",
        "# autoreload。可以讓我們不退出IPython就動態修改代碼，在執行代碼前IPython會幫我們自動重載改動的模塊\n",
        "%load_ext autoreload\n",
        "%autoreload 2\n",
        "np.random.seed(1)"
      ],
      "execution_count": 0,
      "outputs": []
    },
    {
      "metadata": {
        "id": "i4jVOfHm2VNb",
        "colab_type": "code",
        "colab": {}
      },
      "cell_type": "code",
      "source": [
        "# GRADED FUNCTION: zero_pad\n",
        "def zero_pad(X, pad):\n",
        "    \"\"\"\n",
        "    對image X 做 zero-padding. \n",
        "    參數定義如下:\n",
        "    X -- python numpy array, 呈現維度 (m, n_H, n_W, n_C), 代表一批 m 個圖像\n",
        "         n_H: 圖高, n_W: 圖寬, n_C: color channels 數\n",
        "    pad -- 整數, 加幾圈的 zero padding.\n",
        "    Returns:\n",
        "    X_pad -- image of shape (m, n_H + 2*pad, n_W + 2*pad, n_C) 做完zero-padding 的結果\n",
        "    \"\"\"\n",
        "    \n",
        "    pad_width = ((0, 0), (pad, pad), (pad, pad), (0, 0))\n",
        "    \n",
        "    X_pad = np.pad(X, pad_width, 'constant', constant_values=(0, 0))\n",
        "  \n",
        "    return X_pad"
      ],
      "execution_count": 0,
      "outputs": []
    },
    {
      "metadata": {
        "id": "V7fmdcn02VNd",
        "colab_type": "code",
        "colab": {}
      },
      "cell_type": "code",
      "source": [
        "'''\n",
        "作業修改\n",
        "'''\n",
        "\n",
        "def compare_padding(pad):\n",
        "    np.random.seed(1)\n",
        "\n",
        "    x = np.random.randn(4, 3, 3, 2)\n",
        "    x_pad = zero_pad(x, pad)\n",
        "\n",
        "    print (\"x.shape =\", x.shape)\n",
        "    print (\"x_pad.shape =\", x_pad.shape)\n",
        "#     print (\"x[1,1] =\", x[1,1])\n",
        "#     print (\"x_pad[1,1] =\", x_pad[1,1])\n",
        "\n",
        "    fig, ax = plt.subplots(1, 2)\n",
        "    ax[0].set_title('x')\n",
        "    ax[0].imshow(x[0,:,:,0])\n",
        "    ax[1].set_title('x_pad')\n",
        "    ax[1].imshow(x_pad[0,:,:,0])"
      ],
      "execution_count": 0,
      "outputs": []
    },
    {
      "metadata": {
        "id": "_W9g_OkRUZ8l",
        "colab_type": "code",
        "colab": {
          "base_uri": "https://localhost:8080/",
          "height": 225
        },
        "outputId": "0941a368-8e3d-449d-d046-8c2cbb063338"
      },
      "cell_type": "code",
      "source": [
        "compare_padding(1)"
      ],
      "execution_count": 13,
      "outputs": [
        {
          "output_type": "stream",
          "text": [
            "x.shape = (4, 3, 3, 2)\n",
            "x_pad.shape = (4, 5, 5, 2)\n"
          ],
          "name": "stdout"
        },
        {
          "output_type": "display_data",
          "data": {
            "image/png": "[encoded data removed]",
            "text/plain": [
              "<Figure size 360x288 with 2 Axes>"
            ]
          },
          "metadata": {
            "tags": []
          }
        }
      ]
    },
    {
      "metadata": {
        "id": "LFYmvqgQUgV0",
        "colab_type": "code",
        "colab": {
          "base_uri": "https://localhost:8080/",
          "height": 225
        },
        "outputId": "3b9ea6fe-ae8f-4481-ea25-3193d0a76325"
      },
      "cell_type": "code",
      "source": [
        "compare_padding(4)"
      ],
      "execution_count": 14,
      "outputs": [
        {
          "output_type": "stream",
          "text": [
            "x.shape = (4, 3, 3, 2)\n",
            "x_pad.shape = (4, 11, 11, 2)\n"
          ],
          "name": "stdout"
        },
        {
          "output_type": "display_data",
          "data": {
            "image/png": "[encoded data removed]",
            "text/plain": [
              "<Figure size 360x288 with 2 Axes>"
            ]
          },
          "metadata": {
            "tags": []
          }
        }
      ]
    },
    {
      "metadata": {
        "id": "MeIuyWtf2VNg",
        "colab_type": "code",
        "colab": {}
      },
      "cell_type": "code",
      "source": [
        "# GRADED FUNCTION: pool_forward\n",
        "def pool_forward(A_prev, hparameters, mode='max'):\n",
        "    \"\"\"\n",
        "    設計一個前行網路的池化層\n",
        "    參數定義如下:\n",
        "    A_prev -- 輸入的numpy 陣列, 維度 (m, n_H_prev, n_W_prev, n_C_prev)\n",
        "    hparameter 超參數 --  \"f\" and \"stride\" 所形成的python 字典\n",
        "    mode -- 池化的模式: \"max\" or \"average\"\n",
        "    \n",
        "    返回:\n",
        "        A -- 輸出的池化層, 維度為 (m, n_H, n_W, n_C) 的 numpy 陣列\n",
        "        cache -- 可以應用在 backward pass pooling layer 資料, 包含 input and hparameter\n",
        "    \"\"\"\n",
        "\n",
        "    # 檢索尺寸 from the input shape\n",
        "    m, n_H_prev, n_W_prev, n_C_prev = A_prev.shape\n",
        " \n",
        "    # 檢索超參數 from \"hparameters\"\n",
        "    f = hparameters['f']\n",
        "    stride = hparameters['stride']\n",
        "\n",
        "    # 定義輸出的dimensions\n",
        "    n_H = int(1 + (n_H_prev - f) / stride)\n",
        "    n_W = int(1 + (n_W_prev - f) / stride)\n",
        "    n_C = n_C_prev\n",
        "\n",
        "    # 初始化輸出的 matrix A\n",
        "    A = np.zeros((m, n_H, n_W, n_C))\n",
        "\n",
        "    ### 程式起始位置  ###\n",
        "    for i in range(m): # 訓練樣本的for 迴圈\n",
        "        for h in range(n_H): # 輸出樣本的for 迴圈, 針對vertical axis\n",
        "            for w in range(n_W): #  輸出樣本的for 迴圈, 針對 horizontal axis\n",
        "                for c in range (n_C): #  輸出樣本的for 迴圈, 針對channels\n",
        "\n",
        "                     # 找出特徵圖的寬度跟高度四個點\n",
        "                    vert_start = h * stride\n",
        "                    vert_end = h * stride+ f\n",
        "                    horiz_start = w * stride\n",
        "                    horiz_end = w * stride + f\n",
        "\n",
        "                    # 定義第i個訓練示例\n",
        "                    a_prev_slice = A_prev[i, vert_start:vert_end, horiz_start:horiz_end,c]\n",
        "\n",
        "                    # 計算輸入data 的池化結果. 使用 if statment 去做分類\n",
        "                    if mode == \"max\":\n",
        "                        A[i, h, w, c] = np.max(a_prev_slice)\n",
        "                    elif mode == \"average\":\n",
        "                        A[i, h, w, c] = np.mean(a_prev_slice)\n",
        "\n",
        "                        ### 程式結束  ###\n",
        "    \n",
        "    # 儲存輸入的特徵圖跟所設定的超參數, 可以用在 pool_backward()\n",
        "    cache = (A_prev, hparameters)\n",
        "    \n",
        "    # 確認輸出的資料維度\n",
        "    assert(A.shape == (m, n_H, n_W, n_C))\n",
        "    return A, cache"
      ],
      "execution_count": 0,
      "outputs": []
    },
    {
      "metadata": {
        "id": "GkwPycbG2VNi",
        "colab_type": "code",
        "colab": {}
      },
      "cell_type": "code",
      "source": [
        "'''\n",
        "作業修改\n",
        "'''\n",
        "def compare_pooling(**hparameters):\n",
        "    np.random.seed(1)\n",
        "\n",
        "    A_prev = np.random.randn(2, 4, 4, 3)\n",
        "#     hparameters = {\n",
        "#         'stride': 2,\n",
        "#         'f': 3\n",
        "#     }\n",
        "\n",
        "    A, cache = pool_forward(A_prev, hparameters)\n",
        "    print(\"mode = max\")\n",
        "    print(\"A =\", A)\n",
        "    print()\n",
        "    \n",
        "    A, cache = pool_forward(A_prev, hparameters, mode='average')\n",
        "    print(\"mode = average\")\n",
        "    print(\"A =\", A)"
      ],
      "execution_count": 0,
      "outputs": []
    },
    {
      "metadata": {
        "id": "U9dJShgv2VNm",
        "colab_type": "code",
        "colab": {
          "base_uri": "https://localhost:8080/",
          "height": 204
        },
        "outputId": "460d0118-436d-4021-9822-1118167faf66"
      },
      "cell_type": "code",
      "source": [
        "compare_pooling(stride=2, f=3)"
      ],
      "execution_count": 27,
      "outputs": [
        {
          "output_type": "stream",
          "text": [
            "mode = max\n",
            "A = [[[[1.74481176 0.86540763 1.13376944]]]\n",
            "\n",
            "\n",
            " [[[1.13162939 1.51981682 2.18557541]]]]\n",
            "\n",
            "mode = average\n",
            "A = [[[[ 0.02105773 -0.20328806 -0.40389855]]]\n",
            "\n",
            "\n",
            " [[[-0.22154621  0.51716526  0.48155844]]]]\n"
          ],
          "name": "stdout"
        }
      ]
    },
    {
      "metadata": {
        "id": "Hp9zlE9WeAq9",
        "colab_type": "code",
        "colab": {
          "base_uri": "https://localhost:8080/",
          "height": 476
        },
        "outputId": "f5924339-8aa9-4e69-bbdf-2c8c36a3bd12"
      },
      "cell_type": "code",
      "source": [
        "compare_pooling(stride=2, f=2)"
      ],
      "execution_count": 28,
      "outputs": [
        {
          "output_type": "stream",
          "text": [
            "mode = max\n",
            "A = [[[[ 1.62434536  0.86540763  1.13376944]\n",
            "   [ 1.74481176  1.46210794  0.50249434]]\n",
            "\n",
            "  [[ 0.90085595  0.2344157   1.65980218]\n",
            "   [-0.63699565  1.6924546   2.10025514]]]\n",
            "\n",
            "\n",
            " [[[ 0.12015895  1.25286816  0.51292982]\n",
            "   [ 1.13162939  1.51981682  2.18557541]]\n",
            "\n",
            "  [[ 0.37756379  0.87616892  1.12948391]\n",
            "   [ 1.19891788  0.76201118  0.41005165]]]]\n",
            "\n",
            "mode = average\n",
            "A = [[[[-0.21773293 -0.07570784 -0.64344986]\n",
            "   [ 0.67059471  0.54632674 -0.58480661]]\n",
            "\n",
            "  [[-0.10254492 -0.22725895  0.29490961]\n",
            "   [-0.73025508  0.20384261  0.3628064 ]]]\n",
            "\n",
            "\n",
            " [[[-0.32114542  0.3040178   0.09704643]\n",
            "   [ 0.11433522  0.23697838  0.85130853]]\n",
            "\n",
            "  [[-0.32157516  0.20269871  0.4006078 ]\n",
            "   [ 0.14738103  0.38930584 -0.02755534]]]]\n"
          ],
          "name": "stdout"
        }
      ]
    },
    {
      "metadata": {
        "id": "ND1F2hLweDfW",
        "colab_type": "code",
        "colab": {}
      },
      "cell_type": "code",
      "source": [
        ""
      ],
      "execution_count": 0,
      "outputs": []
    }
  ]
}