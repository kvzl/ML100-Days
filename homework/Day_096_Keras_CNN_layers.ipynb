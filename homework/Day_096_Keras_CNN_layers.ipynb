{
  "nbformat": 4,
  "nbformat_minor": 0,
  "metadata": {
    "colab": {
      "name": "Day_096_Keras_CNN_layers.ipynb",
      "version": "0.3.2",
      "provenance": [],
      "include_colab_link": true
    },
    "language_info": {
      "codemirror_mode": {
        "name": "ipython",
        "version": 3
      },
      "file_extension": ".py",
      "mimetype": "text/x-python",
      "name": "python",
      "nbconvert_exporter": "python",
      "pygments_lexer": "ipython3",
      "version": "3.6.2"
    },
    "kernelspec": {
      "name": "python3",
      "display_name": "Python 3"
    },
    "accelerator": "GPU"
  },
  "cells": [
    {
      "cell_type": "markdown",
      "metadata": {
        "id": "view-in-github",
        "colab_type": "text"
      },
      "source": [
        "<a href=\"https://colab.research.google.com/github/kvzl/ML100-Days/blob/master/homework/Day_096_Keras_CNN_layers.ipynb\" target=\"_parent\"><img src=\"https://colab.research.google.com/assets/colab-badge.svg\" alt=\"Open In Colab\"/></a>"
      ]
    },
    {
      "metadata": {
        "id": "Wha_o6U2mMEj",
        "colab_type": "code",
        "colab": {
          "base_uri": "https://localhost:8080/",
          "height": 34
        },
        "outputId": "da6827ce-4f1d-4eaf-b357-0ef32edc3bc7"
      },
      "cell_type": "code",
      "source": [
        "from keras.layers import Conv2D, SeparableConv2D, Input\n",
        "from keras.models import Model"
      ],
      "execution_count": 1,
      "outputs": [
        {
          "output_type": "stream",
          "text": [
            "Using TensorFlow backend.\n"
          ],
          "name": "stderr"
        }
      ]
    },
    {
      "metadata": {
        "id": "jTVc0KDamMEn",
        "colab_type": "code",
        "colab": {}
      },
      "cell_type": "code",
      "source": [
        "input_image = Input((224, 224, 3))\n",
        "feature_maps = Conv2D(filters=32, kernel_size=(3,3))(input_image)\n",
        "feature_maps2 = Conv2D(filters=64, kernel_size=(3,3))(feature_maps)\n",
        "model = Model(inputs=input_image, outputs=feature_maps2)"
      ],
      "execution_count": 0,
      "outputs": []
    },
    {
      "metadata": {
        "id": "lff73QdkmMEp",
        "colab_type": "code",
        "colab": {
          "base_uri": "https://localhost:8080/",
          "height": 238
        },
        "outputId": "d812b435-8a80-419c-9ecb-6ff6de8fd5a7"
      },
      "cell_type": "code",
      "source": [
        "model.summary()"
      ],
      "execution_count": 10,
      "outputs": [
        {
          "output_type": "stream",
          "text": [
            "_________________________________________________________________\n",
            "Layer (type)                 Output Shape              Param #   \n",
            "=================================================================\n",
            "input_3 (InputLayer)         (None, 224, 224, 3)       0         \n",
            "_________________________________________________________________\n",
            "conv2d_5 (Conv2D)            (None, 222, 222, 32)      896       \n",
            "_________________________________________________________________\n",
            "conv2d_6 (Conv2D)            (None, 220, 220, 64)      18496     \n",
            "=================================================================\n",
            "Total params: 19,392\n",
            "Trainable params: 19,392\n",
            "Non-trainable params: 0\n",
            "_________________________________________________________________\n"
          ],
          "name": "stdout"
        }
      ]
    },
    {
      "metadata": {
        "id": "nuXIHl-4mMEu",
        "colab_type": "text"
      },
      "cell_type": "markdown",
      "source": [
        "## 可以看到經過兩次 Conv2D，如果沒有設定 padding=\"SAME\"，圖就會越來越小，同時特徵圖的 channel 數與 filters 的數量一致"
      ]
    },
    {
      "metadata": {
        "id": "3FTtKoBnmMEu",
        "colab_type": "code",
        "colab": {}
      },
      "cell_type": "code",
      "source": [
        "input_image = Input((224, 224, 3))\n",
        "feature_maps = SeparableConv2D(filters=32, kernel_size=(3,3))(input_image)\n",
        "feature_maps2 = SeparableConv2D(filters=64, kernel_size=(3,3))(feature_maps)\n",
        "model = Model(inputs=input_image, outputs=feature_maps2)"
      ],
      "execution_count": 0,
      "outputs": []
    },
    {
      "metadata": {
        "id": "xlmtOLFfmMEw",
        "colab_type": "code",
        "colab": {
          "base_uri": "https://localhost:8080/",
          "height": 238
        },
        "outputId": "4c1654f2-dfc9-45d3-92d3-581a85190825"
      },
      "cell_type": "code",
      "source": [
        "model.summary()"
      ],
      "execution_count": 12,
      "outputs": [
        {
          "output_type": "stream",
          "text": [
            "_________________________________________________________________\n",
            "Layer (type)                 Output Shape              Param #   \n",
            "=================================================================\n",
            "input_4 (InputLayer)         (None, 224, 224, 3)       0         \n",
            "_________________________________________________________________\n",
            "separable_conv2d_3 (Separabl (None, 222, 222, 32)      155       \n",
            "_________________________________________________________________\n",
            "separable_conv2d_4 (Separabl (None, 220, 220, 64)      2400      \n",
            "=================================================================\n",
            "Total params: 2,555\n",
            "Trainable params: 2,555\n",
            "Non-trainable params: 0\n",
            "_________________________________________________________________\n"
          ],
          "name": "stdout"
        }
      ]
    },
    {
      "metadata": {
        "id": "xJuNxrLJmMEz",
        "colab_type": "text"
      },
      "cell_type": "markdown",
      "source": [
        "## 可以看到使用 Seperable Conv2D，即使模型設置都一模一樣，但是參數量明顯減少非常多！"
      ]
    },
    {
      "metadata": {
        "id": "5DPZx1QomME0",
        "colab_type": "text"
      },
      "cell_type": "markdown",
      "source": [
        "## 作業"
      ]
    },
    {
      "metadata": {
        "id": "tmdPvCpQmME1",
        "colab_type": "text"
      },
      "cell_type": "markdown",
      "source": [
        "請閱讀 Keras 官方範例 [mnist_cnn.py](https://github.com/keras-team/keras/blob/master/examples/mnist_cnn.py)  \n",
        "\n",
        "並回答下列問題。僅有 70 行程式碼，請確保每一行的程式碼你都能夠理解目的\n",
        "\n",
        "### 1. 是否有對資料做標準化 (normalization)? 如果有，在哪幾行?\n",
        "\n",
        "有，第 37~38 行。\n",
        "\n",
        "### 2. 使用的優化器 Optimizer 為何?\n",
        "\n",
        "第 60 行，Adadelta。\n",
        "\n",
        "### 3. 模型總共疊了幾層卷積層?\n",
        "\n",
        "第 48~51 行，2 層。\n",
        "\n",
        "### 4. 模型的參數量是多少?\n",
        "\n",
        "input_shape 為 (28, 28, 1)\n",
        "\n",
        "1. Conv2D:\n",
        "\n",
        "    weight \\* input 的維度 + bias \n",
        "    \n",
        "    = filter 數 \\* filter 寬 \\* filter 高 \\* input 的維度 + filter 數\n",
        "    \n",
        "    = 32 \\* 3 \\* 3 \\* 1 + 32 \n",
        "    \n",
        "    = 320\n",
        "    \n",
        "2. Conv2D:\n",
        "\n",
        "    weight \\* 上一層 output 的維度 + bias \n",
        "    \n",
        "    = filter 數 \\* filter 寬 \\* filter 高 \\* 上一層 output 的維度 + filter 數\n",
        "    \n",
        "    = 64 \\* 3 \\* 3 \\* 32 + 64 \n",
        "    \n",
        "    = 18496\n",
        "\n",
        "3. MaxPooling2D: 0\n",
        "\n",
        "4. Dropout: 0\n",
        "\n",
        "5. Flatten: 0\n",
        "\n",
        "6. Dense:\n",
        "\n",
        "    weight \\* 上一層 output 的維度 + bias \n",
        "    \n",
        "    = neuron 數 \\* 上一層 output 的維度 + neuron 數\n",
        "\n",
        "    = 128 \\* 9216 + 128\n",
        "    \n",
        "    = 1179776\n",
        "    \n",
        "7. Dropout: 0\n",
        "\n",
        "8. Dense: 10 \\* 128 + 10 = 1290\n",
        "\n",
        "加總：320 + 18496 + 1179776 + 1290 = 1199882\n"
      ]
    },
    {
      "metadata": {
        "id": "GLaMn9y2mME1",
        "colab_type": "code",
        "colab": {
          "base_uri": "https://localhost:8080/",
          "height": 476
        },
        "outputId": "bed22a1c-0ced-4410-b763-c3254a6819ae"
      },
      "cell_type": "code",
      "source": [
        "def test():\n",
        "\n",
        "    '''Trains a simple convnet on the MNIST dataset.\n",
        "    Gets to 99.25% test accuracy after 12 epochs\n",
        "    (there is still a lot of margin for parameter tuning).\n",
        "    16 seconds per epoch on a GRID K520 GPU.\n",
        "    '''\n",
        "\n",
        "    import keras\n",
        "    from keras.datasets import mnist\n",
        "    from keras.models import Sequential\n",
        "    from keras.layers import Dense, Dropout, Flatten\n",
        "    from keras.layers import Conv2D, MaxPooling2D\n",
        "    from keras import backend as K\n",
        "\n",
        "    batch_size = 128\n",
        "    num_classes = 10\n",
        "    epochs = 12\n",
        "\n",
        "    # input image dimensions\n",
        "    img_rows, img_cols = 28, 28\n",
        "\n",
        "    # the data, split between train and test sets\n",
        "    (x_train, y_train), (x_test, y_test) = mnist.load_data()\n",
        "\n",
        "    if K.image_data_format() == 'channels_first':\n",
        "        x_train = x_train.reshape(x_train.shape[0], 1, img_rows, img_cols)\n",
        "        x_test = x_test.reshape(x_test.shape[0], 1, img_rows, img_cols)\n",
        "        input_shape = (1, img_rows, img_cols)\n",
        "    else:\n",
        "        x_train = x_train.reshape(x_train.shape[0], img_rows, img_cols, 1)\n",
        "        x_test = x_test.reshape(x_test.shape[0], img_rows, img_cols, 1)\n",
        "        input_shape = (img_rows, img_cols, 1)\n",
        "\n",
        "    x_train = x_train.astype('float32')\n",
        "    x_test = x_test.astype('float32')\n",
        "    x_train /= 255\n",
        "    x_test /= 255\n",
        "    print('x_train shape:', x_train.shape)\n",
        "    print(x_train.shape[0], 'train samples')\n",
        "    print(x_test.shape[0], 'test samples')\n",
        "\n",
        "    # convert class vectors to binary class matrices\n",
        "    y_train = keras.utils.to_categorical(y_train, num_classes)\n",
        "    y_test = keras.utils.to_categorical(y_test, num_classes)\n",
        "\n",
        "    model = Sequential()\n",
        "    model.add(Conv2D(32, kernel_size=(3, 3),\n",
        "                     activation='relu',\n",
        "                     input_shape=input_shape))\n",
        "    model.add(Conv2D(64, (3, 3), activation='relu'))\n",
        "    model.add(MaxPooling2D(pool_size=(2, 2)))\n",
        "    model.add(Dropout(0.25))\n",
        "    model.add(Flatten())\n",
        "    model.add(Dense(128, activation='relu'))\n",
        "    model.add(Dropout(0.5))\n",
        "    model.add(Dense(num_classes, activation='softmax'))\n",
        "\n",
        "    print('input_shape: ', input_shape)\n",
        "    model.summary()\n",
        "\n",
        "    # model.compile(loss=keras.losses.categorical_crossentropy,\n",
        "    #               optimizer=keras.optimizers.Adadelta(),\n",
        "    #               metrics=['accuracy'])\n",
        "\n",
        "    # model.fit(x_train, y_train,\n",
        "    #           batch_size=batch_size,\n",
        "    #           epochs=epochs,\n",
        "    #           verbose=1,\n",
        "    #           validation_data=(x_test, y_test))\n",
        "    # score = model.evaluate(x_test, y_test, verbose=0)\n",
        "    # print('Test loss:', score[0])\n",
        "    # print('Test accuracy:', score[1])\n",
        "    \n",
        "test()"
      ],
      "execution_count": 18,
      "outputs": [
        {
          "output_type": "stream",
          "text": [
            "x_train shape: (60000, 28, 28, 1)\n",
            "60000 train samples\n",
            "10000 test samples\n",
            "input_shape:  (28, 28, 1)\n",
            "_________________________________________________________________\n",
            "Layer (type)                 Output Shape              Param #   \n",
            "=================================================================\n",
            "conv2d_11 (Conv2D)           (None, 26, 26, 32)        320       \n",
            "_________________________________________________________________\n",
            "conv2d_12 (Conv2D)           (None, 24, 24, 64)        18496     \n",
            "_________________________________________________________________\n",
            "max_pooling2d_3 (MaxPooling2 (None, 12, 12, 64)        0         \n",
            "_________________________________________________________________\n",
            "dropout_5 (Dropout)          (None, 12, 12, 64)        0         \n",
            "_________________________________________________________________\n",
            "flatten_3 (Flatten)          (None, 9216)              0         \n",
            "_________________________________________________________________\n",
            "dense_5 (Dense)              (None, 128)               1179776   \n",
            "_________________________________________________________________\n",
            "dropout_6 (Dropout)          (None, 128)               0         \n",
            "_________________________________________________________________\n",
            "dense_6 (Dense)              (None, 10)                1290      \n",
            "=================================================================\n",
            "Total params: 1,199,882\n",
            "Trainable params: 1,199,882\n",
            "Non-trainable params: 0\n",
            "_________________________________________________________________\n"
          ],
          "name": "stdout"
        }
      ]
    },
    {
      "metadata": {
        "id": "dsfpkr-Wt0Br",
        "colab_type": "code",
        "colab": {}
      },
      "cell_type": "code",
      "source": [
        ""
      ],
      "execution_count": 0,
      "outputs": []
    }
  ]
}