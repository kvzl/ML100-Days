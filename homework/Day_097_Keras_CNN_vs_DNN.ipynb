{
  "nbformat": 4,
  "nbformat_minor": 0,
  "metadata": {
    "colab": {
      "name": "Day_097_Keras_CNN_vs_DNN.ipynb",
      "version": "0.3.2",
      "provenance": [],
      "collapsed_sections": [],
      "include_colab_link": true
    },
    "language_info": {
      "codemirror_mode": {
        "name": "ipython",
        "version": 3
      },
      "file_extension": ".py",
      "mimetype": "text/x-python",
      "name": "python",
      "nbconvert_exporter": "python",
      "pygments_lexer": "ipython3",
      "version": "3.6.2"
    },
    "kernelspec": {
      "name": "python3",
      "display_name": "Python 3"
    },
    "accelerator": "GPU"
  },
  "cells": [
    {
      "cell_type": "markdown",
      "metadata": {
        "id": "view-in-github",
        "colab_type": "text"
      },
      "source": [
        "<a href=\"https://colab.research.google.com/github/kvzl/ML100-Days/blob/master/homework/Day_097_Keras_CNN_vs_DNN.ipynb\" target=\"_parent\"><img src=\"https://colab.research.google.com/assets/colab-badge.svg\" alt=\"Open In Colab\"/></a>"
      ]
    },
    {
      "metadata": {
        "id": "DfDNdUARypKL",
        "colab_type": "code",
        "colab": {
          "base_uri": "https://localhost:8080/",
          "height": 34
        },
        "outputId": "8766f518-d016-4bf7-e690-15b01997d502"
      },
      "cell_type": "code",
      "source": [
        "import keras\n",
        "from keras.datasets import cifar10\n",
        "from keras.preprocessing.image import ImageDataGenerator\n",
        "from keras.models import Sequential\n",
        "from keras.layers import Dense, Dropout, Activation, Flatten\n",
        "from keras.layers import Conv2D, MaxPooling2D\n",
        "from keras.optimizers import RMSprop, Adam\n",
        "import os"
      ],
      "execution_count": 1,
      "outputs": [
        {
          "output_type": "stream",
          "text": [
            "Using TensorFlow backend.\n"
          ],
          "name": "stderr"
        }
      ]
    },
    {
      "metadata": {
        "id": "7IAuDU3KypKO",
        "colab_type": "code",
        "colab": {
          "base_uri": "https://localhost:8080/",
          "height": 102
        },
        "outputId": "ab6208ac-d952-4a1a-88b9-1812201801f9"
      },
      "cell_type": "code",
      "source": [
        "batch_size = 128 # batch 的大小，如果出現 OOM error，請降低這個值\n",
        "num_classes = 10 # 類別的數量，Cifar 10 共有 10 個類別\n",
        "epochs = 10 # 訓練的 epochs 數量\n",
        "\n",
        "# 讀取資料並檢視\n",
        "(x_train, y_train), (x_test, y_test) = cifar10.load_data()\n",
        "print('x_train shape:', x_train.shape)\n",
        "print(x_train.shape[0], 'train samples')\n",
        "print(x_test.shape[0], 'test samples')\n",
        "\n",
        "# 對 label 進行 one-hot encoding (y_trian 原本是純數字)\n",
        "y_train = keras.utils.to_categorical(y_train, num_classes)\n",
        "y_test = keras.utils.to_categorical(y_test, num_classes)"
      ],
      "execution_count": 2,
      "outputs": [
        {
          "output_type": "stream",
          "text": [
            "Downloading data from https://www.cs.toronto.edu/~kriz/cifar-10-python.tar.gz\n",
            "170500096/170498071 [==============================] - 10s 0us/step\n",
            "x_train shape: (50000, 32, 32, 3)\n",
            "50000 train samples\n",
            "10000 test samples\n"
          ],
          "name": "stdout"
        }
      ]
    },
    {
      "metadata": {
        "id": "TP2av5dPypKT",
        "colab_type": "text"
      },
      "cell_type": "markdown",
      "source": [
        "## 首先我們使用一般的 DNN (MLP) 來訓練\n",
        "由於 DNN 只能輸入一維的資料，我們要先將影像進行攤平，若 (50000, 32, 32, 3) 的影像，攤平後會變成 (50000, 32*32*3) = (50000, 3072)"
      ]
    },
    {
      "metadata": {
        "id": "YLcjwTUkypKU",
        "colab_type": "code",
        "colab": {
          "base_uri": "https://localhost:8080/",
          "height": 51
        },
        "outputId": "7f4c1964-ff81-43f8-c76f-acdb3c3f7cd5"
      },
      "cell_type": "code",
      "source": [
        "# 將資料攤平成一維資料\n",
        "x_train = x_train.reshape(50000, 3072) \n",
        "x_test = x_test.reshape(10000, 3072)\n",
        "\n",
        "# 將資料變為 float32 並標準化\n",
        "x_train = x_train.astype('float32')\n",
        "x_test = x_test.astype('float32')\n",
        "x_train /= 255\n",
        "x_test /= 255\n",
        "print(x_train.shape[0], 'train samples')\n",
        "print(x_test.shape[0], 'test samples')"
      ],
      "execution_count": 3,
      "outputs": [
        {
          "output_type": "stream",
          "text": [
            "50000 train samples\n",
            "10000 test samples\n"
          ],
          "name": "stdout"
        }
      ]
    },
    {
      "metadata": {
        "id": "eXhVgJy4ypKX",
        "colab_type": "code",
        "colab": {
          "base_uri": "https://localhost:8080/",
          "height": 850
        },
        "outputId": "cd997149-b801-4dcd-ef1c-5d7335fd1b5e"
      },
      "cell_type": "code",
      "source": [
        "model = Sequential()\n",
        "model.add(Dense(512, activation='relu', input_shape=(3072,)))\n",
        "model.add(Dropout(0.2))\n",
        "model.add(Dense(512, activation='relu'))\n",
        "model.add(Dropout(0.2))\n",
        "model.add(Dense(num_classes, activation='softmax'))\n",
        "\n",
        "model.summary()\n",
        "\n",
        "model.compile(loss='categorical_crossentropy',\n",
        "              optimizer=RMSprop(),\n",
        "              metrics=['accuracy'])\n",
        "\n",
        "history = model.fit(x_train, y_train,\n",
        "                    batch_size=batch_size,\n",
        "                    epochs=epochs,\n",
        "                    verbose=1,\n",
        "                    validation_data=(x_test, y_test))\n",
        "score = model.evaluate(x_test, y_test, verbose=0)\n",
        "print('Test loss:', score[0])\n",
        "print('Test accuracy:', score[1])"
      ],
      "execution_count": 4,
      "outputs": [
        {
          "output_type": "stream",
          "text": [
            "WARNING:tensorflow:From /usr/local/lib/python3.6/dist-packages/tensorflow/python/framework/op_def_library.py:263: colocate_with (from tensorflow.python.framework.ops) is deprecated and will be removed in a future version.\n",
            "Instructions for updating:\n",
            "Colocations handled automatically by placer.\n",
            "WARNING:tensorflow:From /usr/local/lib/python3.6/dist-packages/keras/backend/tensorflow_backend.py:3445: calling dropout (from tensorflow.python.ops.nn_ops) with keep_prob is deprecated and will be removed in a future version.\n",
            "Instructions for updating:\n",
            "Please use `rate` instead of `keep_prob`. Rate should be set to `rate = 1 - keep_prob`.\n",
            "_________________________________________________________________\n",
            "Layer (type)                 Output Shape              Param #   \n",
            "=================================================================\n",
            "dense_1 (Dense)              (None, 512)               1573376   \n",
            "_________________________________________________________________\n",
            "dropout_1 (Dropout)          (None, 512)               0         \n",
            "_________________________________________________________________\n",
            "dense_2 (Dense)              (None, 512)               262656    \n",
            "_________________________________________________________________\n",
            "dropout_2 (Dropout)          (None, 512)               0         \n",
            "_________________________________________________________________\n",
            "dense_3 (Dense)              (None, 10)                5130      \n",
            "=================================================================\n",
            "Total params: 1,841,162\n",
            "Trainable params: 1,841,162\n",
            "Non-trainable params: 0\n",
            "_________________________________________________________________\n",
            "WARNING:tensorflow:From /usr/local/lib/python3.6/dist-packages/tensorflow/python/ops/math_ops.py:3066: to_int32 (from tensorflow.python.ops.math_ops) is deprecated and will be removed in a future version.\n",
            "Instructions for updating:\n",
            "Use tf.cast instead.\n",
            "Train on 50000 samples, validate on 10000 samples\n",
            "Epoch 1/10\n",
            "50000/50000 [==============================] - 6s 121us/step - loss: 2.2116 - acc: 0.2541 - val_loss: 1.9508 - val_acc: 0.2872\n",
            "Epoch 2/10\n",
            "50000/50000 [==============================] - 3s 67us/step - loss: 1.8560 - acc: 0.3273 - val_loss: 1.7420 - val_acc: 0.3748\n",
            "Epoch 3/10\n",
            "50000/50000 [==============================] - 3s 68us/step - loss: 1.7795 - acc: 0.3571 - val_loss: 1.6947 - val_acc: 0.3971\n",
            "Epoch 4/10\n",
            "50000/50000 [==============================] - 3s 67us/step - loss: 1.7327 - acc: 0.3799 - val_loss: 1.7344 - val_acc: 0.3849\n",
            "Epoch 5/10\n",
            "50000/50000 [==============================] - 3s 66us/step - loss: 1.7017 - acc: 0.3916 - val_loss: 1.6402 - val_acc: 0.4233\n",
            "Epoch 6/10\n",
            "50000/50000 [==============================] - 3s 66us/step - loss: 1.6710 - acc: 0.3993 - val_loss: 1.6803 - val_acc: 0.3790\n",
            "Epoch 7/10\n",
            "50000/50000 [==============================] - 3s 66us/step - loss: 1.6511 - acc: 0.4066 - val_loss: 1.6089 - val_acc: 0.4313\n",
            "Epoch 8/10\n",
            "50000/50000 [==============================] - 3s 66us/step - loss: 1.6381 - acc: 0.4113 - val_loss: 1.6608 - val_acc: 0.4122\n",
            "Epoch 9/10\n",
            "50000/50000 [==============================] - 3s 66us/step - loss: 1.6193 - acc: 0.4199 - val_loss: 1.5839 - val_acc: 0.4360\n",
            "Epoch 10/10\n",
            "50000/50000 [==============================] - 3s 66us/step - loss: 1.6125 - acc: 0.4216 - val_loss: 1.6196 - val_acc: 0.4219\n",
            "Test loss: 1.619550779724121\n",
            "Test accuracy: 0.4219\n"
          ],
          "name": "stdout"
        }
      ]
    },
    {
      "metadata": {
        "id": "C1OgZIWZypKb",
        "colab_type": "text"
      },
      "cell_type": "markdown",
      "source": [
        "## 接下來我們使用 CNN 來訓練神經網路\n",
        "CNN 的原理非常適合處理影像類的資料，就讓我們來看看，同樣的訓練條件，CNN 是否顯著優於 DNN 呢?"
      ]
    },
    {
      "metadata": {
        "id": "T85moHkOypKb",
        "colab_type": "code",
        "colab": {
          "base_uri": "https://localhost:8080/",
          "height": 68
        },
        "outputId": "dcb2cb85-db56-4265-cea0-44cbe55f829c"
      },
      "cell_type": "code",
      "source": [
        "(x_train, y_train), (x_test, y_test) = cifar10.load_data()\n",
        "print('x_train shape:', x_train.shape)\n",
        "print(x_train.shape[0], 'train samples')\n",
        "print(x_test.shape[0], 'test samples')\n",
        "x_train = x_train.astype('float32')\n",
        "x_test = x_test.astype('float32')\n",
        "x_train /= 255\n",
        "x_test /= 255\n",
        "\n",
        "# Convert class vectors to binary class matrices.\n",
        "y_train = keras.utils.to_categorical(y_train, num_classes)\n",
        "y_test = keras.utils.to_categorical(y_test, num_classes)"
      ],
      "execution_count": 5,
      "outputs": [
        {
          "output_type": "stream",
          "text": [
            "x_train shape: (50000, 32, 32, 3)\n",
            "50000 train samples\n",
            "10000 test samples\n"
          ],
          "name": "stdout"
        }
      ]
    },
    {
      "metadata": {
        "id": "QpzQ4qHWypKe",
        "colab_type": "code",
        "colab": {}
      },
      "cell_type": "code",
      "source": [
        "def compare_model(padding='same', pool_size=(2, 2), dense_n_units=512):\n",
        "    model = Sequential()\n",
        "    model.add(Conv2D(32, (3, 3), padding=padding,\n",
        "                     input_shape=x_train.shape[1:]))\n",
        "    model.add(Activation('relu'))\n",
        "    model.add(Conv2D(32, (3, 3)))\n",
        "    model.add(Activation('relu'))\n",
        "    model.add(MaxPooling2D(pool_size=pool_size))\n",
        "    model.add(Dropout(0.25))\n",
        "\n",
        "    model.add(Conv2D(64, (3, 3), padding=padding))\n",
        "    model.add(Activation('relu'))\n",
        "    model.add(Conv2D(64, (3, 3)))\n",
        "    model.add(Activation('relu'))\n",
        "    model.add(MaxPooling2D(pool_size=pool_size))\n",
        "    model.add(Dropout(0.25))\n",
        "\n",
        "    model.add(Flatten())\n",
        "    model.add(Dense(dense_n_units))\n",
        "    model.add(Activation('relu'))\n",
        "    model.add(Dropout(0.5))\n",
        "    model.add(Dense(num_classes))\n",
        "    model.add(Activation('softmax'))\n",
        "    model.summary()\n",
        "\n",
        "    model.compile(loss='categorical_crossentropy',\n",
        "                  optimizer=RMSprop(),\n",
        "                  metrics=['accuracy'])\n",
        "\n",
        "    history = model.fit(x_train, y_train,\n",
        "                        batch_size=batch_size,\n",
        "                        epochs=epochs,\n",
        "                        verbose=1,\n",
        "                        validation_data=(x_test, y_test))\n",
        "    score = model.evaluate(x_test, y_test, verbose=0)\n",
        "    print('Test loss:', score[0])\n",
        "    print('Test accuracy:', score[1])"
      ],
      "execution_count": 0,
      "outputs": []
    },
    {
      "metadata": {
        "id": "qNHXz_snZ6xR",
        "colab_type": "code",
        "colab": {
          "base_uri": "https://localhost:8080/",
          "height": 1139
        },
        "outputId": "d0d4678e-c0d3-44df-dc06-528cd956895c"
      },
      "cell_type": "code",
      "source": [
        "compare_model()"
      ],
      "execution_count": 11,
      "outputs": [
        {
          "output_type": "stream",
          "text": [
            "_________________________________________________________________\n",
            "Layer (type)                 Output Shape              Param #   \n",
            "=================================================================\n",
            "conv2d_9 (Conv2D)            (None, 32, 32, 32)        896       \n",
            "_________________________________________________________________\n",
            "activation_13 (Activation)   (None, 32, 32, 32)        0         \n",
            "_________________________________________________________________\n",
            "conv2d_10 (Conv2D)           (None, 30, 30, 32)        9248      \n",
            "_________________________________________________________________\n",
            "activation_14 (Activation)   (None, 30, 30, 32)        0         \n",
            "_________________________________________________________________\n",
            "max_pooling2d_5 (MaxPooling2 (None, 15, 15, 32)        0         \n",
            "_________________________________________________________________\n",
            "dropout_9 (Dropout)          (None, 15, 15, 32)        0         \n",
            "_________________________________________________________________\n",
            "conv2d_11 (Conv2D)           (None, 15, 15, 64)        18496     \n",
            "_________________________________________________________________\n",
            "activation_15 (Activation)   (None, 15, 15, 64)        0         \n",
            "_________________________________________________________________\n",
            "conv2d_12 (Conv2D)           (None, 13, 13, 64)        36928     \n",
            "_________________________________________________________________\n",
            "activation_16 (Activation)   (None, 13, 13, 64)        0         \n",
            "_________________________________________________________________\n",
            "max_pooling2d_6 (MaxPooling2 (None, 6, 6, 64)          0         \n",
            "_________________________________________________________________\n",
            "dropout_10 (Dropout)         (None, 6, 6, 64)          0         \n",
            "_________________________________________________________________\n",
            "flatten_3 (Flatten)          (None, 2304)              0         \n",
            "_________________________________________________________________\n",
            "dense_8 (Dense)              (None, 512)               1180160   \n",
            "_________________________________________________________________\n",
            "activation_17 (Activation)   (None, 512)               0         \n",
            "_________________________________________________________________\n",
            "dropout_11 (Dropout)         (None, 512)               0         \n",
            "_________________________________________________________________\n",
            "dense_9 (Dense)              (None, 10)                5130      \n",
            "_________________________________________________________________\n",
            "activation_18 (Activation)   (None, 10)                0         \n",
            "=================================================================\n",
            "Total params: 1,250,858\n",
            "Trainable params: 1,250,858\n",
            "Non-trainable params: 0\n",
            "_________________________________________________________________\n",
            "Train on 50000 samples, validate on 10000 samples\n",
            "Epoch 1/10\n",
            "50000/50000 [==============================] - 12s 239us/step - loss: 1.7186 - acc: 0.3839 - val_loss: 1.3569 - val_acc: 0.5079\n",
            "Epoch 2/10\n",
            "50000/50000 [==============================] - 11s 227us/step - loss: 1.2613 - acc: 0.5540 - val_loss: 1.0339 - val_acc: 0.6395\n",
            "Epoch 3/10\n",
            "50000/50000 [==============================] - 11s 227us/step - loss: 1.0300 - acc: 0.6372 - val_loss: 0.9851 - val_acc: 0.6609\n",
            "Epoch 4/10\n",
            "50000/50000 [==============================] - 11s 224us/step - loss: 0.8867 - acc: 0.6918 - val_loss: 0.9219 - val_acc: 0.6804\n",
            "Epoch 5/10\n",
            "50000/50000 [==============================] - 11s 222us/step - loss: 0.7952 - acc: 0.7265 - val_loss: 0.7869 - val_acc: 0.7346\n",
            "Epoch 6/10\n",
            "50000/50000 [==============================] - 11s 222us/step - loss: 0.7262 - acc: 0.7494 - val_loss: 0.7816 - val_acc: 0.7327\n",
            "Epoch 7/10\n",
            "50000/50000 [==============================] - 11s 222us/step - loss: 0.6590 - acc: 0.7727 - val_loss: 0.7327 - val_acc: 0.7493\n",
            "Epoch 8/10\n",
            "50000/50000 [==============================] - 11s 222us/step - loss: 0.6169 - acc: 0.7868 - val_loss: 0.7364 - val_acc: 0.7590\n",
            "Epoch 9/10\n",
            "50000/50000 [==============================] - 11s 226us/step - loss: 0.5779 - acc: 0.8025 - val_loss: 0.7214 - val_acc: 0.7619\n",
            "Epoch 10/10\n",
            "50000/50000 [==============================] - 11s 225us/step - loss: 0.5539 - acc: 0.8099 - val_loss: 0.7458 - val_acc: 0.7580\n",
            "Test loss: 0.7457721415042877\n",
            "Test accuracy: 0.758\n"
          ],
          "name": "stdout"
        }
      ]
    },
    {
      "metadata": {
        "id": "Eodg_JlyypKh",
        "colab_type": "text"
      },
      "cell_type": "markdown",
      "source": [
        "## 同樣運算 10 個 epochs，但 CNN 在 test data 的準確率顯著優於 DNN!"
      ]
    },
    {
      "metadata": {
        "id": "QUxRtQ9mypKh",
        "colab_type": "text"
      },
      "cell_type": "markdown",
      "source": [
        "## 作業\n",
        "### 1. 請試著調整各個超參數，並說明那些超參數對於結果有明顯的影響?\n",
        "\n",
        "### 2. CNN 與 DNN 哪個模型的參數數量比較多? 造成參數的數量不同的原因在哪?\n",
        "\n",
        "DNN 的參數數量比較多，原因：\n",
        "1. 代表特徵的影像通常比整張影像還要小\n",
        "2. 同一個特徵可能出現在圖片任意位置，因此辨識不同位置的相同特徵時可以共用權重\n",
        "3. 可以做 subsampling，影像特徵不變"
      ]
    },
    {
      "metadata": {
        "id": "20mWwkiVypKi",
        "colab_type": "code",
        "colab": {
          "base_uri": "https://localhost:8080/",
          "height": 1139
        },
        "outputId": "a55e689d-aaea-4524-f987-1216f0d4b263"
      },
      "cell_type": "code",
      "source": [
        "compare_model(padding='valid')"
      ],
      "execution_count": 13,
      "outputs": [
        {
          "output_type": "stream",
          "text": [
            "_________________________________________________________________\n",
            "Layer (type)                 Output Shape              Param #   \n",
            "=================================================================\n",
            "conv2d_13 (Conv2D)           (None, 30, 30, 32)        896       \n",
            "_________________________________________________________________\n",
            "activation_19 (Activation)   (None, 30, 30, 32)        0         \n",
            "_________________________________________________________________\n",
            "conv2d_14 (Conv2D)           (None, 28, 28, 32)        9248      \n",
            "_________________________________________________________________\n",
            "activation_20 (Activation)   (None, 28, 28, 32)        0         \n",
            "_________________________________________________________________\n",
            "max_pooling2d_7 (MaxPooling2 (None, 14, 14, 32)        0         \n",
            "_________________________________________________________________\n",
            "dropout_12 (Dropout)         (None, 14, 14, 32)        0         \n",
            "_________________________________________________________________\n",
            "conv2d_15 (Conv2D)           (None, 12, 12, 64)        18496     \n",
            "_________________________________________________________________\n",
            "activation_21 (Activation)   (None, 12, 12, 64)        0         \n",
            "_________________________________________________________________\n",
            "conv2d_16 (Conv2D)           (None, 10, 10, 64)        36928     \n",
            "_________________________________________________________________\n",
            "activation_22 (Activation)   (None, 10, 10, 64)        0         \n",
            "_________________________________________________________________\n",
            "max_pooling2d_8 (MaxPooling2 (None, 5, 5, 64)          0         \n",
            "_________________________________________________________________\n",
            "dropout_13 (Dropout)         (None, 5, 5, 64)          0         \n",
            "_________________________________________________________________\n",
            "flatten_4 (Flatten)          (None, 1600)              0         \n",
            "_________________________________________________________________\n",
            "dense_10 (Dense)             (None, 512)               819712    \n",
            "_________________________________________________________________\n",
            "activation_23 (Activation)   (None, 512)               0         \n",
            "_________________________________________________________________\n",
            "dropout_14 (Dropout)         (None, 512)               0         \n",
            "_________________________________________________________________\n",
            "dense_11 (Dense)             (None, 10)                5130      \n",
            "_________________________________________________________________\n",
            "activation_24 (Activation)   (None, 10)                0         \n",
            "=================================================================\n",
            "Total params: 890,410\n",
            "Trainable params: 890,410\n",
            "Non-trainable params: 0\n",
            "_________________________________________________________________\n",
            "Train on 50000 samples, validate on 10000 samples\n",
            "Epoch 1/10\n",
            "50000/50000 [==============================] - 11s 219us/step - loss: 1.7842 - acc: 0.3515 - val_loss: 1.5341 - val_acc: 0.4604\n",
            "Epoch 2/10\n",
            "50000/50000 [==============================] - 10s 198us/step - loss: 1.3589 - acc: 0.5147 - val_loss: 1.2083 - val_acc: 0.5770\n",
            "Epoch 3/10\n",
            "50000/50000 [==============================] - 10s 202us/step - loss: 1.1511 - acc: 0.5939 - val_loss: 1.2990 - val_acc: 0.5544\n",
            "Epoch 4/10\n",
            "50000/50000 [==============================] - 10s 197us/step - loss: 1.0102 - acc: 0.6470 - val_loss: 0.9674 - val_acc: 0.6664\n",
            "Epoch 5/10\n",
            "50000/50000 [==============================] - 10s 194us/step - loss: 0.9023 - acc: 0.6864 - val_loss: 0.8603 - val_acc: 0.6980\n",
            "Epoch 6/10\n",
            "50000/50000 [==============================] - 10s 194us/step - loss: 0.8256 - acc: 0.7126 - val_loss: 0.8415 - val_acc: 0.7125\n",
            "Epoch 7/10\n",
            "50000/50000 [==============================] - 10s 196us/step - loss: 0.7617 - acc: 0.7350 - val_loss: 0.7973 - val_acc: 0.7276\n",
            "Epoch 8/10\n",
            "50000/50000 [==============================] - 10s 192us/step - loss: 0.7150 - acc: 0.7505 - val_loss: 0.7233 - val_acc: 0.7574\n",
            "Epoch 9/10\n",
            "50000/50000 [==============================] - 10s 193us/step - loss: 0.6722 - acc: 0.7668 - val_loss: 0.7288 - val_acc: 0.7526\n",
            "Epoch 10/10\n",
            "50000/50000 [==============================] - 10s 195us/step - loss: 0.6415 - acc: 0.7771 - val_loss: 0.7298 - val_acc: 0.7593\n",
            "Test loss: 0.7297881154537201\n",
            "Test accuracy: 0.7593\n"
          ],
          "name": "stdout"
        }
      ]
    },
    {
      "metadata": {
        "id": "j3DmicTHaAjm",
        "colab_type": "code",
        "colab": {
          "base_uri": "https://localhost:8080/",
          "height": 1139
        },
        "outputId": "f487f1a8-311a-4783-8099-1377b7cacd21"
      },
      "cell_type": "code",
      "source": [
        "compare_model(pool_size=(4, 4))"
      ],
      "execution_count": 16,
      "outputs": [
        {
          "output_type": "stream",
          "text": [
            "_________________________________________________________________\n",
            "Layer (type)                 Output Shape              Param #   \n",
            "=================================================================\n",
            "conv2d_19 (Conv2D)           (None, 32, 32, 32)        896       \n",
            "_________________________________________________________________\n",
            "activation_25 (Activation)   (None, 32, 32, 32)        0         \n",
            "_________________________________________________________________\n",
            "conv2d_20 (Conv2D)           (None, 30, 30, 32)        9248      \n",
            "_________________________________________________________________\n",
            "activation_26 (Activation)   (None, 30, 30, 32)        0         \n",
            "_________________________________________________________________\n",
            "max_pooling2d_9 (MaxPooling2 (None, 7, 7, 32)          0         \n",
            "_________________________________________________________________\n",
            "dropout_15 (Dropout)         (None, 7, 7, 32)          0         \n",
            "_________________________________________________________________\n",
            "conv2d_21 (Conv2D)           (None, 7, 7, 64)          18496     \n",
            "_________________________________________________________________\n",
            "activation_27 (Activation)   (None, 7, 7, 64)          0         \n",
            "_________________________________________________________________\n",
            "conv2d_22 (Conv2D)           (None, 5, 5, 64)          36928     \n",
            "_________________________________________________________________\n",
            "activation_28 (Activation)   (None, 5, 5, 64)          0         \n",
            "_________________________________________________________________\n",
            "max_pooling2d_10 (MaxPooling (None, 1, 1, 64)          0         \n",
            "_________________________________________________________________\n",
            "dropout_16 (Dropout)         (None, 1, 1, 64)          0         \n",
            "_________________________________________________________________\n",
            "flatten_5 (Flatten)          (None, 64)                0         \n",
            "_________________________________________________________________\n",
            "dense_12 (Dense)             (None, 512)               33280     \n",
            "_________________________________________________________________\n",
            "activation_29 (Activation)   (None, 512)               0         \n",
            "_________________________________________________________________\n",
            "dropout_17 (Dropout)         (None, 512)               0         \n",
            "_________________________________________________________________\n",
            "dense_13 (Dense)             (None, 10)                5130      \n",
            "_________________________________________________________________\n",
            "activation_30 (Activation)   (None, 10)                0         \n",
            "=================================================================\n",
            "Total params: 103,978\n",
            "Trainable params: 103,978\n",
            "Non-trainable params: 0\n",
            "_________________________________________________________________\n",
            "Train on 50000 samples, validate on 10000 samples\n",
            "Epoch 1/10\n",
            "50000/50000 [==============================] - 10s 197us/step - loss: 1.9271 - acc: 0.2768 - val_loss: 1.7279 - val_acc: 0.3712\n",
            "Epoch 2/10\n",
            "50000/50000 [==============================] - 9s 171us/step - loss: 1.5324 - acc: 0.4374 - val_loss: 1.3689 - val_acc: 0.5140\n",
            "Epoch 3/10\n",
            "50000/50000 [==============================] - 8s 168us/step - loss: 1.3143 - acc: 0.5240 - val_loss: 1.2452 - val_acc: 0.5656\n",
            "Epoch 4/10\n",
            "50000/50000 [==============================] - 8s 167us/step - loss: 1.1805 - acc: 0.5761 - val_loss: 1.0316 - val_acc: 0.6337\n",
            "Epoch 5/10\n",
            "50000/50000 [==============================] - 8s 168us/step - loss: 1.0776 - acc: 0.6202 - val_loss: 1.0231 - val_acc: 0.6440\n",
            "Epoch 6/10\n",
            "50000/50000 [==============================] - 8s 167us/step - loss: 1.0032 - acc: 0.6483 - val_loss: 0.9787 - val_acc: 0.6544\n",
            "Epoch 7/10\n",
            "50000/50000 [==============================] - 8s 168us/step - loss: 0.9366 - acc: 0.6733 - val_loss: 0.9520 - val_acc: 0.6708\n",
            "Epoch 8/10\n",
            "50000/50000 [==============================] - 8s 167us/step - loss: 0.8888 - acc: 0.6897 - val_loss: 0.8992 - val_acc: 0.6874\n",
            "Epoch 9/10\n",
            "50000/50000 [==============================] - 9s 170us/step - loss: 0.8452 - acc: 0.7056 - val_loss: 0.8304 - val_acc: 0.7073\n",
            "Epoch 10/10\n",
            "50000/50000 [==============================] - 8s 169us/step - loss: 0.8093 - acc: 0.7183 - val_loss: 0.8178 - val_acc: 0.7130\n",
            "Test loss: 0.8177622085571289\n",
            "Test accuracy: 0.713\n"
          ],
          "name": "stdout"
        }
      ]
    },
    {
      "metadata": {
        "id": "lB6M5US6afbW",
        "colab_type": "code",
        "colab": {
          "base_uri": "https://localhost:8080/",
          "height": 1139
        },
        "outputId": "456d2e50-b0dd-4c51-9a42-25ac920eac11"
      },
      "cell_type": "code",
      "source": [
        "compare_model(dense_n_units=256)"
      ],
      "execution_count": 17,
      "outputs": [
        {
          "output_type": "stream",
          "text": [
            "_________________________________________________________________\n",
            "Layer (type)                 Output Shape              Param #   \n",
            "=================================================================\n",
            "conv2d_23 (Conv2D)           (None, 32, 32, 32)        896       \n",
            "_________________________________________________________________\n",
            "activation_31 (Activation)   (None, 32, 32, 32)        0         \n",
            "_________________________________________________________________\n",
            "conv2d_24 (Conv2D)           (None, 30, 30, 32)        9248      \n",
            "_________________________________________________________________\n",
            "activation_32 (Activation)   (None, 30, 30, 32)        0         \n",
            "_________________________________________________________________\n",
            "max_pooling2d_11 (MaxPooling (None, 15, 15, 32)        0         \n",
            "_________________________________________________________________\n",
            "dropout_18 (Dropout)         (None, 15, 15, 32)        0         \n",
            "_________________________________________________________________\n",
            "conv2d_25 (Conv2D)           (None, 15, 15, 64)        18496     \n",
            "_________________________________________________________________\n",
            "activation_33 (Activation)   (None, 15, 15, 64)        0         \n",
            "_________________________________________________________________\n",
            "conv2d_26 (Conv2D)           (None, 13, 13, 64)        36928     \n",
            "_________________________________________________________________\n",
            "activation_34 (Activation)   (None, 13, 13, 64)        0         \n",
            "_________________________________________________________________\n",
            "max_pooling2d_12 (MaxPooling (None, 6, 6, 64)          0         \n",
            "_________________________________________________________________\n",
            "dropout_19 (Dropout)         (None, 6, 6, 64)          0         \n",
            "_________________________________________________________________\n",
            "flatten_6 (Flatten)          (None, 2304)              0         \n",
            "_________________________________________________________________\n",
            "dense_14 (Dense)             (None, 256)               590080    \n",
            "_________________________________________________________________\n",
            "activation_35 (Activation)   (None, 256)               0         \n",
            "_________________________________________________________________\n",
            "dropout_20 (Dropout)         (None, 256)               0         \n",
            "_________________________________________________________________\n",
            "dense_15 (Dense)             (None, 10)                2570      \n",
            "_________________________________________________________________\n",
            "activation_36 (Activation)   (None, 10)                0         \n",
            "=================================================================\n",
            "Total params: 658,218\n",
            "Trainable params: 658,218\n",
            "Non-trainable params: 0\n",
            "_________________________________________________________________\n",
            "Train on 50000 samples, validate on 10000 samples\n",
            "Epoch 1/10\n",
            "50000/50000 [==============================] - 12s 237us/step - loss: 1.7358 - acc: 0.3707 - val_loss: 1.3860 - val_acc: 0.5045\n",
            "Epoch 2/10\n",
            "50000/50000 [==============================] - 11s 219us/step - loss: 1.3118 - acc: 0.5364 - val_loss: 1.2365 - val_acc: 0.5737\n",
            "Epoch 3/10\n",
            "50000/50000 [==============================] - 11s 218us/step - loss: 1.1034 - acc: 0.6121 - val_loss: 0.9334 - val_acc: 0.6734\n",
            "Epoch 4/10\n",
            "50000/50000 [==============================] - 11s 218us/step - loss: 0.9645 - acc: 0.6654 - val_loss: 0.8544 - val_acc: 0.7038\n",
            "Epoch 5/10\n",
            "50000/50000 [==============================] - 11s 220us/step - loss: 0.8698 - acc: 0.6999 - val_loss: 0.8516 - val_acc: 0.7029\n",
            "Epoch 6/10\n",
            "50000/50000 [==============================] - 11s 222us/step - loss: 0.7962 - acc: 0.7263 - val_loss: 0.7798 - val_acc: 0.7377\n",
            "Epoch 7/10\n",
            "50000/50000 [==============================] - 11s 218us/step - loss: 0.7408 - acc: 0.7424 - val_loss: 0.7359 - val_acc: 0.7503\n",
            "Epoch 8/10\n",
            "50000/50000 [==============================] - 11s 219us/step - loss: 0.7031 - acc: 0.7583 - val_loss: 0.7903 - val_acc: 0.7382\n",
            "Epoch 9/10\n",
            "50000/50000 [==============================] - 11s 222us/step - loss: 0.6634 - acc: 0.7724 - val_loss: 0.7455 - val_acc: 0.7513\n",
            "Epoch 10/10\n",
            "50000/50000 [==============================] - 11s 218us/step - loss: 0.6413 - acc: 0.7799 - val_loss: 0.6988 - val_acc: 0.7673\n",
            "Test loss: 0.6987756104946137\n",
            "Test accuracy: 0.7673\n"
          ],
          "name": "stdout"
        }
      ]
    },
    {
      "metadata": {
        "id": "5nG779RPafwG",
        "colab_type": "code",
        "colab": {}
      },
      "cell_type": "code",
      "source": [
        ""
      ],
      "execution_count": 0,
      "outputs": []
    }
  ]
}