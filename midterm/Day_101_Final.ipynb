{
  "nbformat": 4,
  "nbformat_minor": 0,
  "metadata": {
    "colab": {
      "name": "Day_101_Final.ipynb",
      "version": "0.3.2",
      "provenance": [],
      "collapsed_sections": [],
      "include_colab_link": true
    },
    "kernelspec": {
      "name": "python3",
      "display_name": "Python 3"
    },
    "accelerator": "GPU"
  },
  "cells": [
    {
      "cell_type": "markdown",
      "metadata": {
        "id": "view-in-github",
        "colab_type": "text"
      },
      "source": [
        "<a href=\"https://colab.research.google.com/github/kvzl/ML100-Days/blob/master/midterm/Day_101_Final.ipynb\" target=\"_parent\"><img src=\"https://colab.research.google.com/assets/colab-badge.svg\" alt=\"Open In Colab\"/></a>"
      ]
    },
    {
      "metadata": {
        "id": "bAA6CjuecrPp",
        "colab_type": "text"
      },
      "cell_type": "markdown",
      "source": [
        "# 機器學習百日馬拉松 期末考"
      ]
    },
    {
      "metadata": {
        "id": "JBw8_xyPcMtO",
        "colab_type": "text"
      },
      "cell_type": "markdown",
      "source": [
        "## 取得資料"
      ]
    },
    {
      "metadata": {
        "id": "VaqimfuccQgG",
        "colab_type": "text"
      },
      "cell_type": "markdown",
      "source": [
        "### 連接雲端硬碟\n",
        "\n",
        "用來取得放在雲端硬碟的 Kaggle 憑證"
      ]
    },
    {
      "metadata": {
        "id": "rWQIVEEqeB1X",
        "colab_type": "code",
        "outputId": "55bdb645-046e-4623-d953-da7c29ed9012",
        "colab": {
          "base_uri": "https://localhost:8080/",
          "height": 122
        }
      },
      "cell_type": "code",
      "source": [
        "from google.colab import drive\n",
        "drive.mount('/content/gdrive', force_remount=True)"
      ],
      "execution_count": 1,
      "outputs": [
        {
          "output_type": "stream",
          "text": [
            "Go to this URL in a browser: https://accounts.google.com/o/oauth2/auth?client_id=947318989803-6bn6qk8qdgf4n4g3pfee6491hc0brc4i.apps.googleusercontent.com&redirect_uri=urn%3Aietf%3Awg%3Aoauth%3A2.0%3Aoob&scope=email%20https%3A%2F%2Fwww.googleapis.com%2Fauth%2Fdocs.test%20https%3A%2F%2Fwww.googleapis.com%2Fauth%2Fdrive%20https%3A%2F%2Fwww.googleapis.com%2Fauth%2Fdrive.photos.readonly%20https%3A%2F%2Fwww.googleapis.com%2Fauth%2Fpeopleapi.readonly&response_type=code\n",
            "\n",
            "Enter your authorization code:\n",
            "··········\n",
            "Mounted at /content/gdrive\n"
          ],
          "name": "stdout"
        }
      ]
    },
    {
      "metadata": {
        "id": "fD8aEUaCcTVE",
        "colab_type": "text"
      },
      "cell_type": "markdown",
      "source": [
        "### 從 Kaggle 下載、解壓縮資料"
      ]
    },
    {
      "metadata": {
        "id": "6gh-Cc-scLrD",
        "colab_type": "code",
        "colab": {}
      },
      "cell_type": "code",
      "source": [
        "!rm -rf ~/.kaggle && mkdir ~/.kaggle && cp ./gdrive/My\\ Drive/個人/keys/kaggle.json ~/.kaggle/kaggle.json && chmod 600 ~/.kaggle/kaggle.json && kaggle competitions download -c ml100marathon-final-exam && unzip image_data.zip\n",
        "!mkdir weights"
      ],
      "execution_count": 0,
      "outputs": []
    },
    {
      "metadata": {
        "id": "2dqjb9BSi22m",
        "colab_type": "text"
      },
      "cell_type": "markdown",
      "source": [
        "### 引入所需函式庫"
      ]
    },
    {
      "metadata": {
        "id": "N9SP7ZxicU7J",
        "colab_type": "code",
        "colab": {}
      },
      "cell_type": "code",
      "source": [
        "import math\n",
        "import os\n",
        "import glob\n",
        "\n",
        "import numpy as np\n",
        "from sklearn.model_selection import train_test_split\n",
        "\n",
        "from PIL import Image\n",
        "import imgaug as ia\n",
        "from imgaug  import augmenters as iaa\n",
        "\n",
        "import matplotlib.pyplot as plt\n",
        "%matplotlib inline\n",
        "\n",
        "import tensorflow as tf\n",
        "from tensorflow.keras import layers\n",
        "from tensorflow.keras.callbacks import ReduceLROnPlateau, ModelCheckpoint, EarlyStopping\n",
        "from tensorflow.keras.utils import to_categorical\n",
        "from tensorflow.keras.preprocessing.image import ImageDataGenerator"
      ],
      "execution_count": 0,
      "outputs": []
    },
    {
      "metadata": {
        "id": "_HzvkarqhEmc",
        "colab_type": "text"
      },
      "cell_type": "markdown",
      "source": [
        "### 常數"
      ]
    },
    {
      "metadata": {
        "id": "XlTftp1B9OV6",
        "colab_type": "code",
        "colab": {}
      },
      "cell_type": "code",
      "source": [
        "flower_map = {\n",
        "    0: 'daisy',\n",
        "    1: 'dandelion',\n",
        "    2: 'rose',\n",
        "    3: 'sunflower',\n",
        "    4: 'tulip'\n",
        "}\n",
        "\n",
        "num_classes = 5"
      ],
      "execution_count": 0,
      "outputs": []
    },
    {
      "metadata": {
        "id": "ZqRrPQKwbiKa",
        "colab_type": "text"
      },
      "cell_type": "markdown",
      "source": [
        "## 輔助函式"
      ]
    },
    {
      "metadata": {
        "id": "4vlXw9gsbm40",
        "colab_type": "text"
      },
      "cell_type": "markdown",
      "source": [
        "### 畫出訓練過程"
      ]
    },
    {
      "metadata": {
        "id": "cAqrVQ6D-l1L",
        "colab_type": "code",
        "colab": {}
      },
      "cell_type": "code",
      "source": [
        "def plot_train_history(history):\n",
        "    fig, ax = plt.subplots(1, 2, figsize=(10, 4))\n",
        "    \n",
        "    loss = history.history['loss']\n",
        "    val_loss = history.history['val_loss']\n",
        "    acc = history.history['acc']\n",
        "    val_acc = history.history['val_acc']\n",
        "    \n",
        "    ax[0].plot(loss, label='train')\n",
        "    ax[0].plot(val_loss, label='test')\n",
        "    ax[0].set_ylabel('Loss')\n",
        "    ax[0].legend()\n",
        "    \n",
        "    ax[1].plot(acc, label='train')\n",
        "    ax[1].plot(val_acc, label='test')\n",
        "    ax[1].set_ylabel('Accuracy')\n",
        "    ax[1].legend()\n",
        "    \n",
        "    plt.tight_layout()\n",
        "    plt.show()"
      ],
      "execution_count": 0,
      "outputs": []
    },
    {
      "metadata": {
        "id": "DAAsuKC9b248",
        "colab_type": "text"
      },
      "cell_type": "markdown",
      "source": [
        "### 排列顯示圖片"
      ]
    },
    {
      "metadata": {
        "id": "tb5alcfxb1vv",
        "colab_type": "code",
        "colab": {}
      },
      "cell_type": "code",
      "source": [
        "def show_images(images, labels=None, size=(5, 4), start=0):\n",
        "    row, col = size\n",
        "    plt.figure(figsize=(10, 6))\n",
        "    for i in range(row):\n",
        "        for j in range(col):\n",
        "            idx = (col * i) + j\n",
        "            plt.subplot(col, row, idx + 1)\n",
        "            plt.imshow(images[start + idx])\n",
        "            if labels is not None:\n",
        "                plt.title(flower_map[np.argmax(labels[start + idx])])\n",
        "            plt.axis('off')\n",
        "    plt.show()"
      ],
      "execution_count": 0,
      "outputs": []
    },
    {
      "metadata": {
        "id": "20WnhFJrgh3-",
        "colab_type": "text"
      },
      "cell_type": "markdown",
      "source": [
        "### 將圖片轉為陣列"
      ]
    },
    {
      "metadata": {
        "id": "xt20bGW7ghFL",
        "colab_type": "code",
        "colab": {}
      },
      "cell_type": "code",
      "source": [
        "def image_to_array(filename):\n",
        "    return np.asarray(Image.open(filename, 'r'))"
      ],
      "execution_count": 0,
      "outputs": []
    },
    {
      "metadata": {
        "id": "RtB55MdZbwHV",
        "colab_type": "text"
      },
      "cell_type": "markdown",
      "source": [
        "### 資料處理"
      ]
    },
    {
      "metadata": {
        "id": "9Xe0NHMmbyAi",
        "colab_type": "code",
        "colab": {}
      },
      "cell_type": "code",
      "source": [
        "def normalize(x):\n",
        "    x = np.array(x).astype('float32') / 255\n",
        "    return x\n",
        "\n",
        "\n",
        "def resize(images, size=(300, 300)):\n",
        "    width, height = size\n",
        "    \n",
        "    seq = iaa.Sequential([\n",
        "        iaa.PadToFixedSize(width, height),\n",
        "        iaa.CropToFixedSize(width, height)\n",
        "    ])\n",
        "    \n",
        "    return seq.augment_images(images)\n",
        "\n",
        "\n",
        "def data_augment(x, y):\n",
        "    seq = iaa.Sequential([\n",
        "        iaa.Fliplr(0.5),\n",
        "        iaa.Crop(percent=(0, 0.1)),\n",
        "        iaa.Sometimes(0.5,\n",
        "            iaa.GaussianBlur(sigma=(0, 0.5))\n",
        "        ),\n",
        "        iaa.ContrastNormalization((0.75, 1.5)),\n",
        "        iaa.AdditiveGaussianNoise(loc=0, scale=(0.0, 0.05*255), per_channel=0.5),\n",
        "        iaa.Affine(\n",
        "            scale={\"x\": (0.8, 1.2), \"y\": (0.8, 1.2)},\n",
        "            translate_percent={\"x\": (-0.2, 0.2), \"y\": (-0.2, 0.2)},\n",
        "            rotate=(-25, 25),\n",
        "            shear=(-8, 8)\n",
        "        )\n",
        "    ], random_order=True)\n",
        "\n",
        "    x_aug = seq.augment_images(x)\n",
        "    x += x_aug\n",
        "    y += y\n",
        "    \n",
        "    return x, y\n",
        "\n",
        "def data_augment_idg(x):\n",
        "    datagen = ImageDataGenerator(\n",
        "        featurewise_center=False,  # set input mean to 0 over the dataset\n",
        "        samplewise_center=False,  # set each sample mean to 0\n",
        "        featurewise_std_normalization=False,  # divide inputs by std of the dataset\n",
        "        samplewise_std_normalization=False,  # divide each input by its std\n",
        "        zca_whitening=False,  # apply ZCA whitening\n",
        "        rotation_range=10,  # randomly rotate images in the range (degrees, 0 to 180)\n",
        "        zoom_range = 0.1, # Randomly zoom image \n",
        "        width_shift_range=0.2,  # randomly shift images horizontally (fraction of total width)\n",
        "        height_shift_range=0.2,  # randomly shift images vertically (fraction of total height)\n",
        "        horizontal_flip=True,  # randomly flip images\n",
        "        vertical_flip=False)  # randomly flip images\n",
        "\n",
        "    datagen.fit(x)\n",
        "    \n",
        "    return datagen\n",
        "\n",
        "\n",
        "def preprocess(images, labels, image_size, data_augmentation='idg'):\n",
        "    def transform(x, y):\n",
        "        x = resize(x, size=image_size)\n",
        "        x = normalize(x)\n",
        "        y = to_categorical(np.array(y))\n",
        "        \n",
        "        return x, y\n",
        "\n",
        "    x_train, x_test, y_train, y_test = train_test_split(images, labels, test_size=0.3)\n",
        "\n",
        "    x_train, y_train = transform(x_train, y_train)\n",
        "\n",
        "    if data_augmentation == 'ia':\n",
        "        x_train, y_train = data_augment(x_train, y_train)\n",
        "        datagen = None\n",
        "\n",
        "    elif data_augmentation == 'idg':\n",
        "        datagen = data_augment_idg(x_train)\n",
        "   \n",
        "    x_test, y_test = transform(x_test, y_test)\n",
        "    \n",
        "    return (x_train, y_train), (x_test, y_test), datagen"
      ],
      "execution_count": 0,
      "outputs": []
    },
    {
      "metadata": {
        "id": "xC23tfWQcEaz",
        "colab_type": "text"
      },
      "cell_type": "markdown",
      "source": [
        "### 讀取訓練資料"
      ]
    },
    {
      "metadata": {
        "id": "VPV8l9QaNz7X",
        "colab_type": "code",
        "colab": {}
      },
      "cell_type": "code",
      "source": [
        "def load_data():\n",
        "    images, labels = [], []\n",
        "    \n",
        "    for idx, flower in flower_map.items():\n",
        "        name = os.path.basename(flower)\n",
        "        path = 'train/%s/*' % name\n",
        "        \n",
        "        for filename in glob.iglob(path):\n",
        "            images.append(image_to_array(filename))\n",
        "            labels.append(idx)\n",
        "\n",
        "    return images, labels"
      ],
      "execution_count": 0,
      "outputs": []
    },
    {
      "metadata": {
        "id": "SiFykHyu5azG",
        "colab_type": "text"
      },
      "cell_type": "markdown",
      "source": [
        "### 讀取所有測試編號"
      ]
    },
    {
      "metadata": {
        "id": "MPv5euKM5dgS",
        "colab_type": "code",
        "colab": {}
      },
      "cell_type": "code",
      "source": [
        "def load_test_ids():\n",
        "    return np.array([os.path.basename(id).split('.')[0] for id in glob.iglob('test/*.jpg')])"
      ],
      "execution_count": 0,
      "outputs": []
    },
    {
      "metadata": {
        "id": "4dbOrZxehSp3",
        "colab_type": "text"
      },
      "cell_type": "markdown",
      "source": [
        "### 讀取測試資料"
      ]
    },
    {
      "metadata": {
        "id": "tIGJCHIThQdf",
        "colab_type": "code",
        "colab": {}
      },
      "cell_type": "code",
      "source": [
        "def load_test_data(ids, image_size, batch_size=10):\n",
        "    for batch_ids in np.split(ids, len(ids) / batch_size):\n",
        "        x = [image_to_array('test/%s.jpg' % id) for id in batch_ids]        \n",
        "        x = resize(x, size=image_size)        \n",
        "        x = normalize(x)\n",
        "        \n",
        "        yield x"
      ],
      "execution_count": 0,
      "outputs": []
    },
    {
      "metadata": {
        "id": "zeLEvEMRgEJb",
        "colab_type": "text"
      },
      "cell_type": "markdown",
      "source": [
        "### 評估模型"
      ]
    },
    {
      "metadata": {
        "id": "jwMjh83ogD2j",
        "colab_type": "code",
        "colab": {}
      },
      "cell_type": "code",
      "source": [
        "def evaluate(image_size, batch_size=5):\n",
        "    ids = np.array([os.path.basename(id).split('.')[0] for id in glob.iglob('test/*.jpg')])\n",
        "    gen = load_test_data(ids, image_size, batch_size)\n",
        "\n",
        "    return model.predict_generator(gen, \n",
        "                         steps=math.ceil(len(ids) / batch_size))"
      ],
      "execution_count": 0,
      "outputs": []
    },
    {
      "metadata": {
        "id": "OnAD7o7nc_bZ",
        "colab_type": "text"
      },
      "cell_type": "markdown",
      "source": [
        "### 取得 Callbacks"
      ]
    },
    {
      "metadata": {
        "id": "TjDqoa9MlVO1",
        "colab_type": "code",
        "colab": {}
      },
      "cell_type": "code",
      "source": [
        "def get_callbacks(name='', es=True, es_patience=5):\n",
        "    file_name = './weights/weights.%s-{epoch:02d}-{loss:.2f}-{val_loss:.2f}.hdf5' % name\n",
        "        \n",
        "    red_lr = ReduceLROnPlateau(monitor='val_acc', patience=3, verbose=1, factor=0.1)\n",
        "    \n",
        "    model_cp = ModelCheckpoint(file_name,\n",
        "                               monitor='val_loss',\n",
        "                               verbose=1,\n",
        "                               save_best_only=True,\n",
        "                               period=3)\n",
        "    \n",
        "    callbacks = [red_lr, model_cp]\n",
        "    \n",
        "    if es:\n",
        "        es = EarlyStopping(monitor='val_loss',\n",
        "                           min_delta=0,\n",
        "                           patience=es_patience,\n",
        "                           verbose=1, mode='auto', baseline=None, restore_best_weights=True)\n",
        "        callbacks.append(es)\n",
        "    \n",
        "    return callbacks"
      ],
      "execution_count": 0,
      "outputs": []
    },
    {
      "metadata": {
        "id": "-aWmV0swdcHl",
        "colab_type": "text"
      },
      "cell_type": "markdown",
      "source": [
        "### 將資料轉成提交用的格式"
      ]
    },
    {
      "metadata": {
        "id": "gFOFIRnhGbOP",
        "colab_type": "code",
        "colab": {}
      },
      "cell_type": "code",
      "source": [
        "def to_submit(x, y):\n",
        "    header = np.array([['id', 'flower_class']])\n",
        "    arr = np.transpose(np.array([x, y.astype('<U32')]))\n",
        "    return np.insert(arr, 0, ['id', 'flower_class']).reshape(2001, 2)"
      ],
      "execution_count": 0,
      "outputs": []
    },
    {
      "metadata": {
        "id": "njdOb_YBdyds",
        "colab_type": "text"
      },
      "cell_type": "markdown",
      "source": [
        "### 將儲存的權重複製到雲端硬碟"
      ]
    },
    {
      "metadata": {
        "id": "De5yhUVSvw71",
        "colab_type": "code",
        "colab": {}
      },
      "cell_type": "code",
      "source": [
        "!cp weights/weights.*.hdf5 gdrive/My\\ Drive/Models/"
      ],
      "execution_count": 0,
      "outputs": []
    },
    {
      "metadata": {
        "id": "Z18ZYIqk7tb7",
        "colab_type": "text"
      },
      "cell_type": "markdown",
      "source": [
        "### 將儲存在雲端硬碟的權重複製到本地"
      ]
    },
    {
      "metadata": {
        "id": "WG4Hu1bu7mqq",
        "colab_type": "code",
        "colab": {}
      },
      "cell_type": "code",
      "source": [
        "!cp gdrive/My\\ Drive/Models/weights.*.hdf5 weights/"
      ],
      "execution_count": 0,
      "outputs": []
    },
    {
      "metadata": {
        "id": "E-YB87-cd26P",
        "colab_type": "text"
      },
      "cell_type": "markdown",
      "source": [
        "### 讀取指定 model"
      ]
    },
    {
      "metadata": {
        "id": "DK1DfdpndxwX",
        "colab_type": "code",
        "colab": {}
      },
      "cell_type": "code",
      "source": [
        "def recover_model(name):\n",
        "    model = tf.keras.models.load_model('weights/%s.hdf5' % name)\n",
        "    return model"
      ],
      "execution_count": 0,
      "outputs": []
    },
    {
      "metadata": {
        "id": "w40p-Vlwc1F2",
        "colab_type": "text"
      },
      "cell_type": "markdown",
      "source": [
        "## 訓練模型"
      ]
    },
    {
      "metadata": {
        "id": "LJssIZBfc3UX",
        "colab_type": "text"
      },
      "cell_type": "markdown",
      "source": [
        "### 自訂模型"
      ]
    },
    {
      "metadata": {
        "id": "11W35YDSUXCh",
        "colab_type": "code",
        "colab": {}
      },
      "cell_type": "code",
      "source": [
        "images, labels = load_data()\n",
        "(x_train, y_train), (x_test, y_test), datagen = preprocess(images, labels, image_size=(224, 224), data_augmentation='idg')\n",
        "\n",
        "print((x_train.shape), (y_train.shape))\n",
        "print((x_test.shape), (y_test.shape))"
      ],
      "execution_count": 0,
      "outputs": []
    },
    {
      "metadata": {
        "id": "QRv-43JYPH_b",
        "colab_type": "code",
        "colab": {}
      },
      "cell_type": "code",
      "source": [
        "show_images(x_train, y_train)"
      ],
      "execution_count": 0,
      "outputs": []
    },
    {
      "metadata": {
        "id": "0nuxwOFM51-3",
        "colab_type": "code",
        "colab": {}
      },
      "cell_type": "code",
      "source": [
        "def build_custom_cnn():\n",
        "    model = tf.keras.Sequential([\n",
        "        layers.Conv2D(32, (5,5), padding='Same', activation='relu', input_shape=x_train.shape[1:]),\n",
        "        layers.MaxPooling2D(pool_size=(2,2)),\n",
        "\n",
        "        layers.Conv2D(64, (3,3), padding='Same', activation='relu'),\n",
        "        layers.MaxPooling2D(pool_size=(2,2), strides=(2,2)),\n",
        "\n",
        "        layers.Conv2D(96, (3,3), padding='Same', activation='relu'),\n",
        "        layers.MaxPooling2D(pool_size=(2,2), strides=(2,2)),\n",
        "\n",
        "        layers.Conv2D(96, (3,3), padding='Same', activation='relu'),\n",
        "        layers.MaxPooling2D(pool_size=(2,2), strides=(2,2)),\n",
        "\n",
        "        layers.Flatten(),\n",
        "        layers.Dense(512),\n",
        "        layers.Activation('relu'),\n",
        "        layers.Dense(5, activation='softmax'),\n",
        "    ])\n",
        "\n",
        "    return model"
      ],
      "execution_count": 0,
      "outputs": []
    },
    {
      "metadata": {
        "id": "xYIPGBaf7owt",
        "colab_type": "code",
        "outputId": "3e548641-fe8b-4bb1-e667-4f9ace3c6781",
        "colab": {
          "base_uri": "https://localhost:8080/",
          "height": 615
        }
      },
      "cell_type": "code",
      "source": [
        "build_custom_cnn().summary()"
      ],
      "execution_count": 23,
      "outputs": [
        {
          "output_type": "stream",
          "text": [
            "WARNING:tensorflow:From /usr/local/lib/python3.6/dist-packages/tensorflow/python/ops/resource_variable_ops.py:435: colocate_with (from tensorflow.python.framework.ops) is deprecated and will be removed in a future version.\n",
            "Instructions for updating:\n",
            "Colocations handled automatically by placer.\n",
            "_________________________________________________________________\n",
            "Layer (type)                 Output Shape              Param #   \n",
            "=================================================================\n",
            "conv2d (Conv2D)              (None, 224, 224, 32)      2432      \n",
            "_________________________________________________________________\n",
            "max_pooling2d (MaxPooling2D) (None, 112, 112, 32)      0         \n",
            "_________________________________________________________________\n",
            "conv2d_1 (Conv2D)            (None, 112, 112, 64)      18496     \n",
            "_________________________________________________________________\n",
            "max_pooling2d_1 (MaxPooling2 (None, 56, 56, 64)        0         \n",
            "_________________________________________________________________\n",
            "conv2d_2 (Conv2D)            (None, 56, 56, 96)        55392     \n",
            "_________________________________________________________________\n",
            "max_pooling2d_2 (MaxPooling2 (None, 28, 28, 96)        0         \n",
            "_________________________________________________________________\n",
            "conv2d_3 (Conv2D)            (None, 28, 28, 96)        83040     \n",
            "_________________________________________________________________\n",
            "max_pooling2d_3 (MaxPooling2 (None, 14, 14, 96)        0         \n",
            "_________________________________________________________________\n",
            "flatten (Flatten)            (None, 18816)             0         \n",
            "_________________________________________________________________\n",
            "dense (Dense)                (None, 512)               9634304   \n",
            "_________________________________________________________________\n",
            "activation (Activation)      (None, 512)               0         \n",
            "_________________________________________________________________\n",
            "dense_1 (Dense)              (None, 5)                 2565      \n",
            "=================================================================\n",
            "Total params: 9,796,229\n",
            "Trainable params: 9,796,229\n",
            "Non-trainable params: 0\n",
            "_________________________________________________________________\n"
          ],
          "name": "stdout"
        }
      ]
    },
    {
      "metadata": {
        "id": "cEsujya_7vfL",
        "colab_type": "code",
        "colab": {}
      },
      "cell_type": "code",
      "source": [
        "custom_cnn = build_custom_cnn()\n",
        "optimizer = tf.keras.optimizers.Adam(lr=1e-3)\n",
        "custom_cnn.compile(loss='categorical_crossentropy', metrics=['accuracy'], optimizer=optimizer)"
      ],
      "execution_count": 0,
      "outputs": []
    },
    {
      "metadata": {
        "id": "lbCtGxzQSdGG",
        "colab_type": "code",
        "colab": {
          "base_uri": "https://localhost:8080/",
          "height": 2908
        },
        "outputId": "0b03ed1e-836f-45e1-a816-155cef431bca"
      },
      "cell_type": "code",
      "source": [
        "batch_size = 128\n",
        "\n",
        "history = custom_cnn.fit_generator(\n",
        "    datagen.flow(x_train, y_train, batch_size=batch_size),\n",
        "    epochs=50,\n",
        "    validation_data=(x_test, y_test),\n",
        "    verbose=1,\n",
        "    steps_per_epoch=x_train.shape[0] // batch_size,\n",
        "    callbacks=get_callbacks('custom_cnn', es=False)\n",
        ")"
      ],
      "execution_count": 29,
      "outputs": [
        {
          "output_type": "stream",
          "text": [
            "Epoch 1/50\n",
            "847/847 [==============================] - 1s 1ms/sample - loss: 0.8331 - acc: 0.6800\n",
            "16/16 [==============================] - 25s 2s/step - loss: 0.7522 - acc: 0.7110 - val_loss: 0.8262 - val_acc: 0.6800\n",
            "Epoch 2/50\n",
            "847/847 [==============================] - 1s 1ms/sample - loss: 0.8357 - acc: 0.6800\n",
            "16/16 [==============================] - 24s 1s/step - loss: 0.7533 - acc: 0.7136 - val_loss: 0.8286 - val_acc: 0.6800\n",
            "Epoch 3/50\n",
            "847/847 [==============================] - 1s 1ms/sample - loss: 0.8361 - acc: 0.6800\n",
            "\n",
            "Epoch 00003: val_loss improved from inf to 0.82885, saving model to ./weights/weights.custom_cnn-03-0.74-0.83.hdf5\n",
            "16/16 [==============================] - 24s 1s/step - loss: 0.7483 - acc: 0.7126 - val_loss: 0.8288 - val_acc: 0.6800\n",
            "Epoch 4/50\n",
            "847/847 [==============================] - 1s 1ms/sample - loss: 0.8372 - acc: 0.6812\n",
            "16/16 [==============================] - 24s 2s/step - loss: 0.7433 - acc: 0.7115 - val_loss: 0.8299 - val_acc: 0.6812\n",
            "Epoch 5/50\n",
            "847/847 [==============================] - 1s 1ms/sample - loss: 0.8374 - acc: 0.6824\n",
            "16/16 [==============================] - 24s 2s/step - loss: 0.7474 - acc: 0.7090 - val_loss: 0.8301 - val_acc: 0.6824\n",
            "Epoch 6/50\n",
            "847/847 [==============================] - 1s 1ms/sample - loss: 0.8362 - acc: 0.6836\n",
            "\n",
            "Epoch 00006: val_loss improved from 0.82885 to 0.82881, saving model to ./weights/weights.custom_cnn-06-0.74-0.83.hdf5\n",
            "16/16 [==============================] - 24s 2s/step - loss: 0.7411 - acc: 0.7075 - val_loss: 0.8288 - val_acc: 0.6836\n",
            "Epoch 7/50\n",
            "847/847 [==============================] - 1s 1ms/sample - loss: 0.8375 - acc: 0.6824\n",
            "16/16 [==============================] - 24s 2s/step - loss: 0.7472 - acc: 0.7065 - val_loss: 0.8301 - val_acc: 0.6824\n",
            "Epoch 8/50\n",
            "847/847 [==============================] - 1s 1ms/sample - loss: 0.8385 - acc: 0.6848\n",
            "16/16 [==============================] - 24s 2s/step - loss: 0.7502 - acc: 0.7100 - val_loss: 0.8309 - val_acc: 0.6848\n",
            "Epoch 9/50\n",
            "847/847 [==============================] - 1s 2ms/sample - loss: 0.8355 - acc: 0.6871\n",
            "\n",
            "Epoch 00009: val_loss improved from 0.82881 to 0.82809, saving model to ./weights/weights.custom_cnn-09-0.74-0.83.hdf5\n",
            "16/16 [==============================] - 24s 2s/step - loss: 0.7417 - acc: 0.7100 - val_loss: 0.8281 - val_acc: 0.6871\n",
            "Epoch 10/50\n",
            "847/847 [==============================] - 1s 1ms/sample - loss: 0.8347 - acc: 0.6919\n",
            "16/16 [==============================] - 24s 2s/step - loss: 0.7448 - acc: 0.7060 - val_loss: 0.8273 - val_acc: 0.6919\n",
            "Epoch 11/50\n",
            "847/847 [==============================] - 1s 1ms/sample - loss: 0.8356 - acc: 0.6895\n",
            "16/16 [==============================] - 24s 2s/step - loss: 0.7477 - acc: 0.7055 - val_loss: 0.8281 - val_acc: 0.6895\n",
            "Epoch 12/50\n",
            "847/847 [==============================] - 1s 1ms/sample - loss: 0.8353 - acc: 0.6895\n",
            "\n",
            "Epoch 00012: val_loss improved from 0.82809 to 0.82783, saving model to ./weights/weights.custom_cnn-12-0.74-0.83.hdf5\n",
            "16/16 [==============================] - 25s 2s/step - loss: 0.7366 - acc: 0.7171 - val_loss: 0.8278 - val_acc: 0.6895\n",
            "Epoch 13/50\n",
            "847/847 [==============================] - 1s 1ms/sample - loss: 0.8350 - acc: 0.6895\n",
            "\n",
            "Epoch 00013: ReduceLROnPlateau reducing learning rate to 1.0000000656873453e-06.\n",
            "16/16 [==============================] - 24s 2s/step - loss: 0.7381 - acc: 0.7100 - val_loss: 0.8275 - val_acc: 0.6895\n",
            "Epoch 14/50\n",
            "847/847 [==============================] - 1s 1ms/sample - loss: 0.8350 - acc: 0.6907\n",
            "16/16 [==============================] - 24s 2s/step - loss: 0.7414 - acc: 0.7100 - val_loss: 0.8275 - val_acc: 0.6907\n",
            "Epoch 15/50\n",
            "847/847 [==============================] - 1s 1ms/sample - loss: 0.8351 - acc: 0.6907\n",
            "\n",
            "Epoch 00015: val_loss improved from 0.82783 to 0.82763, saving model to ./weights/weights.custom_cnn-15-0.73-0.83.hdf5\n",
            "16/16 [==============================] - 24s 2s/step - loss: 0.7263 - acc: 0.7227 - val_loss: 0.8276 - val_acc: 0.6907\n",
            "Epoch 16/50\n",
            "847/847 [==============================] - 1s 2ms/sample - loss: 0.8348 - acc: 0.6907\n",
            "\n",
            "Epoch 00016: ReduceLROnPlateau reducing learning rate to 1.0000001111620805e-07.\n",
            "16/16 [==============================] - 24s 2s/step - loss: 0.7414 - acc: 0.7075 - val_loss: 0.8273 - val_acc: 0.6907\n",
            "Epoch 17/50\n",
            "847/847 [==============================] - 1s 1ms/sample - loss: 0.8348 - acc: 0.6907\n",
            "16/16 [==============================] - 24s 1s/step - loss: 0.7268 - acc: 0.7257 - val_loss: 0.8273 - val_acc: 0.6907\n",
            "Epoch 18/50\n",
            "847/847 [==============================] - 1s 1ms/sample - loss: 0.8347 - acc: 0.6907\n",
            "\n",
            "Epoch 00018: val_loss improved from 0.82763 to 0.82730, saving model to ./weights/weights.custom_cnn-18-0.74-0.83.hdf5\n",
            "16/16 [==============================] - 24s 2s/step - loss: 0.7323 - acc: 0.7115 - val_loss: 0.8273 - val_acc: 0.6907\n",
            "Epoch 19/50\n",
            "847/847 [==============================] - 1s 1ms/sample - loss: 0.8347 - acc: 0.6907\n",
            "\n",
            "Epoch 00019: ReduceLROnPlateau reducing learning rate to 1.000000082740371e-08.\n",
            "16/16 [==============================] - 24s 1s/step - loss: 0.7404 - acc: 0.7095 - val_loss: 0.8273 - val_acc: 0.6907\n",
            "Epoch 20/50\n",
            "847/847 [==============================] - 1s 2ms/sample - loss: 0.8347 - acc: 0.6907\n",
            "16/16 [==============================] - 24s 1s/step - loss: 0.7303 - acc: 0.7120 - val_loss: 0.8273 - val_acc: 0.6907\n",
            "Epoch 21/50\n",
            "847/847 [==============================] - 1s 1ms/sample - loss: 0.8347 - acc: 0.6907\n",
            "\n",
            "Epoch 00021: val_loss did not improve from 0.82730\n",
            "16/16 [==============================] - 24s 1s/step - loss: 0.7481 - acc: 0.7105 - val_loss: 0.8273 - val_acc: 0.6907\n",
            "Epoch 22/50\n",
            "847/847 [==============================] - 1s 1ms/sample - loss: 0.8347 - acc: 0.6907\n",
            "\n",
            "Epoch 00022: ReduceLROnPlateau reducing learning rate to 1.000000082740371e-09.\n",
            "16/16 [==============================] - 24s 2s/step - loss: 0.7456 - acc: 0.7085 - val_loss: 0.8273 - val_acc: 0.6907\n",
            "Epoch 23/50\n",
            "847/847 [==============================] - 1s 1ms/sample - loss: 0.8347 - acc: 0.6907\n",
            "16/16 [==============================] - 24s 2s/step - loss: 0.7294 - acc: 0.7105 - val_loss: 0.8273 - val_acc: 0.6907\n",
            "Epoch 24/50\n",
            "847/847 [==============================] - 1s 1ms/sample - loss: 0.8347 - acc: 0.6907\n",
            "\n",
            "Epoch 00024: val_loss did not improve from 0.82730\n",
            "16/16 [==============================] - 24s 2s/step - loss: 0.7313 - acc: 0.7141 - val_loss: 0.8273 - val_acc: 0.6907\n",
            "Epoch 25/50\n",
            "847/847 [==============================] - 1s 1ms/sample - loss: 0.8347 - acc: 0.6907\n",
            "\n",
            "Epoch 00025: ReduceLROnPlateau reducing learning rate to 1.000000082740371e-10.\n",
            "16/16 [==============================] - 24s 2s/step - loss: 0.7337 - acc: 0.7070 - val_loss: 0.8273 - val_acc: 0.6907\n",
            "Epoch 26/50\n",
            "847/847 [==============================] - 1s 2ms/sample - loss: 0.8347 - acc: 0.6907\n",
            "16/16 [==============================] - 24s 2s/step - loss: 0.7384 - acc: 0.7024 - val_loss: 0.8273 - val_acc: 0.6907\n",
            "Epoch 27/50\n",
            "847/847 [==============================] - 1s 2ms/sample - loss: 0.8347 - acc: 0.6907\n",
            "\n",
            "Epoch 00027: val_loss did not improve from 0.82730\n",
            "16/16 [==============================] - 24s 2s/step - loss: 0.7448 - acc: 0.7080 - val_loss: 0.8273 - val_acc: 0.6907\n",
            "Epoch 28/50\n",
            "847/847 [==============================] - 1s 2ms/sample - loss: 0.8347 - acc: 0.6907\n",
            "\n",
            "Epoch 00028: ReduceLROnPlateau reducing learning rate to 1.000000082740371e-11.\n",
            "16/16 [==============================] - 24s 2s/step - loss: 0.7293 - acc: 0.7212 - val_loss: 0.8273 - val_acc: 0.6907\n",
            "Epoch 29/50\n",
            "847/847 [==============================] - 1s 1ms/sample - loss: 0.8347 - acc: 0.6907\n",
            "16/16 [==============================] - 24s 2s/step - loss: 0.7466 - acc: 0.7055 - val_loss: 0.8273 - val_acc: 0.6907\n",
            "Epoch 30/50\n",
            "847/847 [==============================] - 1s 1ms/sample - loss: 0.8347 - acc: 0.6907\n",
            "\n",
            "Epoch 00030: val_loss did not improve from 0.82730\n",
            "16/16 [==============================] - 24s 2s/step - loss: 0.7307 - acc: 0.7186 - val_loss: 0.8273 - val_acc: 0.6907\n",
            "Epoch 31/50\n",
            "847/847 [==============================] - 1s 2ms/sample - loss: 0.8347 - acc: 0.6907\n",
            "\n",
            "Epoch 00031: ReduceLROnPlateau reducing learning rate to 1.000000082740371e-12.\n",
            "16/16 [==============================] - 24s 2s/step - loss: 0.7361 - acc: 0.7110 - val_loss: 0.8273 - val_acc: 0.6907\n",
            "Epoch 32/50\n",
            "847/847 [==============================] - 1s 2ms/sample - loss: 0.8347 - acc: 0.6907\n",
            "16/16 [==============================] - 24s 2s/step - loss: 0.7486 - acc: 0.7055 - val_loss: 0.8273 - val_acc: 0.6907\n",
            "Epoch 33/50\n",
            "847/847 [==============================] - 1s 1ms/sample - loss: 0.8347 - acc: 0.6907\n",
            "\n",
            "Epoch 00033: val_loss did not improve from 0.82730\n",
            "16/16 [==============================] - 24s 2s/step - loss: 0.7381 - acc: 0.7045 - val_loss: 0.8273 - val_acc: 0.6907\n",
            "Epoch 34/50\n",
            "847/847 [==============================] - 1s 1ms/sample - loss: 0.8347 - acc: 0.6907\n",
            "\n",
            "Epoch 00034: ReduceLROnPlateau reducing learning rate to 1.0000001044244145e-13.\n",
            "16/16 [==============================] - 24s 2s/step - loss: 0.7437 - acc: 0.7161 - val_loss: 0.8273 - val_acc: 0.6907\n",
            "Epoch 35/50\n",
            "847/847 [==============================] - 1s 2ms/sample - loss: 0.8347 - acc: 0.6907\n",
            "16/16 [==============================] - 24s 2s/step - loss: 0.7413 - acc: 0.7115 - val_loss: 0.8273 - val_acc: 0.6907\n",
            "Epoch 36/50\n",
            "847/847 [==============================] - 1s 1ms/sample - loss: 0.8347 - acc: 0.6907\n",
            "\n",
            "Epoch 00036: val_loss did not improve from 0.82730\n",
            "16/16 [==============================] - 24s 1s/step - loss: 0.7376 - acc: 0.7171 - val_loss: 0.8273 - val_acc: 0.6907\n",
            "Epoch 37/50\n",
            " 6/16 [==========>...................] - ETA: 14s - loss: 0.7637 - acc: 0.7031"
          ],
          "name": "stdout"
        },
        {
          "output_type": "error",
          "ename": "KeyboardInterrupt",
          "evalue": "ignored",
          "traceback": [
            "\u001b[0;31m---------------------------------------------------------------------------\u001b[0m",
            "\u001b[0;31mKeyboardInterrupt\u001b[0m                         Traceback (most recent call last)",
            "\u001b[0;32m<ipython-input-29-8409be1d72b8>\u001b[0m in \u001b[0;36m<module>\u001b[0;34m()\u001b[0m\n\u001b[1;32m      7\u001b[0m     \u001b[0mverbose\u001b[0m\u001b[0;34m=\u001b[0m\u001b[0;36m1\u001b[0m\u001b[0;34m,\u001b[0m\u001b[0;34m\u001b[0m\u001b[0;34m\u001b[0m\u001b[0m\n\u001b[1;32m      8\u001b[0m     \u001b[0msteps_per_epoch\u001b[0m\u001b[0;34m=\u001b[0m\u001b[0mx_train\u001b[0m\u001b[0;34m.\u001b[0m\u001b[0mshape\u001b[0m\u001b[0;34m[\u001b[0m\u001b[0;36m0\u001b[0m\u001b[0;34m]\u001b[0m \u001b[0;34m//\u001b[0m \u001b[0mbatch_size\u001b[0m\u001b[0;34m,\u001b[0m\u001b[0;34m\u001b[0m\u001b[0;34m\u001b[0m\u001b[0m\n\u001b[0;32m----> 9\u001b[0;31m     \u001b[0mcallbacks\u001b[0m\u001b[0;34m=\u001b[0m\u001b[0mget_callbacks\u001b[0m\u001b[0;34m(\u001b[0m\u001b[0;34m'custom_cnn'\u001b[0m\u001b[0;34m,\u001b[0m \u001b[0mes\u001b[0m\u001b[0;34m=\u001b[0m\u001b[0;32mFalse\u001b[0m\u001b[0;34m)\u001b[0m\u001b[0;34m\u001b[0m\u001b[0;34m\u001b[0m\u001b[0m\n\u001b[0m\u001b[1;32m     10\u001b[0m )\n",
            "\u001b[0;32m/usr/local/lib/python3.6/dist-packages/tensorflow/python/keras/engine/training.py\u001b[0m in \u001b[0;36mfit_generator\u001b[0;34m(self, generator, steps_per_epoch, epochs, verbose, callbacks, validation_data, validation_steps, class_weight, max_queue_size, workers, use_multiprocessing, shuffle, initial_epoch)\u001b[0m\n\u001b[1;32m   1424\u001b[0m         \u001b[0muse_multiprocessing\u001b[0m\u001b[0;34m=\u001b[0m\u001b[0muse_multiprocessing\u001b[0m\u001b[0;34m,\u001b[0m\u001b[0;34m\u001b[0m\u001b[0;34m\u001b[0m\u001b[0m\n\u001b[1;32m   1425\u001b[0m         \u001b[0mshuffle\u001b[0m\u001b[0;34m=\u001b[0m\u001b[0mshuffle\u001b[0m\u001b[0;34m,\u001b[0m\u001b[0;34m\u001b[0m\u001b[0;34m\u001b[0m\u001b[0m\n\u001b[0;32m-> 1426\u001b[0;31m         initial_epoch=initial_epoch)\n\u001b[0m\u001b[1;32m   1427\u001b[0m \u001b[0;34m\u001b[0m\u001b[0m\n\u001b[1;32m   1428\u001b[0m   def evaluate_generator(self,\n",
            "\u001b[0;32m/usr/local/lib/python3.6/dist-packages/tensorflow/python/keras/engine/training_generator.py\u001b[0m in \u001b[0;36mmodel_iteration\u001b[0;34m(model, data, steps_per_epoch, epochs, verbose, callbacks, validation_data, validation_steps, class_weight, max_queue_size, workers, use_multiprocessing, shuffle, initial_epoch, mode, batch_size, **kwargs)\u001b[0m\n\u001b[1;32m    175\u001b[0m \u001b[0;34m\u001b[0m\u001b[0m\n\u001b[1;32m    176\u001b[0m     \u001b[0;32mfor\u001b[0m \u001b[0mstep\u001b[0m \u001b[0;32min\u001b[0m \u001b[0mrange\u001b[0m\u001b[0;34m(\u001b[0m\u001b[0msteps_per_epoch\u001b[0m\u001b[0;34m)\u001b[0m\u001b[0;34m:\u001b[0m\u001b[0;34m\u001b[0m\u001b[0;34m\u001b[0m\u001b[0m\n\u001b[0;32m--> 177\u001b[0;31m       \u001b[0mbatch_data\u001b[0m \u001b[0;34m=\u001b[0m \u001b[0m_get_next_batch\u001b[0m\u001b[0;34m(\u001b[0m\u001b[0moutput_generator\u001b[0m\u001b[0;34m,\u001b[0m \u001b[0mmode\u001b[0m\u001b[0;34m)\u001b[0m\u001b[0;34m\u001b[0m\u001b[0;34m\u001b[0m\u001b[0m\n\u001b[0m\u001b[1;32m    178\u001b[0m       \u001b[0;32mif\u001b[0m \u001b[0mbatch_data\u001b[0m \u001b[0;32mis\u001b[0m \u001b[0;32mNone\u001b[0m\u001b[0;34m:\u001b[0m\u001b[0;34m\u001b[0m\u001b[0;34m\u001b[0m\u001b[0m\n\u001b[1;32m    179\u001b[0m         \u001b[0mcallbacks\u001b[0m\u001b[0;34m.\u001b[0m\u001b[0mmodel\u001b[0m\u001b[0;34m.\u001b[0m\u001b[0mstop_training\u001b[0m \u001b[0;34m=\u001b[0m \u001b[0;32mTrue\u001b[0m\u001b[0;34m\u001b[0m\u001b[0;34m\u001b[0m\u001b[0m\n",
            "\u001b[0;32m/usr/local/lib/python3.6/dist-packages/tensorflow/python/keras/engine/training_generator.py\u001b[0m in \u001b[0;36m_get_next_batch\u001b[0;34m(output_generator, mode)\u001b[0m\n\u001b[1;32m    256\u001b[0m   \u001b[0;34m\"\"\"Retrieves the next batch of input data.\"\"\"\u001b[0m\u001b[0;34m\u001b[0m\u001b[0;34m\u001b[0m\u001b[0m\n\u001b[1;32m    257\u001b[0m   \u001b[0;32mtry\u001b[0m\u001b[0;34m:\u001b[0m\u001b[0;34m\u001b[0m\u001b[0;34m\u001b[0m\u001b[0m\n\u001b[0;32m--> 258\u001b[0;31m     \u001b[0mgenerator_output\u001b[0m \u001b[0;34m=\u001b[0m \u001b[0mnext\u001b[0m\u001b[0;34m(\u001b[0m\u001b[0moutput_generator\u001b[0m\u001b[0;34m)\u001b[0m\u001b[0;34m\u001b[0m\u001b[0;34m\u001b[0m\u001b[0m\n\u001b[0m\u001b[1;32m    259\u001b[0m   \u001b[0;32mexcept\u001b[0m \u001b[0;34m(\u001b[0m\u001b[0merrors\u001b[0m\u001b[0;34m.\u001b[0m\u001b[0mOutOfRangeError\u001b[0m\u001b[0;34m,\u001b[0m \u001b[0mStopIteration\u001b[0m\u001b[0;34m)\u001b[0m\u001b[0;34m:\u001b[0m\u001b[0;34m\u001b[0m\u001b[0;34m\u001b[0m\u001b[0m\n\u001b[1;32m    260\u001b[0m     \u001b[0;31m# Returning `None` will trigger looping to stop.\u001b[0m\u001b[0;34m\u001b[0m\u001b[0;34m\u001b[0m\u001b[0;34m\u001b[0m\u001b[0m\n",
            "\u001b[0;32m/usr/local/lib/python3.6/dist-packages/tensorflow/python/keras/utils/data_utils.py\u001b[0m in \u001b[0;36mget\u001b[0;34m(self)\u001b[0m\n\u001b[1;32m    647\u001b[0m     \u001b[0;32mtry\u001b[0m\u001b[0;34m:\u001b[0m\u001b[0;34m\u001b[0m\u001b[0;34m\u001b[0m\u001b[0m\n\u001b[1;32m    648\u001b[0m       \u001b[0;32mwhile\u001b[0m \u001b[0mself\u001b[0m\u001b[0;34m.\u001b[0m\u001b[0mis_running\u001b[0m\u001b[0;34m(\u001b[0m\u001b[0;34m)\u001b[0m\u001b[0;34m:\u001b[0m\u001b[0;34m\u001b[0m\u001b[0;34m\u001b[0m\u001b[0m\n\u001b[0;32m--> 649\u001b[0;31m         \u001b[0minputs\u001b[0m \u001b[0;34m=\u001b[0m \u001b[0mself\u001b[0m\u001b[0;34m.\u001b[0m\u001b[0mqueue\u001b[0m\u001b[0;34m.\u001b[0m\u001b[0mget\u001b[0m\u001b[0;34m(\u001b[0m\u001b[0mblock\u001b[0m\u001b[0;34m=\u001b[0m\u001b[0;32mTrue\u001b[0m\u001b[0;34m)\u001b[0m\u001b[0;34m.\u001b[0m\u001b[0mget\u001b[0m\u001b[0;34m(\u001b[0m\u001b[0;34m)\u001b[0m\u001b[0;34m\u001b[0m\u001b[0;34m\u001b[0m\u001b[0m\n\u001b[0m\u001b[1;32m    650\u001b[0m         \u001b[0mself\u001b[0m\u001b[0;34m.\u001b[0m\u001b[0mqueue\u001b[0m\u001b[0;34m.\u001b[0m\u001b[0mtask_done\u001b[0m\u001b[0;34m(\u001b[0m\u001b[0;34m)\u001b[0m\u001b[0;34m\u001b[0m\u001b[0;34m\u001b[0m\u001b[0m\n\u001b[1;32m    651\u001b[0m         \u001b[0;32mif\u001b[0m \u001b[0minputs\u001b[0m \u001b[0;32mis\u001b[0m \u001b[0;32mnot\u001b[0m \u001b[0;32mNone\u001b[0m\u001b[0;34m:\u001b[0m\u001b[0;34m\u001b[0m\u001b[0;34m\u001b[0m\u001b[0m\n",
            "\u001b[0;32m/usr/lib/python3.6/multiprocessing/pool.py\u001b[0m in \u001b[0;36mget\u001b[0;34m(self, timeout)\u001b[0m\n\u001b[1;32m    662\u001b[0m \u001b[0;34m\u001b[0m\u001b[0m\n\u001b[1;32m    663\u001b[0m     \u001b[0;32mdef\u001b[0m \u001b[0mget\u001b[0m\u001b[0;34m(\u001b[0m\u001b[0mself\u001b[0m\u001b[0;34m,\u001b[0m \u001b[0mtimeout\u001b[0m\u001b[0;34m=\u001b[0m\u001b[0;32mNone\u001b[0m\u001b[0;34m)\u001b[0m\u001b[0;34m:\u001b[0m\u001b[0;34m\u001b[0m\u001b[0;34m\u001b[0m\u001b[0m\n\u001b[0;32m--> 664\u001b[0;31m         \u001b[0mself\u001b[0m\u001b[0;34m.\u001b[0m\u001b[0mwait\u001b[0m\u001b[0;34m(\u001b[0m\u001b[0mtimeout\u001b[0m\u001b[0;34m)\u001b[0m\u001b[0;34m\u001b[0m\u001b[0;34m\u001b[0m\u001b[0m\n\u001b[0m\u001b[1;32m    665\u001b[0m         \u001b[0;32mif\u001b[0m \u001b[0;32mnot\u001b[0m \u001b[0mself\u001b[0m\u001b[0;34m.\u001b[0m\u001b[0mready\u001b[0m\u001b[0;34m(\u001b[0m\u001b[0;34m)\u001b[0m\u001b[0;34m:\u001b[0m\u001b[0;34m\u001b[0m\u001b[0;34m\u001b[0m\u001b[0m\n\u001b[1;32m    666\u001b[0m             \u001b[0;32mraise\u001b[0m \u001b[0mTimeoutError\u001b[0m\u001b[0;34m\u001b[0m\u001b[0;34m\u001b[0m\u001b[0m\n",
            "\u001b[0;32m/usr/lib/python3.6/multiprocessing/pool.py\u001b[0m in \u001b[0;36mwait\u001b[0;34m(self, timeout)\u001b[0m\n\u001b[1;32m    659\u001b[0m \u001b[0;34m\u001b[0m\u001b[0m\n\u001b[1;32m    660\u001b[0m     \u001b[0;32mdef\u001b[0m \u001b[0mwait\u001b[0m\u001b[0;34m(\u001b[0m\u001b[0mself\u001b[0m\u001b[0;34m,\u001b[0m \u001b[0mtimeout\u001b[0m\u001b[0;34m=\u001b[0m\u001b[0;32mNone\u001b[0m\u001b[0;34m)\u001b[0m\u001b[0;34m:\u001b[0m\u001b[0;34m\u001b[0m\u001b[0;34m\u001b[0m\u001b[0m\n\u001b[0;32m--> 661\u001b[0;31m         \u001b[0mself\u001b[0m\u001b[0;34m.\u001b[0m\u001b[0m_event\u001b[0m\u001b[0;34m.\u001b[0m\u001b[0mwait\u001b[0m\u001b[0;34m(\u001b[0m\u001b[0mtimeout\u001b[0m\u001b[0;34m)\u001b[0m\u001b[0;34m\u001b[0m\u001b[0;34m\u001b[0m\u001b[0m\n\u001b[0m\u001b[1;32m    662\u001b[0m \u001b[0;34m\u001b[0m\u001b[0m\n\u001b[1;32m    663\u001b[0m     \u001b[0;32mdef\u001b[0m \u001b[0mget\u001b[0m\u001b[0;34m(\u001b[0m\u001b[0mself\u001b[0m\u001b[0;34m,\u001b[0m \u001b[0mtimeout\u001b[0m\u001b[0;34m=\u001b[0m\u001b[0;32mNone\u001b[0m\u001b[0;34m)\u001b[0m\u001b[0;34m:\u001b[0m\u001b[0;34m\u001b[0m\u001b[0;34m\u001b[0m\u001b[0m\n",
            "\u001b[0;32m/usr/lib/python3.6/threading.py\u001b[0m in \u001b[0;36mwait\u001b[0;34m(self, timeout)\u001b[0m\n\u001b[1;32m    549\u001b[0m             \u001b[0msignaled\u001b[0m \u001b[0;34m=\u001b[0m \u001b[0mself\u001b[0m\u001b[0;34m.\u001b[0m\u001b[0m_flag\u001b[0m\u001b[0;34m\u001b[0m\u001b[0;34m\u001b[0m\u001b[0m\n\u001b[1;32m    550\u001b[0m             \u001b[0;32mif\u001b[0m \u001b[0;32mnot\u001b[0m \u001b[0msignaled\u001b[0m\u001b[0;34m:\u001b[0m\u001b[0;34m\u001b[0m\u001b[0;34m\u001b[0m\u001b[0m\n\u001b[0;32m--> 551\u001b[0;31m                 \u001b[0msignaled\u001b[0m \u001b[0;34m=\u001b[0m \u001b[0mself\u001b[0m\u001b[0;34m.\u001b[0m\u001b[0m_cond\u001b[0m\u001b[0;34m.\u001b[0m\u001b[0mwait\u001b[0m\u001b[0;34m(\u001b[0m\u001b[0mtimeout\u001b[0m\u001b[0;34m)\u001b[0m\u001b[0;34m\u001b[0m\u001b[0;34m\u001b[0m\u001b[0m\n\u001b[0m\u001b[1;32m    552\u001b[0m             \u001b[0;32mreturn\u001b[0m \u001b[0msignaled\u001b[0m\u001b[0;34m\u001b[0m\u001b[0;34m\u001b[0m\u001b[0m\n\u001b[1;32m    553\u001b[0m \u001b[0;34m\u001b[0m\u001b[0m\n",
            "\u001b[0;32m/usr/lib/python3.6/threading.py\u001b[0m in \u001b[0;36mwait\u001b[0;34m(self, timeout)\u001b[0m\n\u001b[1;32m    293\u001b[0m         \u001b[0;32mtry\u001b[0m\u001b[0;34m:\u001b[0m    \u001b[0;31m# restore state no matter what (e.g., KeyboardInterrupt)\u001b[0m\u001b[0;34m\u001b[0m\u001b[0;34m\u001b[0m\u001b[0m\n\u001b[1;32m    294\u001b[0m             \u001b[0;32mif\u001b[0m \u001b[0mtimeout\u001b[0m \u001b[0;32mis\u001b[0m \u001b[0;32mNone\u001b[0m\u001b[0;34m:\u001b[0m\u001b[0;34m\u001b[0m\u001b[0;34m\u001b[0m\u001b[0m\n\u001b[0;32m--> 295\u001b[0;31m                 \u001b[0mwaiter\u001b[0m\u001b[0;34m.\u001b[0m\u001b[0macquire\u001b[0m\u001b[0;34m(\u001b[0m\u001b[0;34m)\u001b[0m\u001b[0;34m\u001b[0m\u001b[0;34m\u001b[0m\u001b[0m\n\u001b[0m\u001b[1;32m    296\u001b[0m                 \u001b[0mgotit\u001b[0m \u001b[0;34m=\u001b[0m \u001b[0;32mTrue\u001b[0m\u001b[0;34m\u001b[0m\u001b[0;34m\u001b[0m\u001b[0m\n\u001b[1;32m    297\u001b[0m             \u001b[0;32melse\u001b[0m\u001b[0;34m:\u001b[0m\u001b[0;34m\u001b[0m\u001b[0;34m\u001b[0m\u001b[0m\n",
            "\u001b[0;31mKeyboardInterrupt\u001b[0m: "
          ]
        }
      ]
    },
    {
      "metadata": {
        "id": "HBiMyY-WINmJ",
        "colab_type": "code",
        "outputId": "ea7e66bc-6c56-4807-f4fd-05898d23674e",
        "colab": {
          "base_uri": "https://localhost:8080/",
          "height": 297
        }
      },
      "cell_type": "code",
      "source": [
        "plot_train_history(history)"
      ],
      "execution_count": 26,
      "outputs": [
        {
          "output_type": "display_data",
          "data": {
            "image/png": "[encoded data removed]",
            "text/plain": [
              "<Figure size 720x288 with 2 Axes>"
            ]
          },
          "metadata": {
            "tags": []
          }
        }
      ]
    },
    {
      "metadata": {
        "id": "RP-D_0jDlByC",
        "colab_type": "code",
        "outputId": "d8d4b90b-b819-49f4-8693-8a326e84aa3c",
        "colab": {
          "base_uri": "https://localhost:8080/",
          "height": 51
        }
      },
      "cell_type": "code",
      "source": [
        "custom_cnn.evaluate(x_test, y_test)"
      ],
      "execution_count": 26,
      "outputs": [
        {
          "output_type": "stream",
          "text": [
            "1694/1694 [==============================] - 3s 2ms/sample - loss: 1.0719 - acc: 0.5962\n"
          ],
          "name": "stdout"
        },
        {
          "output_type": "execute_result",
          "data": {
            "text/plain": [
              "[1.0719019966958687, 0.596222]"
            ]
          },
          "metadata": {
            "tags": []
          },
          "execution_count": 26
        }
      ]
    },
    {
      "metadata": {
        "id": "YATtTFvMdLmr",
        "colab_type": "text"
      },
      "cell_type": "markdown",
      "source": [
        "### 使用 MobileNet"
      ]
    },
    {
      "metadata": {
        "id": "6rnrgTTKlqhf",
        "colab_type": "code",
        "colab": {
          "base_uri": "https://localhost:8080/",
          "height": 51
        },
        "outputId": "9cce6cc4-5ff0-420e-c9e7-dd02d6675792"
      },
      "cell_type": "code",
      "source": [
        "images, labels = load_data()\n",
        "(x_train, y_train), (x_test, y_test), datagen = preprocess(images, labels, image_size=(224, 224))\n",
        "\n",
        "print((x_train.shape), (y_train.shape))\n",
        "print((x_test.shape), (y_test.shape))"
      ],
      "execution_count": 14,
      "outputs": [
        {
          "output_type": "stream",
          "text": [
            "(1976, 224, 224, 3) (1976, 5)\n",
            "(847, 224, 224, 3) (847, 5)\n"
          ],
          "name": "stdout"
        }
      ]
    },
    {
      "metadata": {
        "id": "zekNnXKklJbp",
        "colab_type": "code",
        "colab": {}
      },
      "cell_type": "code",
      "source": [
        "from tensorflow.keras.applications.mobilenet_v2 import MobileNetV2\n",
        "\n",
        "def build_mobilenet():\n",
        "    input = layers.Input(x_train.shape[1:])\n",
        "    base_model = MobileNetV2(input_tensor=input, weights='imagenet', include_top=True)\n",
        "    \n",
        "    model = tf.keras.Sequential([\n",
        "        base_model,\n",
        "        layers.Dense(num_classes, activation='softmax')\n",
        "    ])\n",
        "    \n",
        "    for layer in model.layers[:249]:\n",
        "        layer.trainable = True\n",
        "    \n",
        "    return model"
      ],
      "execution_count": 0,
      "outputs": []
    },
    {
      "metadata": {
        "id": "nHG4vjnwmRAo",
        "colab_type": "code",
        "outputId": "c2d449cc-fd61-4afe-d023-fe5d277a9dd8",
        "colab": {
          "base_uri": "https://localhost:8080/",
          "height": 275
        }
      },
      "cell_type": "code",
      "source": [
        "build_mobilenet().summary()"
      ],
      "execution_count": 16,
      "outputs": [
        {
          "output_type": "stream",
          "text": [
            "WARNING:tensorflow:From /usr/local/lib/python3.6/dist-packages/tensorflow/python/ops/resource_variable_ops.py:435: colocate_with (from tensorflow.python.framework.ops) is deprecated and will be removed in a future version.\n",
            "Instructions for updating:\n",
            "Colocations handled automatically by placer.\n",
            "_________________________________________________________________\n",
            "Layer (type)                 Output Shape              Param #   \n",
            "=================================================================\n",
            "mobilenetv2_1.00_224 (Model) (None, 1000)              3538984   \n",
            "_________________________________________________________________\n",
            "dense (Dense)                (None, 5)                 5005      \n",
            "=================================================================\n",
            "Total params: 3,543,989\n",
            "Trainable params: 3,509,877\n",
            "Non-trainable params: 34,112\n",
            "_________________________________________________________________\n"
          ],
          "name": "stdout"
        }
      ]
    },
    {
      "metadata": {
        "id": "9XeLmma3mCLm",
        "colab_type": "code",
        "colab": {}
      },
      "cell_type": "code",
      "source": [
        "mobilenet = build_mobilenet()\n",
        "optimizer = tf.keras.optimizers.Adam(lr=1e-3)\n",
        "mobilenet.compile(loss='categorical_crossentropy', metrics=['accuracy'], optimizer=optimizer)"
      ],
      "execution_count": 0,
      "outputs": []
    },
    {
      "metadata": {
        "id": "jz0DXOv5mJbx",
        "colab_type": "code",
        "outputId": "bd6327a2-83b4-4cde-9c22-4497ad7d0f5d",
        "colab": {
          "base_uri": "https://localhost:8080/",
          "height": 3250
        }
      },
      "cell_type": "code",
      "source": [
        "batch_size = 64\n",
        "\n",
        "history = mobilenet.fit(\n",
        "    datagen.flow(x_train, y_train, batch_size=batch_size),\n",
        "    epochs=50,\n",
        "    validation_data=(x_test, y_test),\n",
        "    verbose=1,\n",
        "    steps_per_epoch=x_train.shape[0] // batch_size,\n",
        "    callbacks=get_callbacks('mobilenet')\n",
        ")"
      ],
      "execution_count": 18,
      "outputs": [
        {
          "output_type": "stream",
          "text": [
            "WARNING:tensorflow:From /usr/local/lib/python3.6/dist-packages/tensorflow/python/ops/math_ops.py:3066: to_int32 (from tensorflow.python.ops.math_ops) is deprecated and will be removed in a future version.\n",
            "Instructions for updating:\n",
            "Use tf.cast instead.\n",
            "Epoch 1/50\n",
            "847/847 [==============================] - 4s 5ms/sample - loss: 1.5880 - acc: 0.3176\n",
            "31/31 [==============================] - 42s 1s/step - loss: 1.5532 - acc: 0.6058 - val_loss: 1.5860 - val_acc: 0.3176\n",
            "Epoch 2/50\n",
            "847/847 [==============================] - 2s 3ms/sample - loss: 1.5618 - acc: 0.3530\n",
            "31/31 [==============================] - 30s 982ms/step - loss: 1.5105 - acc: 0.6579 - val_loss: 1.5597 - val_acc: 0.3530\n",
            "Epoch 3/50\n",
            "847/847 [==============================] - 3s 3ms/sample - loss: 1.5625 - acc: 0.3070\n",
            "\n",
            "Epoch 00003: val_loss improved from inf to 1.55940, saving model to ./weights/weights.mobilenet-03-1.48-1.56.hdf5\n",
            "31/31 [==============================] - 37s 1s/step - loss: 1.4805 - acc: 0.6058 - val_loss: 1.5594 - val_acc: 0.3070\n",
            "Epoch 4/50\n",
            "847/847 [==============================] - 2s 3ms/sample - loss: 1.6013 - acc: 0.2586\n",
            "31/31 [==============================] - 30s 955ms/step - loss: 1.4585 - acc: 0.5673 - val_loss: 1.5973 - val_acc: 0.2586\n",
            "Epoch 5/50\n",
            "847/847 [==============================] - 2s 3ms/sample - loss: 1.5416 - acc: 0.3447\n",
            "\n",
            "Epoch 00005: ReduceLROnPlateau reducing learning rate to 0.00010000000474974513.\n",
            "31/31 [==============================] - 34s 1s/step - loss: 1.4180 - acc: 0.7014 - val_loss: 1.5387 - val_acc: 0.3447\n",
            "Epoch 6/50\n",
            "847/847 [==============================] - 2s 3ms/sample - loss: 1.5155 - acc: 0.4569\n",
            "\n",
            "Epoch 00006: val_loss improved from 1.55940 to 1.51246, saving model to ./weights/weights.mobilenet-06-1.39-1.51.hdf5\n",
            "31/31 [==============================] - 31s 1s/step - loss: 1.3891 - acc: 0.7642 - val_loss: 1.5125 - val_acc: 0.4569\n",
            "Epoch 7/50\n",
            "847/847 [==============================] - 3s 3ms/sample - loss: 1.5029 - acc: 0.4911\n",
            "31/31 [==============================] - 32s 1s/step - loss: 1.3747 - acc: 0.7814 - val_loss: 1.5002 - val_acc: 0.4911\n",
            "Epoch 8/50\n",
            "847/847 [==============================] - 2s 3ms/sample - loss: 1.5242 - acc: 0.4475\n",
            "31/31 [==============================] - 32s 1s/step - loss: 1.3651 - acc: 0.7961 - val_loss: 1.5205 - val_acc: 0.4475\n",
            "Epoch 9/50\n",
            "847/847 [==============================] - 3s 3ms/sample - loss: 1.5332 - acc: 0.4333\n",
            "\n",
            "Epoch 00009: val_loss did not improve from 1.51246\n",
            "31/31 [==============================] - 32s 1s/step - loss: 1.3555 - acc: 0.8158 - val_loss: 1.5296 - val_acc: 0.4333\n",
            "Epoch 10/50\n",
            "847/847 [==============================] - 2s 3ms/sample - loss: 1.5010 - acc: 0.4876\n",
            "\n",
            "Epoch 00010: ReduceLROnPlateau reducing learning rate to 1.0000000474974514e-05.\n",
            "31/31 [==============================] - 32s 1s/step - loss: 1.3489 - acc: 0.8244 - val_loss: 1.4962 - val_acc: 0.4876\n",
            "Epoch 11/50\n",
            "847/847 [==============================] - 2s 3ms/sample - loss: 1.4940 - acc: 0.5041\n",
            "31/31 [==============================] - 32s 1s/step - loss: 1.3464 - acc: 0.8229 - val_loss: 1.4891 - val_acc: 0.5041\n",
            "Epoch 12/50\n",
            "847/847 [==============================] - 2s 3ms/sample - loss: 1.4867 - acc: 0.5171\n",
            "\n",
            "Epoch 00012: val_loss improved from 1.51246 to 1.48220, saving model to ./weights/weights.mobilenet-12-1.35-1.48.hdf5\n",
            "31/31 [==============================] - 32s 1s/step - loss: 1.3494 - acc: 0.8188 - val_loss: 1.4822 - val_acc: 0.5171\n",
            "Epoch 13/50\n",
            "847/847 [==============================] - 2s 3ms/sample - loss: 1.4805 - acc: 0.5336\n",
            "31/31 [==============================] - 32s 1s/step - loss: 1.3431 - acc: 0.8345 - val_loss: 1.4761 - val_acc: 0.5336\n",
            "Epoch 14/50\n",
            "847/847 [==============================] - 3s 3ms/sample - loss: 1.4776 - acc: 0.5419\n",
            "31/31 [==============================] - 32s 1s/step - loss: 1.3414 - acc: 0.8386 - val_loss: 1.4734 - val_acc: 0.5419\n",
            "Epoch 15/50\n",
            "847/847 [==============================] - 2s 3ms/sample - loss: 1.4720 - acc: 0.5549\n",
            "\n",
            "Epoch 00015: val_loss improved from 1.48220 to 1.46823, saving model to ./weights/weights.mobilenet-15-1.34-1.47.hdf5\n",
            "31/31 [==============================] - 32s 1s/step - loss: 1.3422 - acc: 0.8295 - val_loss: 1.4682 - val_acc: 0.5549\n",
            "Epoch 16/50\n",
            "847/847 [==============================] - 3s 3ms/sample - loss: 1.4686 - acc: 0.5643\n",
            "31/31 [==============================] - 32s 1s/step - loss: 1.3433 - acc: 0.8264 - val_loss: 1.4650 - val_acc: 0.5643\n",
            "Epoch 17/50\n",
            "847/847 [==============================] - 2s 3ms/sample - loss: 1.4663 - acc: 0.5702\n",
            "31/31 [==============================] - 32s 1s/step - loss: 1.3392 - acc: 0.8345 - val_loss: 1.4628 - val_acc: 0.5702\n",
            "Epoch 18/50\n",
            "847/847 [==============================] - 2s 3ms/sample - loss: 1.4615 - acc: 0.5832\n",
            "\n",
            "Epoch 00018: val_loss improved from 1.46823 to 1.45825, saving model to ./weights/weights.mobilenet-18-1.34-1.46.hdf5\n",
            "31/31 [==============================] - 32s 1s/step - loss: 1.3405 - acc: 0.8315 - val_loss: 1.4582 - val_acc: 0.5832\n",
            "Epoch 19/50\n",
            "847/847 [==============================] - 2s 3ms/sample - loss: 1.4592 - acc: 0.5868\n",
            "31/31 [==============================] - 32s 1s/step - loss: 1.3418 - acc: 0.8300 - val_loss: 1.4547 - val_acc: 0.5868\n",
            "Epoch 20/50\n",
            "847/847 [==============================] - 2s 3ms/sample - loss: 1.4557 - acc: 0.5915\n",
            "31/31 [==============================] - 32s 1s/step - loss: 1.3415 - acc: 0.8300 - val_loss: 1.4512 - val_acc: 0.5915\n",
            "Epoch 21/50\n",
            "847/847 [==============================] - 2s 3ms/sample - loss: 1.4547 - acc: 0.5939\n",
            "\n",
            "Epoch 00021: val_loss improved from 1.45825 to 1.45024, saving model to ./weights/weights.mobilenet-21-1.33-1.45.hdf5\n",
            "31/31 [==============================] - 32s 1s/step - loss: 1.3346 - acc: 0.8482 - val_loss: 1.4502 - val_acc: 0.5939\n",
            "Epoch 22/50\n",
            "847/847 [==============================] - 2s 3ms/sample - loss: 1.4525 - acc: 0.5986\n",
            "31/31 [==============================] - 32s 1s/step - loss: 1.3379 - acc: 0.8335 - val_loss: 1.4482 - val_acc: 0.5986\n",
            "Epoch 23/50\n",
            "847/847 [==============================] - 2s 3ms/sample - loss: 1.4509 - acc: 0.6045\n",
            "31/31 [==============================] - 32s 1s/step - loss: 1.3380 - acc: 0.8401 - val_loss: 1.4467 - val_acc: 0.6045\n",
            "Epoch 24/50\n",
            "847/847 [==============================] - 2s 3ms/sample - loss: 1.4497 - acc: 0.6033\n",
            "\n",
            "Epoch 00024: val_loss improved from 1.45024 to 1.44585, saving model to ./weights/weights.mobilenet-24-1.33-1.45.hdf5\n",
            "31/31 [==============================] - 33s 1s/step - loss: 1.3348 - acc: 0.8411 - val_loss: 1.4459 - val_acc: 0.6033\n",
            "Epoch 25/50\n",
            "847/847 [==============================] - 3s 3ms/sample - loss: 1.4447 - acc: 0.6116\n",
            "31/31 [==============================] - 32s 1s/step - loss: 1.3354 - acc: 0.8391 - val_loss: 1.4414 - val_acc: 0.6116\n",
            "Epoch 26/50\n",
            "847/847 [==============================] - 2s 3ms/sample - loss: 1.4405 - acc: 0.6246\n",
            "31/31 [==============================] - 32s 1s/step - loss: 1.3308 - acc: 0.8532 - val_loss: 1.4374 - val_acc: 0.6246\n",
            "Epoch 27/50\n",
            "847/847 [==============================] - 2s 3ms/sample - loss: 1.4397 - acc: 0.6257\n",
            "\n",
            "Epoch 00027: val_loss improved from 1.44585 to 1.43677, saving model to ./weights/weights.mobilenet-27-1.33-1.44.hdf5\n",
            "31/31 [==============================] - 33s 1s/step - loss: 1.3335 - acc: 0.8467 - val_loss: 1.4368 - val_acc: 0.6257\n",
            "Epoch 28/50\n",
            "847/847 [==============================] - 2s 3ms/sample - loss: 1.4384 - acc: 0.6281\n",
            "31/31 [==============================] - 32s 1s/step - loss: 1.3341 - acc: 0.8411 - val_loss: 1.4355 - val_acc: 0.6281\n",
            "Epoch 29/50\n",
            "847/847 [==============================] - 2s 3ms/sample - loss: 1.4359 - acc: 0.6340\n",
            "31/31 [==============================] - 32s 1s/step - loss: 1.3373 - acc: 0.8340 - val_loss: 1.4331 - val_acc: 0.6340\n",
            "Epoch 30/50\n",
            "847/847 [==============================] - 2s 3ms/sample - loss: 1.4324 - acc: 0.6423\n",
            "\n",
            "Epoch 00030: val_loss improved from 1.43677 to 1.42976, saving model to ./weights/weights.mobilenet-30-1.33-1.43.hdf5\n",
            "31/31 [==============================] - 32s 1s/step - loss: 1.3321 - acc: 0.8462 - val_loss: 1.4298 - val_acc: 0.6423\n",
            "Epoch 31/50\n",
            "847/847 [==============================] - 2s 3ms/sample - loss: 1.4283 - acc: 0.6482\n",
            "31/31 [==============================] - 32s 1s/step - loss: 1.3268 - acc: 0.8543 - val_loss: 1.4259 - val_acc: 0.6482\n",
            "Epoch 32/50\n",
            "847/847 [==============================] - 2s 3ms/sample - loss: 1.4218 - acc: 0.6647\n",
            "31/31 [==============================] - 32s 1s/step - loss: 1.3277 - acc: 0.8563 - val_loss: 1.4198 - val_acc: 0.6647\n",
            "Epoch 33/50\n",
            "847/847 [==============================] - 3s 3ms/sample - loss: 1.4154 - acc: 0.6765\n",
            "\n",
            "Epoch 00033: val_loss improved from 1.42976 to 1.41364, saving model to ./weights/weights.mobilenet-33-1.33-1.41.hdf5\n",
            "31/31 [==============================] - 32s 1s/step - loss: 1.3313 - acc: 0.8431 - val_loss: 1.4136 - val_acc: 0.6765\n",
            "Epoch 34/50\n",
            "847/847 [==============================] - 2s 3ms/sample - loss: 1.4088 - acc: 0.6895\n",
            "31/31 [==============================] - 32s 1s/step - loss: 1.3321 - acc: 0.8446 - val_loss: 1.4074 - val_acc: 0.6895\n",
            "Epoch 35/50\n",
            "847/847 [==============================] - 2s 3ms/sample - loss: 1.4053 - acc: 0.6989\n",
            "31/31 [==============================] - 32s 1s/step - loss: 1.3280 - acc: 0.8502 - val_loss: 1.4040 - val_acc: 0.6989\n",
            "Epoch 36/50\n",
            "847/847 [==============================] - 2s 3ms/sample - loss: 1.4012 - acc: 0.7072\n",
            "\n",
            "Epoch 00036: val_loss improved from 1.41364 to 1.40014, saving model to ./weights/weights.mobilenet-36-1.33-1.40.hdf5\n",
            "31/31 [==============================] - 33s 1s/step - loss: 1.3270 - acc: 0.8522 - val_loss: 1.4001 - val_acc: 0.7072\n",
            "Epoch 37/50\n",
            "847/847 [==============================] - 2s 3ms/sample - loss: 1.3985 - acc: 0.7096\n",
            "31/31 [==============================] - 32s 1s/step - loss: 1.3290 - acc: 0.8482 - val_loss: 1.3976 - val_acc: 0.7096\n",
            "Epoch 38/50\n",
            "847/847 [==============================] - 2s 3ms/sample - loss: 1.3932 - acc: 0.7190\n",
            "31/31 [==============================] - 32s 1s/step - loss: 1.3276 - acc: 0.8512 - val_loss: 1.3925 - val_acc: 0.7190\n",
            "Epoch 39/50\n",
            "847/847 [==============================] - 2s 3ms/sample - loss: 1.3890 - acc: 0.7308\n",
            "\n",
            "Epoch 00039: val_loss improved from 1.40014 to 1.38857, saving model to ./weights/weights.mobilenet-39-1.32-1.39.hdf5\n",
            "31/31 [==============================] - 33s 1s/step - loss: 1.3230 - acc: 0.8598 - val_loss: 1.3886 - val_acc: 0.7308\n",
            "Epoch 40/50\n",
            "847/847 [==============================] - 2s 3ms/sample - loss: 1.3866 - acc: 0.7367\n",
            "31/31 [==============================] - 32s 1s/step - loss: 1.3299 - acc: 0.8416 - val_loss: 1.3863 - val_acc: 0.7367\n",
            "Epoch 41/50\n",
            "847/847 [==============================] - 3s 3ms/sample - loss: 1.3833 - acc: 0.7414\n",
            "31/31 [==============================] - 32s 1s/step - loss: 1.3270 - acc: 0.8492 - val_loss: 1.3832 - val_acc: 0.7414\n",
            "Epoch 42/50\n",
            "847/847 [==============================] - 2s 3ms/sample - loss: 1.3800 - acc: 0.7450\n",
            "\n",
            "Epoch 00042: val_loss improved from 1.38857 to 1.38004, saving model to ./weights/weights.mobilenet-42-1.32-1.38.hdf5\n",
            "31/31 [==============================] - 33s 1s/step - loss: 1.3244 - acc: 0.8558 - val_loss: 1.3800 - val_acc: 0.7450\n",
            "Epoch 43/50\n",
            "847/847 [==============================] - 2s 3ms/sample - loss: 1.3766 - acc: 0.7509\n",
            "31/31 [==============================] - 32s 1s/step - loss: 1.3206 - acc: 0.8659 - val_loss: 1.3768 - val_acc: 0.7509\n",
            "Epoch 44/50\n",
            "847/847 [==============================] - 2s 3ms/sample - loss: 1.3728 - acc: 0.7615\n",
            "31/31 [==============================] - 32s 1s/step - loss: 1.3227 - acc: 0.8558 - val_loss: 1.3728 - val_acc: 0.7615\n",
            "Epoch 45/50\n",
            "847/847 [==============================] - 2s 3ms/sample - loss: 1.3697 - acc: 0.7662\n",
            "\n",
            "Epoch 00045: val_loss improved from 1.38004 to 1.36998, saving model to ./weights/weights.mobilenet-45-1.32-1.37.hdf5\n",
            "31/31 [==============================] - 32s 1s/step - loss: 1.3214 - acc: 0.8588 - val_loss: 1.3700 - val_acc: 0.7662\n",
            "Epoch 46/50\n",
            "847/847 [==============================] - 2s 3ms/sample - loss: 1.3676 - acc: 0.7721\n",
            "31/31 [==============================] - 32s 1s/step - loss: 1.3216 - acc: 0.8558 - val_loss: 1.3679 - val_acc: 0.7721\n",
            "Epoch 47/50\n",
            "847/847 [==============================] - 2s 3ms/sample - loss: 1.3662 - acc: 0.7710\n",
            "31/31 [==============================] - 32s 1s/step - loss: 1.3225 - acc: 0.8548 - val_loss: 1.3668 - val_acc: 0.7710\n",
            "Epoch 48/50\n",
            "847/847 [==============================] - 2s 3ms/sample - loss: 1.3623 - acc: 0.7828\n",
            "\n",
            "Epoch 00048: val_loss improved from 1.36998 to 1.36254, saving model to ./weights/weights.mobilenet-48-1.32-1.36.hdf5\n",
            "31/31 [==============================] - 33s 1s/step - loss: 1.3212 - acc: 0.8588 - val_loss: 1.3625 - val_acc: 0.7828\n",
            "Epoch 49/50\n",
            "847/847 [==============================] - 2s 3ms/sample - loss: 1.3604 - acc: 0.7828\n",
            "31/31 [==============================] - 32s 1s/step - loss: 1.3159 - acc: 0.8694 - val_loss: 1.3599 - val_acc: 0.7828\n",
            "Epoch 50/50\n",
            "847/847 [==============================] - 2s 3ms/sample - loss: 1.3579 - acc: 0.7863\n",
            "31/31 [==============================] - 32s 1s/step - loss: 1.3230 - acc: 0.8502 - val_loss: 1.3567 - val_acc: 0.7863\n"
          ],
          "name": "stdout"
        }
      ]
    },
    {
      "metadata": {
        "id": "fGNLyCiwvGuU",
        "colab_type": "code",
        "colab": {}
      },
      "cell_type": "code",
      "source": [
        "plot_train_history(history)"
      ],
      "execution_count": 0,
      "outputs": []
    },
    {
      "metadata": {
        "id": "1S_xsmR5necV",
        "colab_type": "text"
      },
      "cell_type": "markdown",
      "source": [
        "### 使用 Xception"
      ]
    },
    {
      "metadata": {
        "id": "a-4OfkVGng3J",
        "colab_type": "code",
        "colab": {
          "base_uri": "https://localhost:8080/",
          "height": 51
        },
        "outputId": "e211e24d-b6e2-487a-844f-b313ad23be79"
      },
      "cell_type": "code",
      "source": [
        "images, labels = load_data()\n",
        "(x_train, y_train), (x_test, y_test), datagen = preprocess(images, labels, image_size=(299, 299), data_augmentation='idg')\n",
        "\n",
        "print((x_train.shape), (y_train.shape))\n",
        "print((x_test.shape), (y_test.shape))"
      ],
      "execution_count": 21,
      "outputs": [
        {
          "output_type": "stream",
          "text": [
            "(1976, 299, 299, 3) (1976, 5)\n",
            "(847, 299, 299, 3) (847, 5)\n"
          ],
          "name": "stdout"
        }
      ]
    },
    {
      "metadata": {
        "id": "CPnZKsD-nw8s",
        "colab_type": "code",
        "colab": {}
      },
      "cell_type": "code",
      "source": [
        "from tensorflow.keras.applications.xception import Xception\n",
        "\n",
        "\n",
        "def build_xception():\n",
        "    input = layers.Input(x_train.shape[1:])\n",
        "    base_model = Xception(include_top=True, input_tensor=input, weights='imagenet')\n",
        "    \n",
        "    model = tf.keras.Sequential([\n",
        "        base_model,\n",
        "        layers.Dense(num_classes, activation='softmax')\n",
        "    ])\n",
        "    \n",
        "    for layer in model.layers[:249]:\n",
        "        layer.trainable = True\n",
        "    \n",
        "    return model"
      ],
      "execution_count": 0,
      "outputs": []
    },
    {
      "metadata": {
        "id": "rPoSd0imopH9",
        "colab_type": "code",
        "colab": {
          "base_uri": "https://localhost:8080/",
          "height": 204
        },
        "outputId": "87a49eaa-39ad-4924-8bb6-e9960b1ed898"
      },
      "cell_type": "code",
      "source": [
        "build_xception().summary()"
      ],
      "execution_count": 23,
      "outputs": [
        {
          "output_type": "stream",
          "text": [
            "_________________________________________________________________\n",
            "Layer (type)                 Output Shape              Param #   \n",
            "=================================================================\n",
            "xception (Model)             (None, 1000)              22910480  \n",
            "_________________________________________________________________\n",
            "dense_2 (Dense)              (None, 5)                 5005      \n",
            "=================================================================\n",
            "Total params: 22,915,485\n",
            "Trainable params: 22,860,957\n",
            "Non-trainable params: 54,528\n",
            "_________________________________________________________________\n"
          ],
          "name": "stdout"
        }
      ]
    },
    {
      "metadata": {
        "id": "gYQFQR-fosHz",
        "colab_type": "code",
        "colab": {}
      },
      "cell_type": "code",
      "source": [
        "xception = build_xception()\n",
        "optimizer = tf.keras.optimizers.Adam(lr=1e-3)\n",
        "xception.compile(loss='categorical_crossentropy', metrics=['accuracy'], optimizer=optimizer)"
      ],
      "execution_count": 0,
      "outputs": []
    },
    {
      "metadata": {
        "id": "CcT2QOBBov0T",
        "colab_type": "code",
        "colab": {
          "base_uri": "https://localhost:8080/",
          "height": 494
        },
        "outputId": "9d64d042-622d-4f8a-b156-ccfb9a9a98b0"
      },
      "cell_type": "code",
      "source": [
        "batch_size = 16\n",
        "\n",
        "history = xception.fit_generator(\n",
        "    datagen.flow(x_train, y_train, batch_size=batch_size),\n",
        "    epochs=50,\n",
        "    validation_data=(x_test, y_test),\n",
        "    verbose=1,\n",
        "    steps_per_epoch=x_train.shape[0] // batch_size,\n",
        "    callbacks=get_callbacks('xception')\n",
        ")"
      ],
      "execution_count": 30,
      "outputs": [
        {
          "output_type": "stream",
          "text": [
            "Epoch 1/50\n",
            "847/847 [==============================] - 21s 25ms/sample - loss: 1.5972 - acc: 0.2739\n",
            "124/124 [==============================] - 195s 2s/step - loss: 1.5380 - acc: 0.6037 - val_loss: 1.5972 - val_acc: 0.2739\n",
            "Epoch 2/50\n",
            "847/847 [==============================] - 18s 22ms/sample - loss: 1.5693 - acc: 0.2916\n",
            "124/124 [==============================] - 187s 2s/step - loss: 1.4760 - acc: 0.5374 - val_loss: 1.5691 - val_acc: 0.2916\n",
            "Epoch 3/50\n",
            " 39/124 [========>.....................] - ETA: 1:54 - loss: 1.4127 - acc: 0.6218"
          ],
          "name": "stdout"
        },
        {
          "output_type": "error",
          "ename": "KeyboardInterrupt",
          "evalue": "ignored",
          "traceback": [
            "\u001b[0;31m---------------------------------------------------------------------------\u001b[0m",
            "\u001b[0;31mKeyboardInterrupt\u001b[0m                         Traceback (most recent call last)",
            "\u001b[0;32m<ipython-input-30-4ed259667652>\u001b[0m in \u001b[0;36m<module>\u001b[0;34m()\u001b[0m\n\u001b[1;32m      7\u001b[0m     \u001b[0mverbose\u001b[0m\u001b[0;34m=\u001b[0m\u001b[0;36m1\u001b[0m\u001b[0;34m,\u001b[0m\u001b[0;34m\u001b[0m\u001b[0;34m\u001b[0m\u001b[0m\n\u001b[1;32m      8\u001b[0m     \u001b[0msteps_per_epoch\u001b[0m\u001b[0;34m=\u001b[0m\u001b[0mx_train\u001b[0m\u001b[0;34m.\u001b[0m\u001b[0mshape\u001b[0m\u001b[0;34m[\u001b[0m\u001b[0;36m0\u001b[0m\u001b[0;34m]\u001b[0m \u001b[0;34m//\u001b[0m \u001b[0mbatch_size\u001b[0m\u001b[0;34m,\u001b[0m\u001b[0;34m\u001b[0m\u001b[0;34m\u001b[0m\u001b[0m\n\u001b[0;32m----> 9\u001b[0;31m     \u001b[0mcallbacks\u001b[0m\u001b[0;34m=\u001b[0m\u001b[0mget_callbacks\u001b[0m\u001b[0;34m(\u001b[0m\u001b[0;34m'xception'\u001b[0m\u001b[0;34m)\u001b[0m\u001b[0;34m\u001b[0m\u001b[0;34m\u001b[0m\u001b[0m\n\u001b[0m\u001b[1;32m     10\u001b[0m )\n",
            "\u001b[0;32m/usr/local/lib/python3.6/dist-packages/tensorflow/python/keras/engine/training.py\u001b[0m in \u001b[0;36mfit_generator\u001b[0;34m(self, generator, steps_per_epoch, epochs, verbose, callbacks, validation_data, validation_steps, class_weight, max_queue_size, workers, use_multiprocessing, shuffle, initial_epoch)\u001b[0m\n\u001b[1;32m   1424\u001b[0m         \u001b[0muse_multiprocessing\u001b[0m\u001b[0;34m=\u001b[0m\u001b[0muse_multiprocessing\u001b[0m\u001b[0;34m,\u001b[0m\u001b[0;34m\u001b[0m\u001b[0;34m\u001b[0m\u001b[0m\n\u001b[1;32m   1425\u001b[0m         \u001b[0mshuffle\u001b[0m\u001b[0;34m=\u001b[0m\u001b[0mshuffle\u001b[0m\u001b[0;34m,\u001b[0m\u001b[0;34m\u001b[0m\u001b[0;34m\u001b[0m\u001b[0m\n\u001b[0;32m-> 1426\u001b[0;31m         initial_epoch=initial_epoch)\n\u001b[0m\u001b[1;32m   1427\u001b[0m \u001b[0;34m\u001b[0m\u001b[0m\n\u001b[1;32m   1428\u001b[0m   def evaluate_generator(self,\n",
            "\u001b[0;32m/usr/local/lib/python3.6/dist-packages/tensorflow/python/keras/engine/training_generator.py\u001b[0m in \u001b[0;36mmodel_iteration\u001b[0;34m(model, data, steps_per_epoch, epochs, verbose, callbacks, validation_data, validation_steps, class_weight, max_queue_size, workers, use_multiprocessing, shuffle, initial_epoch, mode, batch_size, **kwargs)\u001b[0m\n\u001b[1;32m    189\u001b[0m       \u001b[0mprogbar\u001b[0m\u001b[0;34m.\u001b[0m\u001b[0mon_batch_begin\u001b[0m\u001b[0;34m(\u001b[0m\u001b[0mstep\u001b[0m\u001b[0;34m,\u001b[0m \u001b[0mbatch_logs\u001b[0m\u001b[0;34m)\u001b[0m\u001b[0;34m\u001b[0m\u001b[0;34m\u001b[0m\u001b[0m\n\u001b[1;32m    190\u001b[0m \u001b[0;34m\u001b[0m\u001b[0m\n\u001b[0;32m--> 191\u001b[0;31m       \u001b[0mbatch_outs\u001b[0m \u001b[0;34m=\u001b[0m \u001b[0mbatch_function\u001b[0m\u001b[0;34m(\u001b[0m\u001b[0;34m*\u001b[0m\u001b[0mbatch_data\u001b[0m\u001b[0;34m)\u001b[0m\u001b[0;34m\u001b[0m\u001b[0;34m\u001b[0m\u001b[0m\n\u001b[0m\u001b[1;32m    192\u001b[0m       \u001b[0;32mif\u001b[0m \u001b[0;32mnot\u001b[0m \u001b[0misinstance\u001b[0m\u001b[0;34m(\u001b[0m\u001b[0mbatch_outs\u001b[0m\u001b[0;34m,\u001b[0m \u001b[0mlist\u001b[0m\u001b[0;34m)\u001b[0m\u001b[0;34m:\u001b[0m\u001b[0;34m\u001b[0m\u001b[0;34m\u001b[0m\u001b[0m\n\u001b[1;32m    193\u001b[0m         \u001b[0mbatch_outs\u001b[0m \u001b[0;34m=\u001b[0m \u001b[0;34m[\u001b[0m\u001b[0mbatch_outs\u001b[0m\u001b[0;34m]\u001b[0m\u001b[0;34m\u001b[0m\u001b[0;34m\u001b[0m\u001b[0m\n",
            "\u001b[0;32m/usr/local/lib/python3.6/dist-packages/tensorflow/python/keras/engine/training.py\u001b[0m in \u001b[0;36mtrain_on_batch\u001b[0;34m(self, x, y, sample_weight, class_weight, reset_metrics)\u001b[0m\n\u001b[1;32m   1189\u001b[0m       \u001b[0;32melse\u001b[0m\u001b[0;34m:\u001b[0m\u001b[0;34m\u001b[0m\u001b[0;34m\u001b[0m\u001b[0m\n\u001b[1;32m   1190\u001b[0m         \u001b[0mself\u001b[0m\u001b[0;34m.\u001b[0m\u001b[0m_make_fit_function\u001b[0m\u001b[0;34m(\u001b[0m\u001b[0;34m)\u001b[0m\u001b[0;34m\u001b[0m\u001b[0;34m\u001b[0m\u001b[0m\n\u001b[0;32m-> 1191\u001b[0;31m         \u001b[0moutputs\u001b[0m \u001b[0;34m=\u001b[0m \u001b[0mself\u001b[0m\u001b[0;34m.\u001b[0m\u001b[0m_fit_function\u001b[0m\u001b[0;34m(\u001b[0m\u001b[0mins\u001b[0m\u001b[0;34m)\u001b[0m  \u001b[0;31m# pylint: disable=not-callable\u001b[0m\u001b[0;34m\u001b[0m\u001b[0;34m\u001b[0m\u001b[0m\n\u001b[0m\u001b[1;32m   1192\u001b[0m \u001b[0;34m\u001b[0m\u001b[0m\n\u001b[1;32m   1193\u001b[0m     \u001b[0;32mif\u001b[0m \u001b[0mreset_metrics\u001b[0m\u001b[0;34m:\u001b[0m\u001b[0;34m\u001b[0m\u001b[0;34m\u001b[0m\u001b[0m\n",
            "\u001b[0;32m/usr/local/lib/python3.6/dist-packages/tensorflow/python/keras/backend.py\u001b[0m in \u001b[0;36m__call__\u001b[0;34m(self, inputs)\u001b[0m\n\u001b[1;32m   3074\u001b[0m \u001b[0;34m\u001b[0m\u001b[0m\n\u001b[1;32m   3075\u001b[0m     fetched = self._callable_fn(*array_vals,\n\u001b[0;32m-> 3076\u001b[0;31m                                 run_metadata=self.run_metadata)\n\u001b[0m\u001b[1;32m   3077\u001b[0m     \u001b[0mself\u001b[0m\u001b[0;34m.\u001b[0m\u001b[0m_call_fetch_callbacks\u001b[0m\u001b[0;34m(\u001b[0m\u001b[0mfetched\u001b[0m\u001b[0;34m[\u001b[0m\u001b[0;34m-\u001b[0m\u001b[0mlen\u001b[0m\u001b[0;34m(\u001b[0m\u001b[0mself\u001b[0m\u001b[0;34m.\u001b[0m\u001b[0m_fetches\u001b[0m\u001b[0;34m)\u001b[0m\u001b[0;34m:\u001b[0m\u001b[0;34m]\u001b[0m\u001b[0;34m)\u001b[0m\u001b[0;34m\u001b[0m\u001b[0;34m\u001b[0m\u001b[0m\n\u001b[1;32m   3078\u001b[0m     return nest.pack_sequence_as(self._outputs_structure,\n",
            "\u001b[0;32m/usr/local/lib/python3.6/dist-packages/tensorflow/python/client/session.py\u001b[0m in \u001b[0;36m__call__\u001b[0;34m(self, *args, **kwargs)\u001b[0m\n\u001b[1;32m   1437\u001b[0m           ret = tf_session.TF_SessionRunCallable(\n\u001b[1;32m   1438\u001b[0m               \u001b[0mself\u001b[0m\u001b[0;34m.\u001b[0m\u001b[0m_session\u001b[0m\u001b[0;34m.\u001b[0m\u001b[0m_session\u001b[0m\u001b[0;34m,\u001b[0m \u001b[0mself\u001b[0m\u001b[0;34m.\u001b[0m\u001b[0m_handle\u001b[0m\u001b[0;34m,\u001b[0m \u001b[0margs\u001b[0m\u001b[0;34m,\u001b[0m \u001b[0mstatus\u001b[0m\u001b[0;34m,\u001b[0m\u001b[0;34m\u001b[0m\u001b[0;34m\u001b[0m\u001b[0m\n\u001b[0;32m-> 1439\u001b[0;31m               run_metadata_ptr)\n\u001b[0m\u001b[1;32m   1440\u001b[0m         \u001b[0;32mif\u001b[0m \u001b[0mrun_metadata\u001b[0m\u001b[0;34m:\u001b[0m\u001b[0;34m\u001b[0m\u001b[0;34m\u001b[0m\u001b[0m\n\u001b[1;32m   1441\u001b[0m           \u001b[0mproto_data\u001b[0m \u001b[0;34m=\u001b[0m \u001b[0mtf_session\u001b[0m\u001b[0;34m.\u001b[0m\u001b[0mTF_GetBuffer\u001b[0m\u001b[0;34m(\u001b[0m\u001b[0mrun_metadata_ptr\u001b[0m\u001b[0;34m)\u001b[0m\u001b[0;34m\u001b[0m\u001b[0;34m\u001b[0m\u001b[0m\n",
            "\u001b[0;31mKeyboardInterrupt\u001b[0m: "
          ]
        }
      ]
    },
    {
      "metadata": {
        "id": "q5DLlorg9-YT",
        "colab_type": "code",
        "colab": {}
      },
      "cell_type": "code",
      "source": [
        "plot_train_history(history)"
      ],
      "execution_count": 0,
      "outputs": []
    },
    {
      "metadata": {
        "id": "-to_O9brlwSE",
        "colab_type": "text"
      },
      "cell_type": "markdown",
      "source": [
        "## 提交"
      ]
    },
    {
      "metadata": {
        "id": "VjHu6E8wBf9M",
        "colab_type": "code",
        "outputId": "d66d3ca6-8b3b-4205-a1c6-8dbfd926d69a",
        "colab": {
          "base_uri": "https://localhost:8080/",
          "height": 51
        }
      },
      "cell_type": "code",
      "source": [
        "recover_model('weights.mobilenet-30-1.31-1.39').evaluate(x_test, y_test)"
      ],
      "execution_count": 39,
      "outputs": [
        {
          "output_type": "stream",
          "text": [
            "847/847 [==============================] - 4s 5ms/sample - loss: 1.3646 - acc: 0.8076\n"
          ],
          "name": "stdout"
        },
        {
          "output_type": "execute_result",
          "data": {
            "text/plain": [
              "[1.3646023290357172, 0.8075561]"
            ]
          },
          "metadata": {
            "tags": []
          },
          "execution_count": 39
        }
      ]
    },
    {
      "metadata": {
        "id": "cEtkAFCyFM7B",
        "colab_type": "code",
        "colab": {}
      },
      "cell_type": "code",
      "source": [
        "ids = load_test_ids()\n",
        "model = recover_model('weights.mobilenet-30-1.31-1.39')\n",
        "# model = custom_cnn\n",
        "result = evaluate(ids, image_size=(224, 224))"
      ],
      "execution_count": 0,
      "outputs": []
    },
    {
      "metadata": {
        "id": "eyGlgxhKHpnu",
        "colab_type": "code",
        "colab": {}
      },
      "cell_type": "code",
      "source": [
        "pred = np.argmax(result, axis=1)"
      ],
      "execution_count": 0,
      "outputs": []
    },
    {
      "metadata": {
        "id": "vGg-r8kyHRsd",
        "colab_type": "code",
        "colab": {}
      },
      "cell_type": "code",
      "source": [
        "submission = to_submit(ids, pred)"
      ],
      "execution_count": 0,
      "outputs": []
    },
    {
      "metadata": {
        "id": "kaH1mFlZIcfI",
        "colab_type": "code",
        "colab": {}
      },
      "cell_type": "code",
      "source": [
        "np.savetxt('submission.csv', submission, delimiter=',', fmt='%s')"
      ],
      "execution_count": 0,
      "outputs": []
    },
    {
      "metadata": {
        "id": "_d4WnuJL7HM3",
        "colab_type": "code",
        "colab": {}
      },
      "cell_type": "code",
      "source": [
        ""
      ],
      "execution_count": 0,
      "outputs": []
    }
  ]
}